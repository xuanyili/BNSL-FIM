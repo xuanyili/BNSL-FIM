{
 "cells": [
  {
   "cell_type": "code",
   "execution_count": 152,
   "id": "complete-tuner",
   "metadata": {
    "scrolled": false
   },
   "outputs": [
    {
     "name": "stdout",
     "output_type": "stream",
     "text": [
      "[0.002]\n"
     ]
    },
    {
     "data": {
      "image/png": "[encoded data removed]",
      "text/plain": [
       "<Figure size 576x360 with 1 Axes>"
      ]
     },
     "metadata": {
      "needs_background": "light"
     },
     "output_type": "display_data"
    }
   ],
   "source": [
    "import pandas as pd\n",
    "import numpy as np\n",
    "#final_data=pd.read_csv('final_data_2.csv')\n",
    "final_data=pd.read_csv('final_03071alarm.csv')\n",
    "#final_data_1=pd.read_csv('final_03054hailfinder.csv')\n",
    "#final_data_2=pd.read_csv('final_03053hailfinder.csv')\n",
    "\n",
    "#final_data=final_data.append(final_data_1)\n",
    "#final_data=final_data.append(final_data_2)\n",
    "\n",
    "#final_data.to_csv('ffffinal_data_hailfinder.csv')\n",
    "from pandas.plotting import parallel_coordinates\n",
    "import matplotlib.pyplot as plt\n",
    "\n",
    "plot_data=pd.DataFrame()\n",
    "plot_data['type']=['with-prior','without-prior']\n",
    "\n",
    "weights=final_data['weight'].unique()\n",
    "sample_sizes=final_data['sample_size'].unique()\n",
    "weights.sort()\n",
    "sample_sizes.sort()\n",
    "print(weights)\n",
    "for weight in weights:\n",
    "    for sample_size in sample_sizes:\n",
    "        plot_data[sample_size]=[np.mean(final_data.loc[(final_data['weight'] == weight) & (final_data['sample_size'] == sample_size), 'priori_dis']),\n",
    "                               np.mean(final_data.loc[(final_data['weight'] == weight) & (final_data['sample_size'] == sample_size), 'origin_dis'])]\n",
    "\n",
    "    plt.figure(figsize=(8,5))\n",
    "    parallel_coordinates(plot_data,'type')"
   ]
  },
  {
   "cell_type": "code",
   "execution_count": 153,
   "id": "lightweight-charger",
   "metadata": {},
   "outputs": [
    {
     "name": "stdout",
     "output_type": "stream",
     "text": [
      "[0.002] [ 100  300  500  800 1000 3000 5000]\n"
     ]
    },
    {
     "data": {
      "text/html": [
       "<div>\n",
       "<style scoped>\n",
       "    .dataframe tbody tr th:only-of-type {\n",
       "        vertical-align: middle;\n",
       "    }\n",
       "\n",
       "    .dataframe tbody tr th {\n",
       "        vertical-align: top;\n",
       "    }\n",
       "\n",
       "    .dataframe thead th {\n",
       "        text-align: right;\n",
       "    }\n",
       "</style>\n",
       "<table border=\"1\" class=\"dataframe\">\n",
       "  <thead>\n",
       "    <tr style=\"text-align: right;\">\n",
       "      <th></th>\n",
       "      <th>weight</th>\n",
       "      <th>sample_size</th>\n",
       "      <th>priori</th>\n",
       "      <th>origin</th>\n",
       "    </tr>\n",
       "  </thead>\n",
       "  <tbody>\n",
       "    <tr>\n",
       "      <th>0</th>\n",
       "      <td>0.002</td>\n",
       "      <td>100</td>\n",
       "      <td>83.0</td>\n",
       "      <td>83.9</td>\n",
       "    </tr>\n",
       "    <tr>\n",
       "      <th>0</th>\n",
       "      <td>0.002</td>\n",
       "      <td>300</td>\n",
       "      <td>70.9</td>\n",
       "      <td>71.7</td>\n",
       "    </tr>\n",
       "    <tr>\n",
       "      <th>0</th>\n",
       "      <td>0.002</td>\n",
       "      <td>500</td>\n",
       "      <td>57.5</td>\n",
       "      <td>57.6</td>\n",
       "    </tr>\n",
       "    <tr>\n",
       "      <th>0</th>\n",
       "      <td>0.002</td>\n",
       "      <td>800</td>\n",
       "      <td>55.8</td>\n",
       "      <td>56.5</td>\n",
       "    </tr>\n",
       "    <tr>\n",
       "      <th>0</th>\n",
       "      <td>0.002</td>\n",
       "      <td>1000</td>\n",
       "      <td>51.8</td>\n",
       "      <td>52.1</td>\n",
       "    </tr>\n",
       "    <tr>\n",
       "      <th>0</th>\n",
       "      <td>0.002</td>\n",
       "      <td>3000</td>\n",
       "      <td>47.8</td>\n",
       "      <td>47.8</td>\n",
       "    </tr>\n",
       "    <tr>\n",
       "      <th>0</th>\n",
       "      <td>0.002</td>\n",
       "      <td>5000</td>\n",
       "      <td>43.2</td>\n",
       "      <td>43.2</td>\n",
       "    </tr>\n",
       "  </tbody>\n",
       "</table>\n",
       "</div>"
      ],
      "text/plain": [
       "   weight  sample_size  priori  origin\n",
       "0   0.002          100    83.0    83.9\n",
       "0   0.002          300    70.9    71.7\n",
       "0   0.002          500    57.5    57.6\n",
       "0   0.002          800    55.8    56.5\n",
       "0   0.002         1000    51.8    52.1\n",
       "0   0.002         3000    47.8    47.8\n",
       "0   0.002         5000    43.2    43.2"
      ]
     },
     "execution_count": 153,
     "metadata": {},
     "output_type": "execute_result"
    }
   ],
   "source": [
    "mean_data=pd.DataFrame()\n",
    "tmp_data=pd.DataFrame()\n",
    "weights=final_data['weight'].unique()\n",
    "sample_sizes=final_data['sample_size'].unique()\n",
    "print(weights,sample_sizes)\n",
    "weights.sort()\n",
    "sample_sizes.sort()\n",
    "weight=0.002\n",
    "\n",
    "for sample_size in sample_sizes:\n",
    "    tmp_data['weight']=[weight]\n",
    "    tmp_data['sample_size']=[sample_size]\n",
    "    tmp_data['priori']=np.mean(final_data.loc[(final_data['weight'] == weight) & (final_data['sample_size'] == sample_size), 'priori_dis'])\n",
    "    tmp_data['origin']=np.mean(final_data.loc[(final_data['weight'] == weight) & (final_data['sample_size'] == sample_size), 'origin_dis'])\n",
    "    mean_data=mean_data.append(tmp_data)\n",
    "mean_data"
   ]
  },
  {
   "cell_type": "code",
   "execution_count": 130,
   "id": "entertaining-genre",
   "metadata": {},
   "outputs": [
    {
     "data": {
      "text/html": [
       "<div>\n",
       "<style scoped>\n",
       "    .dataframe tbody tr th:only-of-type {\n",
       "        vertical-align: middle;\n",
       "    }\n",
       "\n",
       "    .dataframe tbody tr th {\n",
       "        vertical-align: top;\n",
       "    }\n",
       "\n",
       "    .dataframe thead th {\n",
       "        text-align: right;\n",
       "    }\n",
       "</style>\n",
       "<table border=\"1\" class=\"dataframe\">\n",
       "  <thead>\n",
       "    <tr style=\"text-align: right;\">\n",
       "      <th></th>\n",
       "      <th>weight</th>\n",
       "      <th>sample_size</th>\n",
       "      <th>priori</th>\n",
       "      <th>origin</th>\n",
       "    </tr>\n",
       "  </thead>\n",
       "  <tbody>\n",
       "    <tr>\n",
       "      <th>0</th>\n",
       "      <td>0.02</td>\n",
       "      <td>100</td>\n",
       "      <td>340.179453</td>\n",
       "      <td>338.881707</td>\n",
       "    </tr>\n",
       "    <tr>\n",
       "      <th>0</th>\n",
       "      <td>0.02</td>\n",
       "      <td>300</td>\n",
       "      <td>699.146834</td>\n",
       "      <td>695.278301</td>\n",
       "    </tr>\n",
       "    <tr>\n",
       "      <th>0</th>\n",
       "      <td>0.02</td>\n",
       "      <td>500</td>\n",
       "      <td>967.390470</td>\n",
       "      <td>962.553704</td>\n",
       "    </tr>\n",
       "    <tr>\n",
       "      <th>0</th>\n",
       "      <td>0.02</td>\n",
       "      <td>800</td>\n",
       "      <td>1286.285080</td>\n",
       "      <td>1282.365586</td>\n",
       "    </tr>\n",
       "    <tr>\n",
       "      <th>0</th>\n",
       "      <td>0.02</td>\n",
       "      <td>1000</td>\n",
       "      <td>1435.971385</td>\n",
       "      <td>1429.852187</td>\n",
       "    </tr>\n",
       "    <tr>\n",
       "      <th>0</th>\n",
       "      <td>0.02</td>\n",
       "      <td>3000</td>\n",
       "      <td>2353.293534</td>\n",
       "      <td>2327.024255</td>\n",
       "    </tr>\n",
       "    <tr>\n",
       "      <th>0</th>\n",
       "      <td>0.02</td>\n",
       "      <td>5000</td>\n",
       "      <td>2708.896701</td>\n",
       "      <td>2678.907076</td>\n",
       "    </tr>\n",
       "  </tbody>\n",
       "</table>\n",
       "</div>"
      ],
      "text/plain": [
       "   weight  sample_size       priori       origin\n",
       "0    0.02          100   340.179453   338.881707\n",
       "0    0.02          300   699.146834   695.278301\n",
       "0    0.02          500   967.390470   962.553704\n",
       "0    0.02          800  1286.285080  1282.365586\n",
       "0    0.02         1000  1435.971385  1429.852187\n",
       "0    0.02         3000  2353.293534  2327.024255\n",
       "0    0.02         5000  2708.896701  2678.907076"
      ]
     },
     "execution_count": 130,
     "metadata": {},
     "output_type": "execute_result"
    }
   ],
   "source": [
    "score_data=pd.DataFrame()\n",
    "tmps_data=pd.DataFrame()\n",
    "weights=final_data['weight'].unique()\n",
    "sample_sizes=final_data['sample_size'].unique()\n",
    "\n",
    "weights.sort()\n",
    "sample_sizes.sort()\n",
    "weight=0.02\n",
    "\n",
    "for sample_size in sample_sizes:\n",
    "    tmps_data['weight']=[weight]\n",
    "    tmps_data['sample_size']=[sample_size]\n",
    "    tmp_data_p=np.mean(final_data.loc[(final_data['weight'] == weight) & (final_data['sample_size'] == sample_size), 'best_priori_score'])\n",
    "    tmp_data_o=np.mean(final_data.loc[(final_data['weight'] == weight) & (final_data['sample_size'] == sample_size), 'best_origin_score'])\n",
    "    tmp_orign=np.mean(final_data.loc[(final_data['weight'] == weight) & (final_data['sample_size'] == sample_size), 'origin_score'])\n",
    "    tmps_data['priori']=abs(tmp_data_p-tmp_orign)\n",
    "    tmps_data['origin']=abs(tmp_data_o-tmp_orign)\n",
    "    score_data=score_data.append(tmps_data)\n",
    "score_data"
   ]
  },
  {
   "cell_type": "code",
   "execution_count": 131,
   "id": "buried-sweden",
   "metadata": {},
   "outputs": [
    {
     "name": "stdout",
     "output_type": "stream",
     "text": [
      "[0.02]\n"
     ]
    },
    {
     "data": {
      "image/png": "[encoded data removed]",
      "text/plain": [
       "<Figure size 576x360 with 1 Axes>"
      ]
     },
     "metadata": {
      "needs_background": "light"
     },
     "output_type": "display_data"
    }
   ],
   "source": [
    "from pandas.plotting import parallel_coordinates\n",
    "import matplotlib.pyplot as plt\n",
    "\n",
    "plot_data=pd.DataFrame()\n",
    "plot_data['type']=['with-prior','without-prior']\n",
    "\n",
    "weights=final_data['weight'].unique()\n",
    "sample_sizes=final_data['sample_size'].unique()\n",
    "weights.sort()\n",
    "sample_sizes.sort()\n",
    "print(weights)\n",
    "for weight in weights:\n",
    "    for sample_size in sample_sizes:\n",
    "        plot_data[sample_size]=[score_data.loc[(score_data['sample_size']==sample_size),'priori'],\n",
    "                               score_data.loc[(score_data['sample_size']==sample_size),'origin']]\n",
    "\n",
    "    plt.figure(figsize=(8,5))\n",
    "    parallel_coordinates(plot_data,'type')"
   ]
  }
 ],
 "metadata": {
  "kernelspec": {
   "display_name": "Python 3",
   "language": "python",
   "name": "python3"
  },
  "language_info": {
   "codemirror_mode": {
    "name": "ipython",
    "version": 3
   },
   "file_extension": ".py",
   "mimetype": "text/x-python",
   "name": "python",
   "nbconvert_exporter": "python",
   "pygments_lexer": "ipython3",
   "version": "3.7.9"
  }
 },
 "nbformat": 4,
 "nbformat_minor": 5
}
