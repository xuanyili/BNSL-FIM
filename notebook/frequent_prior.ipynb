{
 "cells": [
  {
   "cell_type": "code",
   "execution_count": 1,
   "id": "through-fusion",
   "metadata": {},
   "outputs": [],
   "source": [
    "sample_sizes = [100,300,500,800,1000,3000,5000]\n",
    "weights = [0.08]\n",
    "min_s = 0.6\n",
    "min_c = 0.9\n",
    "origin_data = \"sachs\"\n",
    "bif_data = origin_data + \".bif\"\n",
    "sample_csv_data = origin_data + \".csv\"\n",
    "final_csv_data = \"final_03071\"+ origin_data + \".csv\""
   ]
  },
  {
   "cell_type": "code",
   "execution_count": 2,
   "id": "thorough-greece",
   "metadata": {},
   "outputs": [
    {
     "name": "stderr",
     "output_type": "stream",
     "text": [
      "/bin/anaconda3/envs/beyes/lib/python3.7/site-packages/torch/cuda/__init__.py:52: UserWarning: CUDA initialization: Found no NVIDIA driver on your system. Please check that you have an NVIDIA GPU and installed a driver from http://www.nvidia.com/Download/index.aspx (Triggered internally at  /pytorch/c10/cuda/CUDAFunctions.cpp:100.)\n",
      "  return torch._C._cuda_getDeviceCount() > 0\n"
     ]
    }
   ],
   "source": [
    "from pgmpy.estimators import StructureScore\n",
    "from scipy.special import gammaln\n",
    "from math import lgamma, log\n",
    "class BDeuScore_pt(StructureScore):\n",
    "    def __init__(self, data, priori_subgraph, black_priori_subgraph, weight, equivalent_sample_size=10, **kwargs):\n",
    "        \"\"\"\n",
    "        Class for Bayesian structure scoring for BayesianModels with Dirichlet priors.\n",
    "        The BDeu score is the result of setting all Dirichlet hyperparameters/pseudo_counts to\n",
    "        `equivalent_sample_size/variable_cardinality`.\n",
    "        The `score`-method measures how well a model is able to describe the given data set.\n",
    "        Parameters\n",
    "        ----------\n",
    "        data: pandas DataFrame object\n",
    "            datafame object where each column represents one variable.\n",
    "            (If some values in the data are missing the data cells should be set to `numpy.NaN`.\n",
    "            Note that pandas converts each column containing `numpy.NaN`s to dtype `float`.)\n",
    "        equivalent_sample_size: int (default: 10)\n",
    "            The equivalent/imaginary sample size (of uniform pseudo samples) for the dirichlet hyperparameters.\n",
    "            The score is sensitive to this value, runs with different values might be useful.\n",
    "        state_names: dict (optional)\n",
    "            A dict indicating, for each variable, the discrete set of states (or values)\n",
    "            that the variable can take. If unspecified, the observed values in the data set\n",
    "            are taken to be the only possible states.\n",
    "        complete_samples_only: bool (optional, default `True`)\n",
    "            Specifies how to deal with missing data, if present. If set to `True` all rows\n",
    "            that contain `np.Nan` somewhere are ignored. If `False` then, for each variable,\n",
    "            every row where neither the variable nor its parents are `np.NaN` is used.\n",
    "            This sets the behavior of the `state_count`-method.\n",
    "        References\n",
    "        ---------\n",
    "        [1] Koller & Friedman, Probabilistic Graphical Models - Principles and Techniques, 2009\n",
    "        Section 18.3.4-18.3.6 (esp. page 806)\n",
    "        [2] AM Carvalho, Scoring functions for learning Bayesian networks,\n",
    "        http://www.lx.it.pt/~asmc/pub/talks/09-TA/ta_pres.pdf\n",
    "        \"\"\"\n",
    "        self.equivalent_sample_size = equivalent_sample_size\n",
    "        self.priori_subgraph = priori_subgraph\n",
    "        self.black_priori_subgraph = black_priori_subgraph\n",
    "        self.weight = weight\n",
    "        super(BDeuScore_pt, self).__init__(data, **kwargs)\n",
    "\n",
    "    def local_score(self, variable, parents):\n",
    "        'Computes a score that measures how much a \\\n",
    "        given variable is \"influenced\" by a given list of potential parents.'\n",
    "\n",
    "        var_states = self.state_names[variable]\n",
    "        var_cardinality = len(var_states)\n",
    "        state_counts = self.state_counts(variable, parents)\n",
    "        num_parents_states = float(state_counts.shape[1])\n",
    "\n",
    "        counts = np.asarray(state_counts)\n",
    "        log_gamma_counts = np.zeros_like(counts, dtype=np.float_)\n",
    "\n",
    "        alpha = self.equivalent_sample_size / num_parents_states\n",
    "        beta = self.equivalent_sample_size / counts.size\n",
    "\n",
    "        # Compute log(gamma(counts + beta))\n",
    "        gammaln(counts + beta, out=log_gamma_counts)\n",
    "\n",
    "        # Compute the log-gamma conditional sample size\n",
    "        log_gamma_conds = np.sum(counts, axis=0, dtype=np.float_)\n",
    "        gammaln(log_gamma_conds + alpha, out=log_gamma_conds)\n",
    "        \n",
    "        s = 0\n",
    "        #print(\"parents:\")\n",
    "        #print(parents)\n",
    "        for parent in parents:\n",
    "            edge = (parent,variable)\n",
    "            if edge in self.priori_subgraph:\n",
    "                s += self.weight\n",
    "                #print(edge, s, counts)\n",
    "            elif edge in self.black_priori_subgraph:\n",
    "                s -= self.weight\n",
    "\n",
    "        score = (\n",
    "            np.sum(log_gamma_counts)\n",
    "            - np.sum(log_gamma_conds)\n",
    "            + num_parents_states * lgamma(alpha)\n",
    "            - counts.size * lgamma(beta)\n",
    "            + counts.size * s\n",
    "        )\n",
    "        #print(lgamma(beta))\n",
    "        return score"
   ]
  },
  {
   "cell_type": "code",
   "execution_count": 3,
   "id": "national-amateur",
   "metadata": {},
   "outputs": [],
   "source": [
    "def hmdis(model, model1):\n",
    "    rev = 0\n",
    "    sam = 0\n",
    "    dis = 0\n",
    "    model_len = len(model)\n",
    "    model1_len = len(model1)\n",
    "    for itemset in model:\n",
    "        itemset1 = (itemset[1], itemset[0])\n",
    "        if itemset in model1:\n",
    "            #print(itemset)\n",
    "            sam += 1\n",
    "        elif itemset1 in model1:\n",
    "            rev += 1\n",
    "    dis = model_len + model1_len - 2*sam - rev\n",
    "    return dis"
   ]
  },
  {
   "cell_type": "code",
   "execution_count": 4,
   "id": "infinite-space",
   "metadata": {},
   "outputs": [],
   "source": [
    "def data_processer(sample_size):\n",
    "    gum.generateCSV(bn_o,os.path.join(\"/root\",sample_csv_data),sample_size,True)\n",
    "    data1=pd.read_csv(\"/root/\" + sample_csv_data)\n",
    "    for index, row in data1.iteritems():\n",
    "        if data1[index].max()>1:\n",
    "            #print(index)\n",
    "            count0=0\n",
    "            count1=0\n",
    "            for indexrow, row in data1.iterrows():\n",
    "                #print(row)\n",
    "                if row[index]<data1[index].max()/2:\n",
    "                    row[index]=0\n",
    "                    count0=count0+1\n",
    "                else:\n",
    "                    row[index]=1\n",
    "                    count1=count1+1\n",
    "            #print(count0,count1)\n",
    "        else:\n",
    "            #print(index)\n",
    "            count0=0\n",
    "            count1=0\n",
    "            for indexrow, row in data1.iterrows():\n",
    "                #print(row)\n",
    "                if row[index]==0:\n",
    "                    count0=count0+1\n",
    "                else:\n",
    "                    count1=count1+1\n",
    "            #print(count0,count1)\n",
    "    return data1"
   ]
  },
  {
   "cell_type": "code",
   "execution_count": 5,
   "id": "amber-manor",
   "metadata": {},
   "outputs": [],
   "source": [
    "from mlxtend.frequent_patterns import apriori\n",
    "from mlxtend.frequent_patterns import association_rules\n",
    "def min_frequent_item(data1):\n",
    "    frequent_itemsets = apriori(data1, min_support=min_s, use_colnames=True)\n",
    "    frequent_itemsets['length'] = frequent_itemsets['itemsets'].apply(lambda x: len(x))\n",
    "    return frequent_itemsets"
   ]
  },
  {
   "cell_type": "code",
   "execution_count": 6,
   "id": "metallic-chick",
   "metadata": {},
   "outputs": [],
   "source": [
    "import itertools\n",
    "def min_ass_subgraph(frequent_itemsets):\n",
    "    frequent_itemsets_ass=frequent_itemsets[frequent_itemsets['length']<=2]\n",
    "    rules = association_rules(frequent_itemsets_ass, min_threshold=0.7)\n",
    "    rules = rules[rules['confidence']>=min_c]\n",
    "    #print(rules)\n",
    "    ass_subgraph = []\n",
    "    for index,rule in rules.iterrows():\n",
    "        x=(list(rule['antecedents'])[0],list(rule['consequents'])[0])\n",
    "        ass_subgraph.append(x)\n",
    "    print(ass_subgraph)\n",
    "    return ass_subgraph"
   ]
  },
  {
   "cell_type": "code",
   "execution_count": 7,
   "id": "unknown-album",
   "metadata": {},
   "outputs": [],
   "source": [
    "def min_max_fre_itemsets(frequent_itemsets):\n",
    "    frequent_itemsets_new=frequent_itemsets[frequent_itemsets['length']>1]\n",
    "    max_fre_itemsets = []\n",
    "    flag = False\n",
    "    frequent_itemsets_new = frequent_itemsets_new.sort_values(by=\"length\", ascending=False)\n",
    "    for index,itemset in frequent_itemsets_new.iterrows():\n",
    "        #print(itemset['itemsets'])\n",
    "        for max_fre_itemset in max_fre_itemsets:\n",
    "            if itemset['itemsets'].issubset(max_fre_itemset):\n",
    "                flag = True\n",
    "                break\n",
    "        if not flag:\n",
    "            max_fre_itemsets.append(itemset['itemsets'])\n",
    "            #print(max_fre_itemsets)\n",
    "        else:\n",
    "            flag = False\n",
    "    #for x in max_fre_itemsets[0]:\n",
    "        #print(x)\n",
    "    print(max_fre_itemsets)\n",
    "    return max_fre_itemsets"
   ]
  },
  {
   "cell_type": "code",
   "execution_count": 8,
   "id": "caroline-lithuania",
   "metadata": {},
   "outputs": [],
   "source": [
    "def priori_structrue_PC(max_fre_itemsets,ass_subgraph):\n",
    "    data=pd.read_csv(\"/root/\" + sample_csv_data)\n",
    "    priori_subgraph = []\n",
    "    for i in range(0,len(max_fre_itemsets)):\n",
    "        node=[]\n",
    "        df_node=pd.DataFrame()\n",
    "        for x in max_fre_itemsets[i]:\n",
    "            node.append(x)\n",
    "        #print(node)\n",
    "        df_node=data[node]\n",
    "        c = PC(df_node)\n",
    "        #print(df_node)\n",
    "        best_model = c.estimate()\n",
    "        for edge in best_model.edges():\n",
    "            if not edge in priori_subgraph:\n",
    "                print(edge)\n",
    "                if edge in ass_subgraph:\n",
    "                    priori_subgraph.append(edge)\n",
    "    print(priori_subgraph)\n",
    "    return priori_subgraph"
   ]
  },
  {
   "cell_type": "code",
   "execution_count": 9,
   "id": "latest-cincinnati",
   "metadata": {},
   "outputs": [],
   "source": [
    "def cal_black_priori(max_fre_itemsets,priori_subgraph,ass_subgraph):\n",
    "    black_priori_subgraph = []\n",
    "    for max_fre_itemset in max_fre_itemsets:\n",
    "        for i in itertools.permutations(max_fre_itemset, 2):\n",
    "            j = (i[1], i[0])\n",
    "            #if not i in priori_subgraph and not j in priori_subgraph:\n",
    "            if not i in priori_subgraph:\n",
    "                if not i in ass_subgraph:\n",
    "                    black_priori_subgraph.append(i)\n",
    "    black_priori_subgraph = list(set(black_priori_subgraph))\n",
    "    print(black_priori_subgraph)\n",
    "    return black_priori_subgraph"
   ]
  },
  {
   "cell_type": "code",
   "execution_count": 10,
   "id": "white-alabama",
   "metadata": {},
   "outputs": [],
   "source": [
    "def get_origin_model():\n",
    "    gum.about()\n",
    "    bn_o=gum.loadBN(os.path.join(\"/root/beyes\",bif_data))\n",
    "    data=pd.read_csv(\"/root/\" + sample_csv_data)\n",
    "    bdeu = bds(data)\n",
    "    names_o=bn_o.names()\n",
    "    arcs_o=bn_o.arcs()\n",
    "    d_o=[]\n",
    "    for (u,v) in arcs_o:\n",
    "        f=(names_o[u],names_o[v])\n",
    "        d_o.append(f)\n",
    "\n",
    "    modelo = BayesianModel(d_o)\n",
    "    return modelo"
   ]
  },
  {
   "cell_type": "code",
   "execution_count": 11,
   "id": "conceptual-narrow",
   "metadata": {},
   "outputs": [],
   "source": [
    "def get_final_data(final_data, origin_model, best_model_priori, best_model_origin, sample_size, weight):\n",
    "    data=pd.read_csv(\"/root/\" + sample_csv_data)\n",
    "    bdeu = bds(data)\n",
    "    tmp_data=pd.DataFrame(columns=(\"sample_size\",\"weight\",\"best_priori_score\",\"best_origin_score\",\"origin_score\",\"priori_dis\",\"origin_dis\"))\n",
    "    tmp_data[\"origin_score\"] = [bdeu.score(origin_model)]\n",
    "    tmp_data[\"best_priori_score\"] = [bdeu.score(best_model_priori)]\n",
    "    tmp_data[\"best_origin_score\"] = [bdeu.score(best_model_origin)]\n",
    "    origin_edge = origin_model.edges()\n",
    "    best_priori_edge = best_model_priori.edges()\n",
    "    best_origin_edge = best_model_origin.edges()\n",
    "    tmp_data[\"priori_dis\"] = [hmdis(origin_model.edges(),best_model_priori.edges())]\n",
    "    tmp_data[\"origin_dis\"] = [hmdis(origin_model.edges(),best_model_origin.edges())]\n",
    "    tmp_data[\"sample_size\"] = [sample_size]\n",
    "    tmp_data[\"weight\"] = [weight]\n",
    "    final_data=final_data.append(tmp_data)\n",
    "    return final_data"
   ]
  },
  {
   "cell_type": "code",
   "execution_count": 12,
   "id": "generic-underground",
   "metadata": {},
   "outputs": [],
   "source": [
    "def get_final_data_optimize(final_data, origin_model, best_model_prioris, best_model_origin, sample_size):\n",
    "    data=pd.read_csv(\"/root/\" + sample_csv_data)\n",
    "    bdeu = bds(data)\n",
    "    tmp_data=pd.DataFrame(columns=(\"sample_size\",\"weight\",\"best_priori_score\",\"best_origin_score\",\"origin_score\",\"priori_dis\",\"origin_dis\"))\n",
    "    index=0\n",
    "    for weight in weights:\n",
    "        tmp_data[\"origin_score\"] = [bdeu.score(origin_model)]\n",
    "        tmp_data[\"best_priori_score\"] = [bdeu.score(best_model_prioris[index])]\n",
    "        tmp_data[\"best_origin_score\"] = [bdeu.score(best_model_origin)]\n",
    "        origin_edge = origin_model.edges()\n",
    "        best_priori_edge = best_model_prioris[index].edges()\n",
    "        best_origin_edge = best_model_origin.edges()\n",
    "        tmp_data[\"priori_dis\"] = [hmdis(origin_model.edges(),best_model_prioris[index].edges())]\n",
    "        tmp_data[\"origin_dis\"] = [hmdis(origin_model.edges(),best_model_origin.edges())]\n",
    "        tmp_data[\"sample_size\"] = [sample_size]\n",
    "        tmp_data[\"weight\"] = [weight]\n",
    "        final_data=final_data.append(tmp_data)\n",
    "        #print(best_model_prioris[index].edges())\n",
    "        #print(best_model_origin.edges())\n",
    "        index +=1\n",
    "    return final_data"
   ]
  },
  {
   "cell_type": "code",
   "execution_count": 13,
   "id": "fifth-opposition",
   "metadata": {},
   "outputs": [],
   "source": [
    "def final_test(sample_size,weight,final_data):\n",
    "    data1 = data_processer(sample_size)\n",
    "    frequent_itemsets = min_frequent_item(data1)\n",
    "    ass_subgraph = min_ass_subgraph(frequent_itemsets)\n",
    "    max_fre_itemsets = min_max_fre_itemsets(frequent_itemsets)\n",
    "    priori_subgraph = priori_structrue_PC(max_fre_itemsets, ass_subgraph)\n",
    "    black_priori_subgraph = cal_black_priori(max_fre_itemsets, priori_subgraph,ass_subgraph)\n",
    "    origin_model = get_origin_model()\n",
    "    data=pd.read_csv(\"/root/\" + sample_csv_data)\n",
    "    hc = HillClimbSearch(data)\n",
    "    best_model_priori = hc.estimate(scoring_method=BDeuScore_pt(data, priori_subgraph, black_priori_subgraph,weight))\n",
    "    best_model_origin = hc.estimate(scoring_method=bds(data))\n",
    "    final_data=get_final_data(final_data, origin_model, best_model_priori, best_model_origin, sample_size, weight)\n",
    "    return final_data"
   ]
  },
  {
   "cell_type": "code",
   "execution_count": 14,
   "id": "editorial-stephen",
   "metadata": {},
   "outputs": [],
   "source": [
    "def final_test_optimize(sample_size,final_data):\n",
    "    data1 = data_processer(sample_size)\n",
    "    frequent_itemsets = min_frequent_item(data1)\n",
    "    ass_subgraph = min_ass_subgraph(frequent_itemsets)\n",
    "    max_fre_itemsets = min_max_fre_itemsets(frequent_itemsets)\n",
    "    priori_subgraph = priori_structrue_PC(max_fre_itemsets, ass_subgraph)\n",
    "    black_priori_subgraph = cal_black_priori(max_fre_itemsets, priori_subgraph,ass_subgraph)\n",
    "    origin_model = get_origin_model()\n",
    "    data=pd.read_csv(\"/root/\" + sample_csv_data)\n",
    "    hc = HillClimbSearch(data)\n",
    "    best_model_prioris=[]\n",
    "    for weight in weights:\n",
    "        best_model_priori = hc.estimate(scoring_method=BDeuScore_pt(data, priori_subgraph, black_priori_subgraph,weight))\n",
    "        best_model_prioris.append(best_model_priori)\n",
    "    best_model_origin = hc.estimate(scoring_method=bds(data))\n",
    "    final_data=get_final_data_optimize(final_data, origin_model, best_model_prioris, best_model_origin, sample_size)\n",
    "    return final_data"
   ]
  },
  {
   "cell_type": "code",
   "execution_count": 15,
   "id": "skilled-sender",
   "metadata": {
    "scrolled": true
   },
   "outputs": [
    {
     "name": "stdout",
     "output_type": "stream",
     "text": [
      "pyAgrum version 0.19.0\n",
      "(c) 2015-2020 Pierre-Henri Wuillemin, Christophe Gonzales, Lionel Torti\n",
      "\n",
      "    This is free software; see the source code for copying conditions.\n",
      "    There is ABSOLUTELY NO WARRANTY; not even for MERCHANTABILITY or\n",
      "    FITNESS FOR A PARTICULAR PURPOSE.  For details, see 'pyAgrum.warranty'.\n",
      "    \n",
      " /root/sachs.csv : [ ######################################################### ] 100%\n",
      "Log2-Likelihood : -975.9326243738866\n"
     ]
    },
    {
     "name": "stderr",
     "output_type": "stream",
     "text": [
      "Working for n conditional variables: 2:  40%|████      | 2/5 [00:00<00:00, 155.57it/s]\n",
      "Working for n conditional variables: 1:  20%|██        | 1/5 [00:00<00:00, 108.25it/s]\n",
      "  0%|          | 0/1000000 [00:00<?, ?it/s]"
     ]
    },
    {
     "name": "stdout",
     "output_type": "stream",
     "text": [
      "[('PKA', 'Erk'), ('PIP3', 'Erk')]\n",
      "[frozenset({'Erk', 'PKA'}), frozenset({'Erk', 'PIP3'})]\n",
      "('Erk', 'PKA')\n",
      "[]\n",
      "[('Erk', 'PIP3'), ('Erk', 'PKA')]\n",
      "pyAgrum version 0.19.0\n",
      "(c) 2015-2020 Pierre-Henri Wuillemin, Christophe Gonzales, Lionel Torti\n",
      "\n",
      "    This is free software; see the source code for copying conditions.\n",
      "    There is ABSOLUTELY NO WARRANTY; not even for MERCHANTABILITY or\n",
      "    FITNESS FOR A PARTICULAR PURPOSE.  For details, see 'pyAgrum.warranty'.\n",
      "    \n"
     ]
    },
    {
     "name": "stderr",
     "output_type": "stream",
     "text": [
      "  0%|          | 15/1000000 [00:03<57:51:05,  4.80it/s]\n",
      "  0%|          | 15/1000000 [00:03<55:47:28,  4.98it/s]\n"
     ]
    },
    {
     "name": "stdout",
     "output_type": "stream",
     "text": [
      " /root/sachs.csv : [ ######################################################### ] 100%\n",
      "Log2-Likelihood : -1028.274162149896\n"
     ]
    },
    {
     "name": "stderr",
     "output_type": "stream",
     "text": [
      "Working for n conditional variables: 1:  20%|██        | 1/5 [00:00<00:00, 83.68it/s] \n",
      "Working for n conditional variables: 1:  20%|██        | 1/5 [00:00<00:00, 89.84it/s] \n",
      "Working for n conditional variables: 1:  20%|██        | 1/5 [00:00<00:00, 82.61it/s]\n",
      "  0%|          | 0/1000000 [00:00<?, ?it/s]"
     ]
    },
    {
     "name": "stdout",
     "output_type": "stream",
     "text": [
      "[('PKA', 'Erk')]\n",
      "[frozenset({'Erk', 'PKA'}), frozenset({'Erk', 'PIP3'}), frozenset({'PKA', 'PIP3'})]\n",
      "[]\n",
      "[('PIP3', 'Erk'), ('Erk', 'PKA'), ('PIP3', 'PKA'), ('Erk', 'PIP3'), ('PKA', 'PIP3')]\n",
      "pyAgrum version 0.19.0\n",
      "(c) 2015-2020 Pierre-Henri Wuillemin, Christophe Gonzales, Lionel Torti\n",
      "\n",
      "    This is free software; see the source code for copying conditions.\n",
      "    There is ABSOLUTELY NO WARRANTY; not even for MERCHANTABILITY or\n",
      "    FITNESS FOR A PARTICULAR PURPOSE.  For details, see 'pyAgrum.warranty'.\n",
      "    \n"
     ]
    },
    {
     "name": "stderr",
     "output_type": "stream",
     "text": [
      "  0%|          | 17/1000000 [00:03<59:59:47,  4.63it/s]\n",
      "  0%|          | 17/1000000 [00:03<59:15:47,  4.69it/s]\n"
     ]
    },
    {
     "name": "stdout",
     "output_type": "stream",
     "text": [
      " /root/sachs.csv : [ ######################################################### ] 100%\n",
      "Log2-Likelihood : -1026.5414439578135\n"
     ]
    },
    {
     "name": "stderr",
     "output_type": "stream",
     "text": [
      "Working for n conditional variables: 2:  40%|████      | 2/5 [00:00<00:00, 159.07it/s]\n",
      "Working for n conditional variables: 1:  20%|██        | 1/5 [00:00<00:00, 106.13it/s]\n",
      "Working for n conditional variables: 1:  20%|██        | 1/5 [00:00<00:00, 64.97it/s]\n",
      "  0%|          | 0/1000000 [00:00<?, ?it/s]"
     ]
    },
    {
     "name": "stdout",
     "output_type": "stream",
     "text": [
      "[('PKA', 'Erk')]\n",
      "[frozenset({'Erk', 'PKA'}), frozenset({'PKA', 'PIP3'}), frozenset({'Erk', 'PIP3'})]\n",
      "('Erk', 'PKA')\n",
      "[]\n",
      "[('PIP3', 'Erk'), ('Erk', 'PKA'), ('PIP3', 'PKA'), ('Erk', 'PIP3'), ('PKA', 'PIP3')]\n",
      "pyAgrum version 0.19.0\n",
      "(c) 2015-2020 Pierre-Henri Wuillemin, Christophe Gonzales, Lionel Torti\n",
      "\n",
      "    This is free software; see the source code for copying conditions.\n",
      "    There is ABSOLUTELY NO WARRANTY; not even for MERCHANTABILITY or\n",
      "    FITNESS FOR A PARTICULAR PURPOSE.  For details, see 'pyAgrum.warranty'.\n",
      "    \n"
     ]
    },
    {
     "name": "stderr",
     "output_type": "stream",
     "text": [
      "  0%|          | 19/1000000 [00:03<48:06:16,  5.77it/s]\n",
      "  0%|          | 19/1000000 [00:03<46:04:43,  6.03it/s]\n"
     ]
    },
    {
     "name": "stdout",
     "output_type": "stream",
     "text": [
      " /root/sachs.csv : [ ######################################################### ] 100%\n",
      "Log2-Likelihood : -1019.4446730604844\n"
     ]
    },
    {
     "name": "stderr",
     "output_type": "stream",
     "text": [
      "Working for n conditional variables: 2:  40%|████      | 2/5 [00:00<00:00, 93.22it/s] \n",
      "  0%|          | 0/1000000 [00:00<?, ?it/s]"
     ]
    },
    {
     "name": "stdout",
     "output_type": "stream",
     "text": [
      "[('PIP3', 'Erk'), ('PKA', 'Erk')]\n",
      "[frozenset({'Erk', 'PKA', 'PIP3'})]\n",
      "('Erk', 'PKA')\n",
      "[]\n",
      "[('Erk', 'PIP3'), ('PKA', 'PIP3'), ('Erk', 'PKA'), ('PIP3', 'PKA')]\n",
      "pyAgrum version 0.19.0\n",
      "(c) 2015-2020 Pierre-Henri Wuillemin, Christophe Gonzales, Lionel Torti\n",
      "\n",
      "    This is free software; see the source code for copying conditions.\n",
      "    There is ABSOLUTELY NO WARRANTY; not even for MERCHANTABILITY or\n",
      "    FITNESS FOR A PARTICULAR PURPOSE.  For details, see 'pyAgrum.warranty'.\n",
      "    \n"
     ]
    },
    {
     "name": "stderr",
     "output_type": "stream",
     "text": [
      "  0%|          | 17/1000000 [00:02<47:46:02,  5.82it/s]\n",
      "  0%|          | 17/1000000 [00:02<48:20:43,  5.75it/s]\n"
     ]
    },
    {
     "name": "stdout",
     "output_type": "stream",
     "text": [
      " /root/sachs.csv : [ ######################################################### ] 100%\n",
      "Log2-Likelihood : -979.9127494062501\n"
     ]
    },
    {
     "name": "stderr",
     "output_type": "stream",
     "text": [
      "Working for n conditional variables: 2:  40%|████      | 2/5 [00:00<00:00, 66.18it/s]\n",
      "  0%|          | 0/1000000 [00:00<?, ?it/s]"
     ]
    },
    {
     "name": "stdout",
     "output_type": "stream",
     "text": [
      "[('PKA', 'Erk')]\n",
      "[frozenset({'Erk', 'PKA', 'PIP3'})]\n",
      "('Erk', 'PKA')\n",
      "[]\n",
      "[('PIP3', 'Erk'), ('Erk', 'PKA'), ('PIP3', 'PKA'), ('Erk', 'PIP3'), ('PKA', 'PIP3')]\n",
      "pyAgrum version 0.19.0\n",
      "(c) 2015-2020 Pierre-Henri Wuillemin, Christophe Gonzales, Lionel Torti\n",
      "\n",
      "    This is free software; see the source code for copying conditions.\n",
      "    There is ABSOLUTELY NO WARRANTY; not even for MERCHANTABILITY or\n",
      "    FITNESS FOR A PARTICULAR PURPOSE.  For details, see 'pyAgrum.warranty'.\n",
      "    \n"
     ]
    },
    {
     "name": "stderr",
     "output_type": "stream",
     "text": [
      "  0%|          | 14/1000000 [00:03<60:37:50,  4.58it/s]\n",
      "  0%|          | 14/1000000 [00:02<55:47:18,  4.98it/s]\n"
     ]
    },
    {
     "name": "stdout",
     "output_type": "stream",
     "text": [
      " /root/sachs.csv : [ ######################################################### ] 100%\n",
      "Log2-Likelihood : -1066.9491289744674\n"
     ]
    },
    {
     "name": "stderr",
     "output_type": "stream",
     "text": [
      "Working for n conditional variables: 2:  40%|████      | 2/5 [00:00<00:00, 142.82it/s]\n",
      "Working for n conditional variables: 1:  20%|██        | 1/5 [00:00<00:00, 97.90it/s] \n",
      "Working for n conditional variables: 1:  20%|██        | 1/5 [00:00<00:00, 61.27it/s]\n",
      "  0%|          | 0/1000000 [00:00<?, ?it/s]"
     ]
    },
    {
     "name": "stdout",
     "output_type": "stream",
     "text": [
      "[]\n",
      "[frozenset({'Erk', 'PKA'}), frozenset({'PKA', 'PIP3'}), frozenset({'Erk', 'PIP3'})]\n",
      "('Erk', 'PKA')\n",
      "[]\n",
      "[('PIP3', 'Erk'), ('PKA', 'Erk'), ('Erk', 'PKA'), ('PIP3', 'PKA'), ('Erk', 'PIP3'), ('PKA', 'PIP3')]\n",
      "pyAgrum version 0.19.0\n",
      "(c) 2015-2020 Pierre-Henri Wuillemin, Christophe Gonzales, Lionel Torti\n",
      "\n",
      "    This is free software; see the source code for copying conditions.\n",
      "    There is ABSOLUTELY NO WARRANTY; not even for MERCHANTABILITY or\n",
      "    FITNESS FOR A PARTICULAR PURPOSE.  For details, see 'pyAgrum.warranty'.\n",
      "    \n"
     ]
    },
    {
     "name": "stderr",
     "output_type": "stream",
     "text": [
      "  0%|          | 15/1000000 [00:02<53:35:50,  5.18it/s]\n",
      "  0%|          | 15/1000000 [00:03<58:02:21,  4.79it/s]\n"
     ]
    },
    {
     "name": "stdout",
     "output_type": "stream",
     "text": [
      " /root/sachs.csv : [ ######################################################### ] 100%root/sachs.csv : [ ######################################################    ] 95%\n",
      "Log2-Likelihood : -980.016572733201\n"
     ]
    },
    {
     "name": "stderr",
     "output_type": "stream",
     "text": [
      "Working for n conditional variables: 2:  40%|████      | 2/5 [00:00<00:00, 77.31it/s]\n",
      "Working for n conditional variables: 1:  20%|██        | 1/5 [00:00<00:00, 88.11it/s] \n",
      "Working for n conditional variables: 1:  20%|██        | 1/5 [00:00<00:00, 69.20it/s]\n",
      "  0%|          | 0/1000000 [00:00<?, ?it/s]"
     ]
    },
    {
     "name": "stdout",
     "output_type": "stream",
     "text": [
      "[('PKC', 'PKA'), ('Erk', 'PKA')]\n",
      "[frozenset({'PKC', 'Erk', 'PKA'}), frozenset({'PKA', 'PIP3'}), frozenset({'Erk', 'PIP3'})]\n",
      "('PKC', 'PKA')\n",
      "[('PKC', 'PKA')]\n",
      "[('Erk', 'PKC'), ('PIP3', 'Erk'), ('PKC', 'Erk'), ('PKA', 'Erk'), ('PKA', 'PKC'), ('PIP3', 'PKA'), ('Erk', 'PIP3'), ('PKA', 'PIP3')]\n",
      "pyAgrum version 0.19.0\n",
      "(c) 2015-2020 Pierre-Henri Wuillemin, Christophe Gonzales, Lionel Torti\n",
      "\n",
      "    This is free software; see the source code for copying conditions.\n",
      "    There is ABSOLUTELY NO WARRANTY; not even for MERCHANTABILITY or\n",
      "    FITNESS FOR A PARTICULAR PURPOSE.  For details, see 'pyAgrum.warranty'.\n",
      "    \n"
     ]
    },
    {
     "name": "stderr",
     "output_type": "stream",
     "text": [
      "  0%|          | 25/1000000 [00:05<60:25:32,  4.60it/s] \n",
      "  0%|          | 17/1000000 [00:03<60:16:07,  4.61it/s]\n"
     ]
    },
    {
     "name": "stdout",
     "output_type": "stream",
     "text": [
      " /root/sachs.csv : [ ######################################################### ] 100%\n",
      "Log2-Likelihood : -1060.7537301992977\n"
     ]
    },
    {
     "name": "stderr",
     "output_type": "stream",
     "text": [
      "Working for n conditional variables: 1:  20%|██        | 1/5 [00:00<00:00, 94.35it/s] \n",
      "Working for n conditional variables: 2:  40%|████      | 2/5 [00:00<00:00, 166.82it/s]\n",
      "  0%|          | 0/1000000 [00:00<?, ?it/s]"
     ]
    },
    {
     "name": "stdout",
     "output_type": "stream",
     "text": [
      "[('PKA', 'Erk')]\n",
      "[frozenset({'Erk', 'PIP3'}), frozenset({'Erk', 'PKA'})]\n",
      "('Erk', 'PKA')\n",
      "[]\n",
      "[('Erk', 'PIP3'), ('Erk', 'PKA'), ('PIP3', 'Erk')]\n",
      "pyAgrum version 0.19.0\n",
      "(c) 2015-2020 Pierre-Henri Wuillemin, Christophe Gonzales, Lionel Torti\n",
      "\n",
      "    This is free software; see the source code for copying conditions.\n",
      "    There is ABSOLUTELY NO WARRANTY; not even for MERCHANTABILITY or\n",
      "    FITNESS FOR A PARTICULAR PURPOSE.  For details, see 'pyAgrum.warranty'.\n",
      "    \n"
     ]
    },
    {
     "name": "stderr",
     "output_type": "stream",
     "text": [
      "  0%|          | 13/1000000 [00:02<55:56:40,  4.97it/s]\n",
      "  0%|          | 13/1000000 [00:02<63:31:22,  4.37it/s]\n"
     ]
    },
    {
     "name": "stdout",
     "output_type": "stream",
     "text": [
      " /root/sachs.csv : [ ######################################################### ] 100%\n",
      "Log2-Likelihood : -1031.2171077380465\n"
     ]
    },
    {
     "name": "stderr",
     "output_type": "stream",
     "text": [
      "Working for n conditional variables: 1:  20%|██        | 1/5 [00:00<00:00, 80.14it/s] \n",
      "Working for n conditional variables: 2:  40%|████      | 2/5 [00:00<00:00, 110.32it/s]\n",
      "Working for n conditional variables: 1:  20%|██        | 1/5 [00:00<00:00, 64.44it/s]\n",
      "  0%|          | 0/1000000 [00:00<?, ?it/s]"
     ]
    },
    {
     "name": "stdout",
     "output_type": "stream",
     "text": [
      "[]\n",
      "[frozenset({'PKA', 'PIP3'}), frozenset({'Erk', 'PKA'}), frozenset({'Erk', 'PIP3'})]\n",
      "('Erk', 'PKA')\n",
      "[]\n",
      "[('PIP3', 'Erk'), ('PKA', 'Erk'), ('Erk', 'PKA'), ('PIP3', 'PKA'), ('Erk', 'PIP3'), ('PKA', 'PIP3')]\n",
      "pyAgrum version 0.19.0\n",
      "(c) 2015-2020 Pierre-Henri Wuillemin, Christophe Gonzales, Lionel Torti\n",
      "\n",
      "    This is free software; see the source code for copying conditions.\n",
      "    There is ABSOLUTELY NO WARRANTY; not even for MERCHANTABILITY or\n",
      "    FITNESS FOR A PARTICULAR PURPOSE.  For details, see 'pyAgrum.warranty'.\n",
      "    \n"
     ]
    },
    {
     "name": "stderr",
     "output_type": "stream",
     "text": [
      "  0%|          | 12/1000000 [00:02<62:41:02,  4.43it/s]\n",
      "  0%|          | 13/1000000 [00:03<64:17:13,  4.32it/s]\n"
     ]
    },
    {
     "name": "stdout",
     "output_type": "stream",
     "text": [
      " /root/sachs.csv : [ ######################################################### ] 100%\n",
      "Log2-Likelihood : -1046.4213987298087\n"
     ]
    },
    {
     "name": "stderr",
     "output_type": "stream",
     "text": [
      "Working for n conditional variables: 1:  20%|██        | 1/5 [00:00<00:00, 93.19it/s] \n",
      "Working for n conditional variables: 1:  20%|██        | 1/5 [00:00<00:00, 84.10it/s]\n",
      "Working for n conditional variables: 2:  40%|████      | 2/5 [00:00<00:00, 144.77it/s]\n",
      "  0%|          | 0/1000000 [00:00<?, ?it/s]"
     ]
    },
    {
     "name": "stdout",
     "output_type": "stream",
     "text": [
      "[('PKA', 'Erk')]\n",
      "[frozenset({'Erk', 'PIP3'}), frozenset({'PKA', 'PIP3'}), frozenset({'Erk', 'PKA'})]\n",
      "('Erk', 'PKA')\n",
      "[]\n",
      "[('PIP3', 'Erk'), ('Erk', 'PKA'), ('PIP3', 'PKA'), ('Erk', 'PIP3'), ('PKA', 'PIP3')]\n",
      "pyAgrum version 0.19.0\n",
      "(c) 2015-2020 Pierre-Henri Wuillemin, Christophe Gonzales, Lionel Torti\n",
      "\n",
      "    This is free software; see the source code for copying conditions.\n",
      "    There is ABSOLUTELY NO WARRANTY; not even for MERCHANTABILITY or\n",
      "    FITNESS FOR A PARTICULAR PURPOSE.  For details, see 'pyAgrum.warranty'.\n",
      "    \n"
     ]
    },
    {
     "name": "stderr",
     "output_type": "stream",
     "text": [
      "  0%|          | 14/1000000 [00:03<62:34:33,  4.44it/s]\n",
      "  0%|          | 14/1000000 [00:02<57:33:12,  4.83it/s]\n"
     ]
    },
    {
     "name": "stdout",
     "output_type": "stream",
     "text": [
      " /root/sachs.csv : [ ######################################################### ] 100%\n",
      "Log2-Likelihood : -1032.2807161568016\n"
     ]
    },
    {
     "name": "stderr",
     "output_type": "stream",
     "text": [
      "Working for n conditional variables: 2:  40%|████      | 2/5 [00:00<00:00, 149.63it/s]\n",
      "  0%|          | 0/1000000 [00:00<?, ?it/s]"
     ]
    },
    {
     "name": "stdout",
     "output_type": "stream",
     "text": [
      "[('PKA', 'Erk')]\n",
      "[frozenset({'Erk', 'PKA'})]\n",
      "('Erk', 'PKA')\n",
      "[]\n",
      "[('Erk', 'PKA')]\n",
      "pyAgrum version 0.19.0\n",
      "(c) 2015-2020 Pierre-Henri Wuillemin, Christophe Gonzales, Lionel Torti\n",
      "\n",
      "    This is free software; see the source code for copying conditions.\n",
      "    There is ABSOLUTELY NO WARRANTY; not even for MERCHANTABILITY or\n",
      "    FITNESS FOR A PARTICULAR PURPOSE.  For details, see 'pyAgrum.warranty'.\n",
      "    \n"
     ]
    },
    {
     "name": "stderr",
     "output_type": "stream",
     "text": [
      "  0%|          | 14/1000000 [00:02<54:40:38,  5.08it/s]\n",
      "  0%|          | 14/1000000 [00:02<52:13:32,  5.32it/s]\n"
     ]
    },
    {
     "name": "stdout",
     "output_type": "stream",
     "text": [
      " /root/sachs.csv : [ ######################################################### ] 100%\n",
      "Log2-Likelihood : -1032.8372736326533\n"
     ]
    },
    {
     "name": "stderr",
     "output_type": "stream",
     "text": [
      "Working for n conditional variables: 2:  40%|████      | 2/5 [00:00<00:00, 126.50it/s]\n",
      "Working for n conditional variables: 2:  40%|████      | 2/5 [00:00<00:00, 206.37it/s]\n",
      "  0%|          | 0/1000000 [00:00<?, ?it/s]"
     ]
    },
    {
     "name": "stdout",
     "output_type": "stream",
     "text": [
      "[('PKC', 'PKA'), ('Erk', 'PKA')]\n",
      "[frozenset({'Erk', 'PKA', 'PIP3'}), frozenset({'PKC', 'PKA'})]\n",
      "('Erk', 'PKA')\n",
      "('PKC', 'PKA')\n",
      "[('Erk', 'PKA'), ('PKC', 'PKA')]\n",
      "[('PIP3', 'Erk'), ('PKA', 'Erk'), ('PKA', 'PKC'), ('PIP3', 'PKA'), ('Erk', 'PIP3'), ('PKA', 'PIP3')]\n",
      "pyAgrum version 0.19.0\n",
      "(c) 2015-2020 Pierre-Henri Wuillemin, Christophe Gonzales, Lionel Torti\n",
      "\n",
      "    This is free software; see the source code for copying conditions.\n",
      "    There is ABSOLUTELY NO WARRANTY; not even for MERCHANTABILITY or\n",
      "    FITNESS FOR A PARTICULAR PURPOSE.  For details, see 'pyAgrum.warranty'.\n",
      "    \n"
     ]
    },
    {
     "name": "stderr",
     "output_type": "stream",
     "text": [
      "  0%|          | 16/1000000 [00:02<49:20:48,  5.63it/s]\n",
      "  0%|          | 16/1000000 [00:02<44:08:06,  6.29it/s]\n"
     ]
    },
    {
     "name": "stdout",
     "output_type": "stream",
     "text": [
      " /root/sachs.csv : [ ######################################################### ] 100%\n",
      "Log2-Likelihood : -1019.6669999543124\n"
     ]
    },
    {
     "name": "stderr",
     "output_type": "stream",
     "text": [
      "Working for n conditional variables: 1:  20%|██        | 1/5 [00:00<00:00, 129.65it/s]\n",
      "Working for n conditional variables: 2:  40%|████      | 2/5 [00:00<00:00, 178.70it/s]\n",
      "  0%|          | 0/1000000 [00:00<?, ?it/s]"
     ]
    },
    {
     "name": "stdout",
     "output_type": "stream",
     "text": [
      "[('PKA', 'Erk')]\n",
      "[frozenset({'Erk', 'PIP3'}), frozenset({'Erk', 'PKA'})]\n",
      "('Erk', 'PKA')\n",
      "[]\n",
      "[('Erk', 'PIP3'), ('Erk', 'PKA'), ('PIP3', 'Erk')]\n",
      "pyAgrum version 0.19.0\n",
      "(c) 2015-2020 Pierre-Henri Wuillemin, Christophe Gonzales, Lionel Torti\n",
      "\n",
      "    This is free software; see the source code for copying conditions.\n",
      "    There is ABSOLUTELY NO WARRANTY; not even for MERCHANTABILITY or\n",
      "    FITNESS FOR A PARTICULAR PURPOSE.  For details, see 'pyAgrum.warranty'.\n",
      "    \n"
     ]
    },
    {
     "name": "stderr",
     "output_type": "stream",
     "text": [
      "  0%|          | 15/1000000 [00:02<48:57:52,  5.67it/s]\n",
      "  0%|          | 15/1000000 [00:02<49:51:47,  5.57it/s]\n"
     ]
    },
    {
     "name": "stdout",
     "output_type": "stream",
     "text": [
      " /root/sachs.csv : [ ######################################################### ] 100%\n",
      "Log2-Likelihood : -1017.9681860865761\n"
     ]
    },
    {
     "name": "stderr",
     "output_type": "stream",
     "text": [
      "Working for n conditional variables: 1:  20%|██        | 1/5 [00:00<00:00, 101.45it/s]\n",
      "Working for n conditional variables: 1:  20%|██        | 1/5 [00:00<00:00, 83.26it/s]\n",
      "Working for n conditional variables: 2:  40%|████      | 2/5 [00:00<00:00, 164.86it/s]\n",
      "  0%|          | 0/1000000 [00:00<?, ?it/s]"
     ]
    },
    {
     "name": "stdout",
     "output_type": "stream",
     "text": [
      "[]\n",
      "[frozenset({'Erk', 'PIP3'}), frozenset({'PKA', 'PIP3'}), frozenset({'Erk', 'PKA'})]\n",
      "('Erk', 'PKA')\n",
      "[]\n",
      "[('PIP3', 'Erk'), ('PKA', 'Erk'), ('Erk', 'PKA'), ('PIP3', 'PKA'), ('Erk', 'PIP3'), ('PKA', 'PIP3')]\n",
      "pyAgrum version 0.19.0\n",
      "(c) 2015-2020 Pierre-Henri Wuillemin, Christophe Gonzales, Lionel Torti\n",
      "\n",
      "    This is free software; see the source code for copying conditions.\n",
      "    There is ABSOLUTELY NO WARRANTY; not even for MERCHANTABILITY or\n",
      "    FITNESS FOR A PARTICULAR PURPOSE.  For details, see 'pyAgrum.warranty'.\n",
      "    \n"
     ]
    },
    {
     "name": "stderr",
     "output_type": "stream",
     "text": [
      "  0%|          | 12/1000000 [00:02<54:45:10,  5.07it/s]\n",
      "  0%|          | 13/1000000 [00:02<51:48:13,  5.36it/s]\n"
     ]
    },
    {
     "name": "stdout",
     "output_type": "stream",
     "text": [
      " /root/sachs.csv : [ ######################################################### ] 100%\n",
      "Log2-Likelihood : -1066.5032413727145\n"
     ]
    },
    {
     "name": "stderr",
     "output_type": "stream",
     "text": [
      "Working for n conditional variables: 1:  20%|██        | 1/5 [00:00<00:00, 90.80it/s] \n",
      "Working for n conditional variables: 1:  20%|██        | 1/5 [00:00<00:00, 105.79it/s]\n",
      "Working for n conditional variables: 2:  40%|████      | 2/5 [00:00<00:00, 170.66it/s]\n",
      "  0%|          | 0/1000000 [00:00<?, ?it/s]"
     ]
    },
    {
     "name": "stdout",
     "output_type": "stream",
     "text": [
      "[('Erk', 'PKA')]\n",
      "[frozenset({'PKA', 'PIP3'}), frozenset({'Erk', 'PIP3'}), frozenset({'Erk', 'PKA'})]\n",
      "('Erk', 'PKA')\n",
      "[('Erk', 'PKA')]\n",
      "[('PIP3', 'Erk'), ('PKA', 'Erk'), ('PIP3', 'PKA'), ('Erk', 'PIP3'), ('PKA', 'PIP3')]\n",
      "pyAgrum version 0.19.0\n",
      "(c) 2015-2020 Pierre-Henri Wuillemin, Christophe Gonzales, Lionel Torti\n",
      "\n",
      "    This is free software; see the source code for copying conditions.\n",
      "    There is ABSOLUTELY NO WARRANTY; not even for MERCHANTABILITY or\n",
      "    FITNESS FOR A PARTICULAR PURPOSE.  For details, see 'pyAgrum.warranty'.\n",
      "    \n"
     ]
    },
    {
     "name": "stderr",
     "output_type": "stream",
     "text": [
      "  0%|          | 16/1000000 [00:02<48:33:59,  5.72it/s]\n",
      "  0%|          | 16/1000000 [00:03<54:55:35,  5.06it/s]\n"
     ]
    },
    {
     "name": "stdout",
     "output_type": "stream",
     "text": [
      " /root/sachs.csv : [ ######################################################### ] 100%\n",
      "Log2-Likelihood : -3152.831165016775\n"
     ]
    },
    {
     "name": "stderr",
     "output_type": "stream",
     "text": [
      "Working for n conditional variables: 1:  20%|██        | 1/5 [00:00<00:00, 91.11it/s] \n",
      "Working for n conditional variables: 2:  40%|████      | 2/5 [00:00<00:00, 157.37it/s]\n",
      "Working for n conditional variables: 1:  20%|██        | 1/5 [00:00<00:00, 126.19it/s]\n",
      "  0%|          | 0/1000000 [00:00<?, ?it/s]"
     ]
    },
    {
     "name": "stdout",
     "output_type": "stream",
     "text": [
      "[]\n",
      "[frozenset({'PKA', 'PIP3'}), frozenset({'Erk', 'PKA'}), frozenset({'Erk', 'PIP3'})]\n",
      "('Erk', 'PKA')\n",
      "[]\n",
      "[('PIP3', 'Erk'), ('PKA', 'Erk'), ('Erk', 'PKA'), ('PIP3', 'PKA'), ('Erk', 'PIP3'), ('PKA', 'PIP3')]\n",
      "pyAgrum version 0.19.0\n",
      "(c) 2015-2020 Pierre-Henri Wuillemin, Christophe Gonzales, Lionel Torti\n",
      "\n",
      "    This is free software; see the source code for copying conditions.\n",
      "    There is ABSOLUTELY NO WARRANTY; not even for MERCHANTABILITY or\n",
      "    FITNESS FOR A PARTICULAR PURPOSE.  For details, see 'pyAgrum.warranty'.\n",
      "    \n"
     ]
    },
    {
     "name": "stderr",
     "output_type": "stream",
     "text": [
      "  0%|          | 17/1000000 [00:02<48:22:31,  5.74it/s]\n",
      "  0%|          | 17/1000000 [00:03<52:46:35,  5.26it/s]\n"
     ]
    },
    {
     "name": "stdout",
     "output_type": "stream",
     "text": [
      " /root/sachs.csv : [ ######################################################### ] 100%\n",
      "Log2-Likelihood : -3096.461691050555\n"
     ]
    },
    {
     "name": "stderr",
     "output_type": "stream",
     "text": [
      "Working for n conditional variables: 1:  20%|██        | 1/5 [00:00<00:00, 92.40it/s] \n",
      "Working for n conditional variables: 1:  20%|██        | 1/5 [00:00<00:00, 94.81it/s] \n",
      "Working for n conditional variables: 2:  40%|████      | 2/5 [00:00<00:00, 147.44it/s]\n",
      "  0%|          | 0/1000000 [00:00<?, ?it/s]"
     ]
    },
    {
     "name": "stdout",
     "output_type": "stream",
     "text": [
      "[('PKA', 'Erk')]\n",
      "[frozenset({'PKA', 'PIP3'}), frozenset({'Erk', 'PIP3'}), frozenset({'Erk', 'PKA'})]\n",
      "('Erk', 'PKA')\n",
      "[]\n",
      "[('PIP3', 'Erk'), ('Erk', 'PKA'), ('PIP3', 'PKA'), ('Erk', 'PIP3'), ('PKA', 'PIP3')]\n",
      "pyAgrum version 0.19.0\n",
      "(c) 2015-2020 Pierre-Henri Wuillemin, Christophe Gonzales, Lionel Torti\n",
      "\n",
      "    This is free software; see the source code for copying conditions.\n",
      "    There is ABSOLUTELY NO WARRANTY; not even for MERCHANTABILITY or\n",
      "    FITNESS FOR A PARTICULAR PURPOSE.  For details, see 'pyAgrum.warranty'.\n",
      "    \n"
     ]
    },
    {
     "name": "stderr",
     "output_type": "stream",
     "text": [
      "  0%|          | 16/1000000 [00:02<51:24:18,  5.40it/s]\n",
      "  0%|          | 15/1000000 [00:02<46:34:47,  5.96it/s]\n"
     ]
    },
    {
     "name": "stdout",
     "output_type": "stream",
     "text": [
      " /root/sachs.csv : [ ######################################################### ] 100%\n",
      "Log2-Likelihood : -3080.023851374324\n"
     ]
    },
    {
     "name": "stderr",
     "output_type": "stream",
     "text": [
      "Working for n conditional variables: 1:  20%|██        | 1/5 [00:00<00:00, 110.96it/s]\n",
      "Working for n conditional variables: 2:  40%|████      | 2/5 [00:00<00:00, 181.97it/s]\n",
      "Working for n conditional variables: 1:  20%|██        | 1/5 [00:00<00:00, 130.37it/s]\n",
      "  0%|          | 0/1000000 [00:00<?, ?it/s]"
     ]
    },
    {
     "name": "stdout",
     "output_type": "stream",
     "text": [
      "[('PKA', 'Erk')]\n",
      "[frozenset({'PKA', 'PIP3'}), frozenset({'Erk', 'PKA'}), frozenset({'Erk', 'PIP3'})]\n",
      "('Erk', 'PKA')\n",
      "[]\n",
      "[('PIP3', 'Erk'), ('Erk', 'PKA'), ('PIP3', 'PKA'), ('Erk', 'PIP3'), ('PKA', 'PIP3')]\n",
      "pyAgrum version 0.19.0\n",
      "(c) 2015-2020 Pierre-Henri Wuillemin, Christophe Gonzales, Lionel Torti\n",
      "\n",
      "    This is free software; see the source code for copying conditions.\n",
      "    There is ABSOLUTELY NO WARRANTY; not even for MERCHANTABILITY or\n",
      "    FITNESS FOR A PARTICULAR PURPOSE.  For details, see 'pyAgrum.warranty'.\n",
      "    \n"
     ]
    },
    {
     "name": "stderr",
     "output_type": "stream",
     "text": [
      "  0%|          | 15/1000000 [00:02<50:04:37,  5.55it/s]\n",
      "  0%|          | 15/1000000 [00:02<49:55:19,  5.56it/s]\n"
     ]
    },
    {
     "name": "stdout",
     "output_type": "stream",
     "text": [
      " /root/sachs.csv : [ ######################################################### ] 100%\n",
      "Log2-Likelihood : -3114.370912201735\n"
     ]
    },
    {
     "name": "stderr",
     "output_type": "stream",
     "text": [
      "Working for n conditional variables: 2:  40%|████      | 2/5 [00:00<00:00, 103.32it/s]\n",
      "  0%|          | 0/1000000 [00:00<?, ?it/s]"
     ]
    },
    {
     "name": "stdout",
     "output_type": "stream",
     "text": [
      "[('PKA', 'Erk'), ('PIP3', 'Erk')]\n",
      "[frozenset({'Erk', 'PKA', 'PIP3'})]\n",
      "('Erk', 'PKA')\n",
      "[]\n",
      "[('Erk', 'PIP3'), ('PKA', 'PIP3'), ('Erk', 'PKA'), ('PIP3', 'PKA')]\n",
      "pyAgrum version 0.19.0\n",
      "(c) 2015-2020 Pierre-Henri Wuillemin, Christophe Gonzales, Lionel Torti\n",
      "\n",
      "    This is free software; see the source code for copying conditions.\n",
      "    There is ABSOLUTELY NO WARRANTY; not even for MERCHANTABILITY or\n",
      "    FITNESS FOR A PARTICULAR PURPOSE.  For details, see 'pyAgrum.warranty'.\n",
      "    \n"
     ]
    },
    {
     "name": "stderr",
     "output_type": "stream",
     "text": [
      "  0%|          | 12/1000000 [00:02<51:47:49,  5.36it/s]\n",
      "  0%|          | 12/1000000 [00:02<52:36:34,  5.28it/s]\n"
     ]
    },
    {
     "name": "stdout",
     "output_type": "stream",
     "text": [
      " /root/sachs.csv : [ ######################################################### ] 100%\n",
      "Log2-Likelihood : -3279.9903517444095\n"
     ]
    },
    {
     "name": "stderr",
     "output_type": "stream",
     "text": [
      "Working for n conditional variables: 1:  20%|██        | 1/5 [00:00<00:00, 114.31it/s]\n",
      "Working for n conditional variables: 2:  40%|████      | 2/5 [00:00<00:00, 164.70it/s]\n",
      "Working for n conditional variables: 1:  20%|██        | 1/5 [00:00<00:00, 117.29it/s]\n",
      "  0%|          | 0/1000000 [00:00<?, ?it/s]"
     ]
    },
    {
     "name": "stdout",
     "output_type": "stream",
     "text": [
      "[('PKA', 'Erk')]\n",
      "[frozenset({'PKA', 'PIP3'}), frozenset({'Erk', 'PKA'}), frozenset({'Erk', 'PIP3'})]\n",
      "('Erk', 'PKA')\n",
      "[]\n",
      "[('PIP3', 'Erk'), ('Erk', 'PKA'), ('PIP3', 'PKA'), ('Erk', 'PIP3'), ('PKA', 'PIP3')]\n",
      "pyAgrum version 0.19.0\n",
      "(c) 2015-2020 Pierre-Henri Wuillemin, Christophe Gonzales, Lionel Torti\n",
      "\n",
      "    This is free software; see the source code for copying conditions.\n",
      "    There is ABSOLUTELY NO WARRANTY; not even for MERCHANTABILITY or\n",
      "    FITNESS FOR A PARTICULAR PURPOSE.  For details, see 'pyAgrum.warranty'.\n",
      "    \n"
     ]
    },
    {
     "name": "stderr",
     "output_type": "stream",
     "text": [
      "  0%|          | 17/1000000 [00:02<47:49:49,  5.81it/s]\n",
      "  0%|          | 17/1000000 [00:03<55:07:31,  5.04it/s]\n"
     ]
    },
    {
     "name": "stdout",
     "output_type": "stream",
     "text": [
      " /root/sachs.csv : [ ######################################################### ] 100%\n",
      "Log2-Likelihood : -3164.3645241738727\n"
     ]
    },
    {
     "name": "stderr",
     "output_type": "stream",
     "text": [
      "Working for n conditional variables: 1:  20%|██        | 1/5 [00:00<00:00, 105.58it/s]\n",
      "Working for n conditional variables: 2:  40%|████      | 2/5 [00:00<00:00, 198.88it/s]\n",
      "  0%|          | 0/1000000 [00:00<?, ?it/s]"
     ]
    },
    {
     "name": "stdout",
     "output_type": "stream",
     "text": [
      "[('PKA', 'Erk')]\n",
      "[frozenset({'Erk', 'PIP3'}), frozenset({'Erk', 'PKA'})]\n",
      "('Erk', 'PKA')\n",
      "[]\n",
      "[('Erk', 'PIP3'), ('Erk', 'PKA'), ('PIP3', 'Erk')]\n",
      "pyAgrum version 0.19.0\n",
      "(c) 2015-2020 Pierre-Henri Wuillemin, Christophe Gonzales, Lionel Torti\n",
      "\n",
      "    This is free software; see the source code for copying conditions.\n",
      "    There is ABSOLUTELY NO WARRANTY; not even for MERCHANTABILITY or\n",
      "    FITNESS FOR A PARTICULAR PURPOSE.  For details, see 'pyAgrum.warranty'.\n",
      "    \n"
     ]
    },
    {
     "name": "stderr",
     "output_type": "stream",
     "text": [
      "  0%|          | 16/1000000 [00:02<46:24:28,  5.99it/s]\n",
      "  0%|          | 14/1000000 [00:02<56:14:59,  4.94it/s]\n"
     ]
    },
    {
     "name": "stdout",
     "output_type": "stream",
     "text": [
      " /root/sachs.csv : [ ######################################################### ] 100%\n",
      "Log2-Likelihood : -3086.4037809385195\n"
     ]
    },
    {
     "name": "stderr",
     "output_type": "stream",
     "text": [
      "Working for n conditional variables: 1:  20%|██        | 1/5 [00:00<00:00, 111.05it/s]\n",
      "Working for n conditional variables: 2:  40%|████      | 2/5 [00:00<00:00, 167.27it/s]\n",
      "  0%|          | 0/1000000 [00:00<?, ?it/s]"
     ]
    },
    {
     "name": "stdout",
     "output_type": "stream",
     "text": [
      "[('PKA', 'Erk')]\n",
      "[frozenset({'Erk', 'PIP3'}), frozenset({'Erk', 'PKA'})]\n",
      "('Erk', 'PKA')\n",
      "[]\n",
      "[('Erk', 'PIP3'), ('Erk', 'PKA'), ('PIP3', 'Erk')]\n",
      "pyAgrum version 0.19.0\n",
      "(c) 2015-2020 Pierre-Henri Wuillemin, Christophe Gonzales, Lionel Torti\n",
      "\n",
      "    This is free software; see the source code for copying conditions.\n",
      "    There is ABSOLUTELY NO WARRANTY; not even for MERCHANTABILITY or\n",
      "    FITNESS FOR A PARTICULAR PURPOSE.  For details, see 'pyAgrum.warranty'.\n",
      "    \n"
     ]
    },
    {
     "name": "stderr",
     "output_type": "stream",
     "text": [
      "  0%|          | 15/1000000 [00:04<81:25:20,  3.41it/s]\n",
      "  0%|          | 15/1000000 [00:02<53:12:53,  5.22it/s]\n"
     ]
    },
    {
     "name": "stdout",
     "output_type": "stream",
     "text": [
      " /root/sachs.csv : [ ######################################################### ] 100%\n",
      "Log2-Likelihood : -3106.1067779099603\n"
     ]
    },
    {
     "name": "stderr",
     "output_type": "stream",
     "text": [
      "Working for n conditional variables: 1:  20%|██        | 1/5 [00:00<00:00, 109.80it/s]\n",
      "Working for n conditional variables: 2:  40%|████      | 2/5 [00:00<00:00, 116.15it/s]\n",
      "Working for n conditional variables: 1:  20%|██        | 1/5 [00:00<00:00, 75.20it/s] \n",
      "  0%|          | 0/1000000 [00:00<?, ?it/s]"
     ]
    },
    {
     "name": "stdout",
     "output_type": "stream",
     "text": [
      "[('PKA', 'Erk')]\n",
      "[frozenset({'Erk', 'PIP3'}), frozenset({'Erk', 'PKA'}), frozenset({'PKA', 'PIP3'})]\n",
      "('Erk', 'PKA')\n",
      "[]\n",
      "[('PIP3', 'Erk'), ('Erk', 'PKA'), ('PIP3', 'PKA'), ('Erk', 'PIP3'), ('PKA', 'PIP3')]\n",
      "pyAgrum version 0.19.0\n",
      "(c) 2015-2020 Pierre-Henri Wuillemin, Christophe Gonzales, Lionel Torti\n",
      "\n",
      "    This is free software; see the source code for copying conditions.\n",
      "    There is ABSOLUTELY NO WARRANTY; not even for MERCHANTABILITY or\n",
      "    FITNESS FOR A PARTICULAR PURPOSE.  For details, see 'pyAgrum.warranty'.\n",
      "    \n"
     ]
    },
    {
     "name": "stderr",
     "output_type": "stream",
     "text": [
      "  0%|          | 17/1000000 [00:03<58:58:24,  4.71it/s]\n",
      "  0%|          | 17/1000000 [00:03<58:24:50,  4.76it/s]"
     ]
    },
    {
     "name": "stdout",
     "output_type": "stream",
     "text": [
      " /root/sachs.csv : [ ###                                                       ] 6%"
     ]
    },
    {
     "name": "stderr",
     "output_type": "stream",
     "text": [
      "\n"
     ]
    },
    {
     "name": "stdout",
     "output_type": "stream",
     "text": [
      " /root/sachs.csv : [ ######################################################### ] 100%\n",
      "Log2-Likelihood : -3040.531290250682\n"
     ]
    },
    {
     "name": "stderr",
     "output_type": "stream",
     "text": [
      "Working for n conditional variables: 2:  40%|████      | 2/5 [00:00<00:00, 104.90it/s]\n",
      "  0%|          | 0/1000000 [00:00<?, ?it/s]"
     ]
    },
    {
     "name": "stdout",
     "output_type": "stream",
     "text": [
      "[('PKA', 'Erk')]\n",
      "[frozenset({'Erk', 'PKA', 'PIP3'})]\n",
      "('Erk', 'PKA')\n",
      "[]\n",
      "[('PIP3', 'Erk'), ('Erk', 'PKA'), ('PIP3', 'PKA'), ('Erk', 'PIP3'), ('PKA', 'PIP3')]\n",
      "pyAgrum version 0.19.0\n",
      "(c) 2015-2020 Pierre-Henri Wuillemin, Christophe Gonzales, Lionel Torti\n",
      "\n",
      "    This is free software; see the source code for copying conditions.\n",
      "    There is ABSOLUTELY NO WARRANTY; not even for MERCHANTABILITY or\n",
      "    FITNESS FOR A PARTICULAR PURPOSE.  For details, see 'pyAgrum.warranty'.\n",
      "    \n"
     ]
    },
    {
     "name": "stderr",
     "output_type": "stream",
     "text": [
      "  0%|          | 17/1000000 [00:03<63:17:06,  4.39it/s]\n",
      "  0%|          | 17/1000000 [00:04<79:39:15,  3.49it/s]\n"
     ]
    },
    {
     "name": "stdout",
     "output_type": "stream",
     "text": [
      " /root/sachs.csv : [ ######################################################### ] 100%\n",
      "Log2-Likelihood : -3091.2617873652607\n"
     ]
    },
    {
     "name": "stderr",
     "output_type": "stream",
     "text": [
      "Working for n conditional variables: 1:  20%|██        | 1/5 [00:00<00:00, 73.80it/s]\n",
      "Working for n conditional variables: 1:  20%|██        | 1/5 [00:00<00:00, 89.26it/s] \n",
      "Working for n conditional variables: 2:  40%|████      | 2/5 [00:00<00:00, 140.22it/s]\n",
      "  0%|          | 0/1000000 [00:00<?, ?it/s]"
     ]
    },
    {
     "name": "stdout",
     "output_type": "stream",
     "text": [
      "[('PKA', 'Erk')]\n",
      "[frozenset({'Erk', 'PIP3'}), frozenset({'PKA', 'PIP3'}), frozenset({'Erk', 'PKA'})]\n",
      "('Erk', 'PKA')\n",
      "[]\n",
      "[('PIP3', 'Erk'), ('Erk', 'PKA'), ('PIP3', 'PKA'), ('Erk', 'PIP3'), ('PKA', 'PIP3')]\n",
      "pyAgrum version 0.19.0\n",
      "(c) 2015-2020 Pierre-Henri Wuillemin, Christophe Gonzales, Lionel Torti\n",
      "\n",
      "    This is free software; see the source code for copying conditions.\n",
      "    There is ABSOLUTELY NO WARRANTY; not even for MERCHANTABILITY or\n",
      "    FITNESS FOR A PARTICULAR PURPOSE.  For details, see 'pyAgrum.warranty'.\n",
      "    \n"
     ]
    },
    {
     "name": "stderr",
     "output_type": "stream",
     "text": [
      "  0%|          | 16/1000000 [00:04<74:09:34,  3.75it/s]\n",
      "  0%|          | 16/1000000 [00:04<70:42:33,  3.93it/s]\n"
     ]
    },
    {
     "name": "stdout",
     "output_type": "stream",
     "text": [
      " /root/sachs.csv : [ ######################################################### ] 100%\n",
      "Log2-Likelihood : -3109.4439839073148\n"
     ]
    },
    {
     "name": "stderr",
     "output_type": "stream",
     "text": [
      "Working for n conditional variables: 1:  20%|██        | 1/5 [00:00<00:00, 78.96it/s]\n",
      "Working for n conditional variables: 2:  40%|████      | 2/5 [00:00<00:00, 150.84it/s]\n",
      "Working for n conditional variables: 1:  20%|██        | 1/5 [00:00<00:00, 84.20it/s] \n",
      "  0%|          | 0/1000000 [00:00<?, ?it/s]"
     ]
    },
    {
     "name": "stdout",
     "output_type": "stream",
     "text": [
      "[('PKA', 'Erk')]\n",
      "[frozenset({'Erk', 'PIP3'}), frozenset({'Erk', 'PKA'}), frozenset({'PKA', 'PIP3'})]\n",
      "('Erk', 'PKA')\n",
      "[]\n",
      "[('PIP3', 'Erk'), ('Erk', 'PKA'), ('PIP3', 'PKA'), ('Erk', 'PIP3'), ('PKA', 'PIP3')]\n",
      "pyAgrum version 0.19.0\n",
      "(c) 2015-2020 Pierre-Henri Wuillemin, Christophe Gonzales, Lionel Torti\n",
      "\n",
      "    This is free software; see the source code for copying conditions.\n",
      "    There is ABSOLUTELY NO WARRANTY; not even for MERCHANTABILITY or\n",
      "    FITNESS FOR A PARTICULAR PURPOSE.  For details, see 'pyAgrum.warranty'.\n",
      "    \n"
     ]
    },
    {
     "name": "stderr",
     "output_type": "stream",
     "text": [
      "  0%|          | 17/1000000 [00:03<62:30:34,  4.44it/s]\n",
      "  0%|          | 15/1000000 [00:03<63:12:11,  4.39it/s]\n"
     ]
    },
    {
     "name": "stdout",
     "output_type": "stream",
     "text": [
      " /root/sachs.csv : [ ######################################################### ] 100%root/sachs.csv : [ #######################################################   ] 97%\n",
      "Log2-Likelihood : -3177.8503969915932\n"
     ]
    },
    {
     "name": "stderr",
     "output_type": "stream",
     "text": [
      "Working for n conditional variables: 1:  20%|██        | 1/5 [00:00<00:00, 102.99it/s]\n",
      "Working for n conditional variables: 1:  20%|██        | 1/5 [00:00<00:00, 92.73it/s] \n",
      "Working for n conditional variables: 2:  40%|████      | 2/5 [00:00<00:00, 190.55it/s]\n",
      "  0%|          | 0/1000000 [00:00<?, ?it/s]"
     ]
    },
    {
     "name": "stdout",
     "output_type": "stream",
     "text": [
      "[('PIP3', 'Erk'), ('PKA', 'Erk')]\n",
      "[frozenset({'Erk', 'PIP3'}), frozenset({'PKA', 'PIP3'}), frozenset({'Erk', 'PKA'})]\n",
      "('Erk', 'PKA')\n",
      "[]\n",
      "[('Erk', 'PIP3'), ('PKA', 'PIP3'), ('Erk', 'PKA'), ('PIP3', 'PKA')]\n",
      "pyAgrum version 0.19.0\n",
      "(c) 2015-2020 Pierre-Henri Wuillemin, Christophe Gonzales, Lionel Torti\n",
      "\n",
      "    This is free software; see the source code for copying conditions.\n",
      "    There is ABSOLUTELY NO WARRANTY; not even for MERCHANTABILITY or\n",
      "    FITNESS FOR A PARTICULAR PURPOSE.  For details, see 'pyAgrum.warranty'.\n",
      "    \n"
     ]
    },
    {
     "name": "stderr",
     "output_type": "stream",
     "text": [
      "  0%|          | 16/1000000 [00:02<48:32:14,  5.72it/s]\n",
      "  0%|          | 16/1000000 [00:02<48:20:02,  5.75it/s]\n"
     ]
    },
    {
     "name": "stdout",
     "output_type": "stream",
     "text": [
      " /root/sachs.csv : [ ######################################################### ] 100%\n",
      "Log2-Likelihood : -3123.8452378384354\n"
     ]
    },
    {
     "name": "stderr",
     "output_type": "stream",
     "text": [
      "Working for n conditional variables: 1:  20%|██        | 1/5 [00:00<00:00, 106.76it/s]\n",
      "Working for n conditional variables: 1:  20%|██        | 1/5 [00:00<00:00, 87.28it/s] \n",
      "Working for n conditional variables: 2:  40%|████      | 2/5 [00:00<00:00, 168.57it/s]\n",
      "  0%|          | 0/1000000 [00:00<?, ?it/s]"
     ]
    },
    {
     "name": "stdout",
     "output_type": "stream",
     "text": [
      "[]\n",
      "[frozenset({'Erk', 'PIP3'}), frozenset({'PKA', 'PIP3'}), frozenset({'Erk', 'PKA'})]\n",
      "('Erk', 'PKA')\n",
      "[]\n",
      "[('PIP3', 'Erk'), ('PKA', 'Erk'), ('Erk', 'PKA'), ('PIP3', 'PKA'), ('Erk', 'PIP3'), ('PKA', 'PIP3')]\n",
      "pyAgrum version 0.19.0\n",
      "(c) 2015-2020 Pierre-Henri Wuillemin, Christophe Gonzales, Lionel Torti\n",
      "\n",
      "    This is free software; see the source code for copying conditions.\n",
      "    There is ABSOLUTELY NO WARRANTY; not even for MERCHANTABILITY or\n",
      "    FITNESS FOR A PARTICULAR PURPOSE.  For details, see 'pyAgrum.warranty'.\n",
      "    \n"
     ]
    },
    {
     "name": "stderr",
     "output_type": "stream",
     "text": [
      "  0%|          | 15/1000000 [00:03<67:48:06,  4.10it/s]\n",
      "  0%|          | 15/1000000 [00:03<68:11:10,  4.07it/s]\n"
     ]
    },
    {
     "name": "stdout",
     "output_type": "stream",
     "text": [
      " /root/sachs.csv : [ ######################################################### ] 100%root/sachs.csv : [ #######################################################   ] 97%\n",
      "Log2-Likelihood : -3066.7960552824015\n"
     ]
    },
    {
     "name": "stderr",
     "output_type": "stream",
     "text": [
      "Working for n conditional variables: 2:  40%|████      | 2/5 [00:00<00:00, 56.94it/s]\n",
      "  0%|          | 0/1000000 [00:00<?, ?it/s]"
     ]
    },
    {
     "name": "stdout",
     "output_type": "stream",
     "text": [
      "[('PKA', 'Erk')]\n",
      "[frozenset({'Erk', 'PKA', 'PIP3'})]\n",
      "('Erk', 'PKA')\n",
      "[]\n",
      "[('PIP3', 'Erk'), ('Erk', 'PKA'), ('PIP3', 'PKA'), ('Erk', 'PIP3'), ('PKA', 'PIP3')]\n",
      "pyAgrum version 0.19.0\n",
      "(c) 2015-2020 Pierre-Henri Wuillemin, Christophe Gonzales, Lionel Torti\n",
      "\n",
      "    This is free software; see the source code for copying conditions.\n",
      "    There is ABSOLUTELY NO WARRANTY; not even for MERCHANTABILITY or\n",
      "    FITNESS FOR A PARTICULAR PURPOSE.  For details, see 'pyAgrum.warranty'.\n",
      "    \n"
     ]
    },
    {
     "name": "stderr",
     "output_type": "stream",
     "text": [
      "  0%|          | 13/1000000 [00:03<74:38:57,  3.72it/s]\n",
      "  0%|          | 13/1000000 [00:03<84:33:40,  3.28it/s]\n"
     ]
    },
    {
     "name": "stdout",
     "output_type": "stream",
     "text": [
      " /root/sachs.csv : [ ######################################################### ] 100%root/sachs.csv : [ ##########################################                ] 73%\n",
      "Log2-Likelihood : -3022.9592332383227\n"
     ]
    },
    {
     "name": "stderr",
     "output_type": "stream",
     "text": [
      "Working for n conditional variables: 1:  20%|██        | 1/5 [00:00<00:00, 77.70it/s]\n",
      "Working for n conditional variables: 2:  40%|████      | 2/5 [00:00<00:00, 138.67it/s]\n",
      "  0%|          | 0/1000000 [00:00<?, ?it/s]"
     ]
    },
    {
     "name": "stdout",
     "output_type": "stream",
     "text": [
      "[('PKA', 'Erk')]\n",
      "[frozenset({'Erk', 'PIP3'}), frozenset({'Erk', 'PKA'})]\n",
      "('Erk', 'PKA')\n",
      "[]\n",
      "[('Erk', 'PIP3'), ('Erk', 'PKA'), ('PIP3', 'Erk')]\n",
      "pyAgrum version 0.19.0\n",
      "(c) 2015-2020 Pierre-Henri Wuillemin, Christophe Gonzales, Lionel Torti\n",
      "\n",
      "    This is free software; see the source code for copying conditions.\n",
      "    There is ABSOLUTELY NO WARRANTY; not even for MERCHANTABILITY or\n",
      "    FITNESS FOR A PARTICULAR PURPOSE.  For details, see 'pyAgrum.warranty'.\n",
      "    \n"
     ]
    },
    {
     "name": "stderr",
     "output_type": "stream",
     "text": [
      "  0%|          | 16/1000000 [00:04<74:59:23,  3.70it/s]\n",
      "  0%|          | 16/1000000 [00:04<72:00:53,  3.86it/s]\n"
     ]
    },
    {
     "name": "stdout",
     "output_type": "stream",
     "text": [
      " /root/sachs.csv : [ ######################################################### ] 100%root/sachs.csv : [ #######################################################   ] 96%\n",
      "Log2-Likelihood : -5146.94090066237\n"
     ]
    },
    {
     "name": "stderr",
     "output_type": "stream",
     "text": [
      "Working for n conditional variables: 1:  20%|██        | 1/5 [00:00<00:00, 95.10it/s] \n",
      "Working for n conditional variables: 2:  40%|████      | 2/5 [00:00<00:00, 124.44it/s]\n",
      "Working for n conditional variables: 1:  20%|██        | 1/5 [00:00<00:00, 75.54it/s]\n",
      "  0%|          | 0/1000000 [00:00<?, ?it/s]"
     ]
    },
    {
     "name": "stdout",
     "output_type": "stream",
     "text": [
      "[('PKA', 'Erk')]\n",
      "[frozenset({'PKA', 'PIP3'}), frozenset({'Erk', 'PKA'}), frozenset({'Erk', 'PIP3'})]\n",
      "('Erk', 'PKA')\n",
      "[]\n",
      "[('PIP3', 'Erk'), ('Erk', 'PKA'), ('PIP3', 'PKA'), ('Erk', 'PIP3'), ('PKA', 'PIP3')]\n",
      "pyAgrum version 0.19.0\n",
      "(c) 2015-2020 Pierre-Henri Wuillemin, Christophe Gonzales, Lionel Torti\n",
      "\n",
      "    This is free software; see the source code for copying conditions.\n",
      "    There is ABSOLUTELY NO WARRANTY; not even for MERCHANTABILITY or\n",
      "    FITNESS FOR A PARTICULAR PURPOSE.  For details, see 'pyAgrum.warranty'.\n",
      "    \n"
     ]
    },
    {
     "name": "stderr",
     "output_type": "stream",
     "text": [
      "  0%|          | 16/1000000 [00:03<59:41:43,  4.65it/s]\n",
      "  0%|          | 16/1000000 [00:03<61:38:34,  4.51it/s]\n"
     ]
    },
    {
     "name": "stdout",
     "output_type": "stream",
     "text": [
      " /root/sachs.csv : [ ######################################################### ] 100%\n",
      "Log2-Likelihood : -5084.709412894423\n"
     ]
    },
    {
     "name": "stderr",
     "output_type": "stream",
     "text": [
      "Working for n conditional variables: 1:  20%|██        | 1/5 [00:00<00:00, 65.53it/s]\n",
      "Working for n conditional variables: 1:  20%|██        | 1/5 [00:00<00:00, 87.72it/s] \n",
      "Working for n conditional variables: 2:  40%|████      | 2/5 [00:00<00:00, 128.88it/s]\n",
      "  0%|          | 0/1000000 [00:00<?, ?it/s]"
     ]
    },
    {
     "name": "stdout",
     "output_type": "stream",
     "text": [
      "[('PKA', 'Erk')]\n",
      "[frozenset({'Erk', 'PIP3'}), frozenset({'PKA', 'PIP3'}), frozenset({'Erk', 'PKA'})]\n",
      "('Erk', 'PKA')\n",
      "[]\n",
      "[('PIP3', 'Erk'), ('Erk', 'PKA'), ('PIP3', 'PKA'), ('Erk', 'PIP3'), ('PKA', 'PIP3')]\n",
      "pyAgrum version 0.19.0\n",
      "(c) 2015-2020 Pierre-Henri Wuillemin, Christophe Gonzales, Lionel Torti\n",
      "\n",
      "    This is free software; see the source code for copying conditions.\n",
      "    There is ABSOLUTELY NO WARRANTY; not even for MERCHANTABILITY or\n",
      "    FITNESS FOR A PARTICULAR PURPOSE.  For details, see 'pyAgrum.warranty'.\n",
      "    \n"
     ]
    },
    {
     "name": "stderr",
     "output_type": "stream",
     "text": [
      "  0%|          | 15/1000000 [00:03<68:27:30,  4.06it/s]\n",
      "  0%|          | 15/1000000 [00:03<62:31:31,  4.44it/s]\n"
     ]
    },
    {
     "name": "stdout",
     "output_type": "stream",
     "text": [
      " /root/sachs.csv : [ ######################################################### ] 100%\n",
      "Log2-Likelihood : -5073.3070638184445\n"
     ]
    },
    {
     "name": "stderr",
     "output_type": "stream",
     "text": [
      "Working for n conditional variables: 1:  20%|██        | 1/5 [00:00<00:00, 93.97it/s] \n",
      "Working for n conditional variables: 2:  40%|████      | 2/5 [00:00<00:00, 157.92it/s]\n",
      "Working for n conditional variables: 1:  20%|██        | 1/5 [00:00<00:00, 107.15it/s]\n",
      "  0%|          | 0/1000000 [00:00<?, ?it/s]"
     ]
    },
    {
     "name": "stdout",
     "output_type": "stream",
     "text": [
      "[('PKA', 'Erk')]\n",
      "[frozenset({'Erk', 'PIP3'}), frozenset({'Erk', 'PKA'}), frozenset({'PKA', 'PIP3'})]\n",
      "('Erk', 'PKA')\n",
      "[]\n",
      "[('PIP3', 'Erk'), ('Erk', 'PKA'), ('PIP3', 'PKA'), ('Erk', 'PIP3'), ('PKA', 'PIP3')]\n",
      "pyAgrum version 0.19.0\n",
      "(c) 2015-2020 Pierre-Henri Wuillemin, Christophe Gonzales, Lionel Torti\n",
      "\n",
      "    This is free software; see the source code for copying conditions.\n",
      "    There is ABSOLUTELY NO WARRANTY; not even for MERCHANTABILITY or\n",
      "    FITNESS FOR A PARTICULAR PURPOSE.  For details, see 'pyAgrum.warranty'.\n",
      "    \n"
     ]
    },
    {
     "name": "stderr",
     "output_type": "stream",
     "text": [
      "  0%|          | 17/1000000 [00:03<61:47:27,  4.50it/s]\n",
      "  0%|          | 17/1000000 [00:03<60:45:49,  4.57it/s]\n"
     ]
    },
    {
     "name": "stdout",
     "output_type": "stream",
     "text": [
      " /root/sachs.csv : [ ######################################################### ] 100%\n",
      "Log2-Likelihood : -5266.529740899167\n"
     ]
    },
    {
     "name": "stderr",
     "output_type": "stream",
     "text": [
      "Working for n conditional variables: 1:  20%|██        | 1/5 [00:00<00:00, 83.64it/s]\n",
      "Working for n conditional variables: 2:  40%|████      | 2/5 [00:00<00:00, 185.84it/s]\n",
      "  0%|          | 0/1000000 [00:00<?, ?it/s]"
     ]
    },
    {
     "name": "stdout",
     "output_type": "stream",
     "text": [
      "[]\n",
      "[frozenset({'Erk', 'PIP3'}), frozenset({'Erk', 'PKA'})]\n",
      "('Erk', 'PKA')\n",
      "[]\n",
      "[('Erk', 'PIP3'), ('PKA', 'Erk'), ('Erk', 'PKA'), ('PIP3', 'Erk')]\n",
      "pyAgrum version 0.19.0\n",
      "(c) 2015-2020 Pierre-Henri Wuillemin, Christophe Gonzales, Lionel Torti\n",
      "\n",
      "    This is free software; see the source code for copying conditions.\n",
      "    There is ABSOLUTELY NO WARRANTY; not even for MERCHANTABILITY or\n",
      "    FITNESS FOR A PARTICULAR PURPOSE.  For details, see 'pyAgrum.warranty'.\n",
      "    \n"
     ]
    },
    {
     "name": "stderr",
     "output_type": "stream",
     "text": [
      "  0%|          | 15/1000000 [00:03<58:38:41,  4.74it/s]\n",
      "  0%|          | 15/1000000 [00:03<62:34:37,  4.44it/s]\n"
     ]
    },
    {
     "name": "stdout",
     "output_type": "stream",
     "text": [
      " /root/sachs.csv : [ ######################################################### ] 100%\n",
      "Log2-Likelihood : -5197.6581968327055\n"
     ]
    },
    {
     "name": "stderr",
     "output_type": "stream",
     "text": [
      "Working for n conditional variables: 1:  20%|██        | 1/5 [00:00<00:00, 81.96it/s] \n",
      "Working for n conditional variables: 2:  40%|████      | 2/5 [00:00<00:00, 118.25it/s]\n",
      "Working for n conditional variables: 1:  20%|██        | 1/5 [00:00<00:00, 80.26it/s]\n",
      "  0%|          | 0/1000000 [00:00<?, ?it/s]"
     ]
    },
    {
     "name": "stdout",
     "output_type": "stream",
     "text": [
      "[('PKA', 'Erk')]\n",
      "[frozenset({'PKA', 'PIP3'}), frozenset({'Erk', 'PKA'}), frozenset({'Erk', 'PIP3'})]\n",
      "('Erk', 'PKA')\n",
      "[]\n",
      "[('PIP3', 'Erk'), ('Erk', 'PKA'), ('PIP3', 'PKA'), ('Erk', 'PIP3'), ('PKA', 'PIP3')]\n",
      "pyAgrum version 0.19.0\n",
      "(c) 2015-2020 Pierre-Henri Wuillemin, Christophe Gonzales, Lionel Torti\n",
      "\n",
      "    This is free software; see the source code for copying conditions.\n",
      "    There is ABSOLUTELY NO WARRANTY; not even for MERCHANTABILITY or\n",
      "    FITNESS FOR A PARTICULAR PURPOSE.  For details, see 'pyAgrum.warranty'.\n",
      "    \n"
     ]
    },
    {
     "name": "stderr",
     "output_type": "stream",
     "text": [
      "  0%|          | 16/1000000 [00:03<66:16:21,  4.19it/s]\n",
      "  0%|          | 16/1000000 [00:04<74:30:47,  3.73it/s]\n"
     ]
    },
    {
     "name": "stdout",
     "output_type": "stream",
     "text": [
      " /root/sachs.csv : [ ######################################################### ] 100%\n",
      "Log2-Likelihood : -5248.727137393548\n"
     ]
    },
    {
     "name": "stderr",
     "output_type": "stream",
     "text": [
      "Working for n conditional variables: 1:  20%|██        | 1/5 [00:00<00:00, 62.17it/s]\n",
      "Working for n conditional variables: 2:  40%|████      | 2/5 [00:00<00:00, 115.45it/s]\n",
      "  0%|          | 0/1000000 [00:00<?, ?it/s]"
     ]
    },
    {
     "name": "stdout",
     "output_type": "stream",
     "text": [
      "[]\n",
      "[frozenset({'Erk', 'PIP3'}), frozenset({'Erk', 'PKA'})]\n",
      "('Erk', 'PKA')\n",
      "[]\n",
      "[('Erk', 'PIP3'), ('PKA', 'Erk'), ('Erk', 'PKA'), ('PIP3', 'Erk')]\n",
      "pyAgrum version 0.19.0\n",
      "(c) 2015-2020 Pierre-Henri Wuillemin, Christophe Gonzales, Lionel Torti\n",
      "\n",
      "    This is free software; see the source code for copying conditions.\n",
      "    There is ABSOLUTELY NO WARRANTY; not even for MERCHANTABILITY or\n",
      "    FITNESS FOR A PARTICULAR PURPOSE.  For details, see 'pyAgrum.warranty'.\n",
      "    \n"
     ]
    },
    {
     "name": "stderr",
     "output_type": "stream",
     "text": [
      "  0%|          | 16/1000000 [00:03<66:07:34,  4.20it/s]\n",
      "  0%|          | 16/1000000 [00:03<61:16:44,  4.53it/s]\n"
     ]
    },
    {
     "name": "stdout",
     "output_type": "stream",
     "text": [
      " /root/sachs.csv : [ ######################################################### ] 100%\n",
      "Log2-Likelihood : -5245.697220973255\n"
     ]
    },
    {
     "name": "stderr",
     "output_type": "stream",
     "text": [
      "Working for n conditional variables: 1:  20%|██        | 1/5 [00:00<00:00, 82.02it/s]\n",
      "Working for n conditional variables: 2:  40%|████      | 2/5 [00:00<00:00, 181.71it/s]\n",
      "  0%|          | 0/1000000 [00:00<?, ?it/s]"
     ]
    },
    {
     "name": "stdout",
     "output_type": "stream",
     "text": [
      "[('PKA', 'Erk')]\n",
      "[frozenset({'Erk', 'PIP3'}), frozenset({'Erk', 'PKA'})]\n",
      "('Erk', 'PKA')\n",
      "[]\n",
      "[('Erk', 'PIP3'), ('Erk', 'PKA'), ('PIP3', 'Erk')]\n",
      "pyAgrum version 0.19.0\n",
      "(c) 2015-2020 Pierre-Henri Wuillemin, Christophe Gonzales, Lionel Torti\n",
      "\n",
      "    This is free software; see the source code for copying conditions.\n",
      "    There is ABSOLUTELY NO WARRANTY; not even for MERCHANTABILITY or\n",
      "    FITNESS FOR A PARTICULAR PURPOSE.  For details, see 'pyAgrum.warranty'.\n",
      "    \n"
     ]
    },
    {
     "name": "stderr",
     "output_type": "stream",
     "text": [
      "  0%|          | 17/1000000 [00:03<59:41:38,  4.65it/s]\n",
      "  0%|          | 17/1000000 [00:04<65:25:26,  4.25it/s]\n"
     ]
    },
    {
     "name": "stdout",
     "output_type": "stream",
     "text": [
      " /root/sachs.csv : [ ######################################################### ] 100%\n",
      "Log2-Likelihood : -5065.834489967213\n"
     ]
    },
    {
     "name": "stderr",
     "output_type": "stream",
     "text": [
      "Working for n conditional variables: 2:  40%|████      | 2/5 [00:00<00:00, 170.11it/s]\n",
      "Working for n conditional variables: 1:  20%|██        | 1/5 [00:00<00:00, 110.51it/s]\n",
      "Working for n conditional variables: 1:  20%|██        | 1/5 [00:00<00:00, 65.34it/s]\n",
      "  0%|          | 0/1000000 [00:00<?, ?it/s]"
     ]
    },
    {
     "name": "stdout",
     "output_type": "stream",
     "text": [
      "[('PKA', 'Erk')]\n",
      "[frozenset({'Erk', 'PKA'}), frozenset({'PKA', 'PIP3'}), frozenset({'Erk', 'PIP3'})]\n",
      "('Erk', 'PKA')\n",
      "[]\n",
      "[('PIP3', 'Erk'), ('Erk', 'PKA'), ('PIP3', 'PKA'), ('Erk', 'PIP3'), ('PKA', 'PIP3')]\n",
      "pyAgrum version 0.19.0\n",
      "(c) 2015-2020 Pierre-Henri Wuillemin, Christophe Gonzales, Lionel Torti\n",
      "\n",
      "    This is free software; see the source code for copying conditions.\n",
      "    There is ABSOLUTELY NO WARRANTY; not even for MERCHANTABILITY or\n",
      "    FITNESS FOR A PARTICULAR PURPOSE.  For details, see 'pyAgrum.warranty'.\n",
      "    \n"
     ]
    },
    {
     "name": "stderr",
     "output_type": "stream",
     "text": [
      "  0%|          | 19/1000000 [00:03<56:23:34,  4.93it/s]\n",
      "  0%|          | 17/1000000 [00:03<61:19:01,  4.53it/s]\n"
     ]
    },
    {
     "name": "stdout",
     "output_type": "stream",
     "text": [
      " /root/sachs.csv : [ ######################################################### ] 100%\n",
      "Log2-Likelihood : -5213.32895202327\n"
     ]
    },
    {
     "name": "stderr",
     "output_type": "stream",
     "text": [
      "Working for n conditional variables: 2:  40%|████      | 2/5 [00:00<00:00, 186.93it/s]\n",
      "Working for n conditional variables: 1:  20%|██        | 1/5 [00:00<00:00, 106.95it/s]\n",
      "  0%|          | 0/1000000 [00:00<?, ?it/s]"
     ]
    },
    {
     "name": "stdout",
     "output_type": "stream",
     "text": [
      "[('PKA', 'Erk')]\n",
      "[frozenset({'Erk', 'PKA'}), frozenset({'Erk', 'PIP3'})]\n",
      "('Erk', 'PKA')\n",
      "[]\n",
      "[('Erk', 'PIP3'), ('Erk', 'PKA'), ('PIP3', 'Erk')]\n",
      "pyAgrum version 0.19.0\n",
      "(c) 2015-2020 Pierre-Henri Wuillemin, Christophe Gonzales, Lionel Torti\n",
      "\n",
      "    This is free software; see the source code for copying conditions.\n",
      "    There is ABSOLUTELY NO WARRANTY; not even for MERCHANTABILITY or\n",
      "    FITNESS FOR A PARTICULAR PURPOSE.  For details, see 'pyAgrum.warranty'.\n",
      "    \n"
     ]
    },
    {
     "name": "stderr",
     "output_type": "stream",
     "text": [
      "  0%|          | 17/1000000 [00:03<55:57:51,  4.96it/s]\n",
      "  0%|          | 17/1000000 [00:03<55:15:33,  5.03it/s]\n"
     ]
    },
    {
     "name": "stdout",
     "output_type": "stream",
     "text": [
      " /root/sachs.csv : [ ######################################################### ] 100%root/sachs.csv : [ ###############################################           ] 83%\n",
      "Log2-Likelihood : -5185.411006458242\n"
     ]
    },
    {
     "name": "stderr",
     "output_type": "stream",
     "text": [
      "Working for n conditional variables: 2:  40%|████      | 2/5 [00:00<00:00, 163.97it/s]\n",
      "Working for n conditional variables: 1:  20%|██        | 1/5 [00:00<00:00, 79.79it/s]\n",
      "Working for n conditional variables: 1:  20%|██        | 1/5 [00:00<00:00, 93.45it/s] \n",
      "  0%|          | 0/1000000 [00:00<?, ?it/s]"
     ]
    },
    {
     "name": "stdout",
     "output_type": "stream",
     "text": [
      "[('PKA', 'Erk')]\n",
      "[frozenset({'Erk', 'PKA'}), frozenset({'PKA', 'PIP3'}), frozenset({'Erk', 'PIP3'})]\n",
      "('Erk', 'PKA')\n",
      "[]\n",
      "[('PIP3', 'Erk'), ('Erk', 'PKA'), ('PIP3', 'PKA'), ('Erk', 'PIP3'), ('PKA', 'PIP3')]\n",
      "pyAgrum version 0.19.0\n",
      "(c) 2015-2020 Pierre-Henri Wuillemin, Christophe Gonzales, Lionel Torti\n",
      "\n",
      "    This is free software; see the source code for copying conditions.\n",
      "    There is ABSOLUTELY NO WARRANTY; not even for MERCHANTABILITY or\n",
      "    FITNESS FOR A PARTICULAR PURPOSE.  For details, see 'pyAgrum.warranty'.\n",
      "    \n"
     ]
    },
    {
     "name": "stderr",
     "output_type": "stream",
     "text": [
      "  0%|          | 16/1000000 [00:03<58:20:34,  4.76it/s]\n",
      "  0%|          | 16/1000000 [00:03<58:42:23,  4.73it/s]\n"
     ]
    },
    {
     "name": "stdout",
     "output_type": "stream",
     "text": [
      " /root/sachs.csv : [ ######################################################### ] 100%\n",
      "Log2-Likelihood : -5218.181791766066\n"
     ]
    },
    {
     "name": "stderr",
     "output_type": "stream",
     "text": [
      "Working for n conditional variables: 1:  20%|██        | 1/5 [00:00<00:00, 96.15it/s] \n",
      "Working for n conditional variables: 1:  20%|██        | 1/5 [00:00<00:00, 91.43it/s] \n",
      "Working for n conditional variables: 2:  40%|████      | 2/5 [00:00<00:00, 155.98it/s]\n",
      "  0%|          | 0/1000000 [00:00<?, ?it/s]"
     ]
    },
    {
     "name": "stdout",
     "output_type": "stream",
     "text": [
      "[('PKA', 'Erk')]\n",
      "[frozenset({'PKA', 'PIP3'}), frozenset({'Erk', 'PIP3'}), frozenset({'Erk', 'PKA'})]\n",
      "('Erk', 'PKA')\n",
      "[]\n",
      "[('PIP3', 'Erk'), ('Erk', 'PKA'), ('PIP3', 'PKA'), ('Erk', 'PIP3'), ('PKA', 'PIP3')]\n",
      "pyAgrum version 0.19.0\n",
      "(c) 2015-2020 Pierre-Henri Wuillemin, Christophe Gonzales, Lionel Torti\n",
      "\n",
      "    This is free software; see the source code for copying conditions.\n",
      "    There is ABSOLUTELY NO WARRANTY; not even for MERCHANTABILITY or\n",
      "    FITNESS FOR A PARTICULAR PURPOSE.  For details, see 'pyAgrum.warranty'.\n",
      "    \n"
     ]
    },
    {
     "name": "stderr",
     "output_type": "stream",
     "text": [
      "  0%|          | 17/1000000 [00:03<59:41:54,  4.65it/s]\n",
      "  0%|          | 17/1000000 [00:03<60:36:55,  4.58it/s]\n"
     ]
    },
    {
     "name": "stdout",
     "output_type": "stream",
     "text": [
      " /root/sachs.csv : [ ######################################################### ] 100%\n",
      "Log2-Likelihood : -5044.156155192448\n"
     ]
    },
    {
     "name": "stderr",
     "output_type": "stream",
     "text": [
      "Working for n conditional variables: 2:  40%|████      | 2/5 [00:00<00:00, 173.07it/s]\n",
      "Working for n conditional variables: 1:  20%|██        | 1/5 [00:00<00:00, 105.12it/s]\n",
      "Working for n conditional variables: 1:  20%|██        | 1/5 [00:00<00:00, 66.73it/s]\n",
      "  0%|          | 0/1000000 [00:00<?, ?it/s]"
     ]
    },
    {
     "name": "stdout",
     "output_type": "stream",
     "text": [
      "[]\n",
      "[frozenset({'Erk', 'PKA'}), frozenset({'PKA', 'PIP3'}), frozenset({'Erk', 'PIP3'})]\n",
      "('Erk', 'PKA')\n",
      "[]\n",
      "[('PIP3', 'Erk'), ('PKA', 'Erk'), ('Erk', 'PKA'), ('PIP3', 'PKA'), ('Erk', 'PIP3'), ('PKA', 'PIP3')]\n",
      "pyAgrum version 0.19.0\n",
      "(c) 2015-2020 Pierre-Henri Wuillemin, Christophe Gonzales, Lionel Torti\n",
      "\n",
      "    This is free software; see the source code for copying conditions.\n",
      "    There is ABSOLUTELY NO WARRANTY; not even for MERCHANTABILITY or\n",
      "    FITNESS FOR A PARTICULAR PURPOSE.  For details, see 'pyAgrum.warranty'.\n",
      "    \n"
     ]
    },
    {
     "name": "stderr",
     "output_type": "stream",
     "text": [
      "  0%|          | 17/1000000 [00:03<59:34:56,  4.66it/s]\n",
      "  0%|          | 17/1000000 [00:03<58:19:18,  4.76it/s]\n"
     ]
    },
    {
     "name": "stdout",
     "output_type": "stream",
     "text": [
      " /root/sachs.csv : [ ######################################################### ] 100%\n",
      "Log2-Likelihood : -5189.231801643685\n"
     ]
    },
    {
     "name": "stderr",
     "output_type": "stream",
     "text": [
      "Working for n conditional variables: 2:  40%|████      | 2/5 [00:00<00:00, 77.91it/s]\n",
      "  0%|          | 0/1000000 [00:00<?, ?it/s]"
     ]
    },
    {
     "name": "stdout",
     "output_type": "stream",
     "text": [
      "[('PKA', 'Erk')]\n",
      "[frozenset({'Erk', 'PKA', 'PIP3'})]\n",
      "('Erk', 'PKA')\n",
      "[]\n",
      "[('PIP3', 'Erk'), ('Erk', 'PKA'), ('PIP3', 'PKA'), ('Erk', 'PIP3'), ('PKA', 'PIP3')]\n",
      "pyAgrum version 0.19.0\n",
      "(c) 2015-2020 Pierre-Henri Wuillemin, Christophe Gonzales, Lionel Torti\n",
      "\n",
      "    This is free software; see the source code for copying conditions.\n",
      "    There is ABSOLUTELY NO WARRANTY; not even for MERCHANTABILITY or\n",
      "    FITNESS FOR A PARTICULAR PURPOSE.  For details, see 'pyAgrum.warranty'.\n",
      "    \n"
     ]
    },
    {
     "name": "stderr",
     "output_type": "stream",
     "text": [
      "  0%|          | 16/1000000 [00:03<68:39:41,  4.05it/s]\n",
      "  0%|          | 17/1000000 [00:03<60:12:36,  4.61it/s]\n"
     ]
    },
    {
     "name": "stdout",
     "output_type": "stream",
     "text": [
      " /root/sachs.csv : [ ######################################################### ] 100%\n",
      "Log2-Likelihood : -5124.279236546328\n"
     ]
    },
    {
     "name": "stderr",
     "output_type": "stream",
     "text": [
      "Working for n conditional variables: 1:  20%|██        | 1/5 [00:00<00:00, 109.41it/s]\n",
      "Working for n conditional variables: 2:  40%|████      | 2/5 [00:00<00:00, 133.40it/s]\n",
      "Working for n conditional variables: 1:  20%|██        | 1/5 [00:00<00:00, 79.39it/s]\n",
      "  0%|          | 0/1000000 [00:00<?, ?it/s]"
     ]
    },
    {
     "name": "stdout",
     "output_type": "stream",
     "text": [
      "[('PKA', 'Erk')]\n",
      "[frozenset({'PKA', 'PIP3'}), frozenset({'Erk', 'PKA'}), frozenset({'Erk', 'PIP3'})]\n",
      "('Erk', 'PKA')\n",
      "[]\n",
      "[('PIP3', 'Erk'), ('Erk', 'PKA'), ('PIP3', 'PKA'), ('Erk', 'PIP3'), ('PKA', 'PIP3')]\n",
      "pyAgrum version 0.19.0\n",
      "(c) 2015-2020 Pierre-Henri Wuillemin, Christophe Gonzales, Lionel Torti\n",
      "\n",
      "    This is free software; see the source code for copying conditions.\n",
      "    There is ABSOLUTELY NO WARRANTY; not even for MERCHANTABILITY or\n",
      "    FITNESS FOR A PARTICULAR PURPOSE.  For details, see 'pyAgrum.warranty'.\n",
      "    \n"
     ]
    },
    {
     "name": "stderr",
     "output_type": "stream",
     "text": [
      "  0%|          | 16/1000000 [00:03<63:01:03,  4.41it/s]\n",
      "  0%|          | 16/1000000 [00:03<59:37:15,  4.66it/s]\n"
     ]
    },
    {
     "name": "stdout",
     "output_type": "stream",
     "text": [
      " /root/sachs.csv : [ ######################################################### ] 100%\n",
      "Log2-Likelihood : -5225.900245278355\n"
     ]
    },
    {
     "name": "stderr",
     "output_type": "stream",
     "text": [
      "Working for n conditional variables: 1:  20%|██        | 1/5 [00:00<00:00, 119.12it/s]\n",
      "Working for n conditional variables: 2:  40%|████      | 2/5 [00:00<00:00, 176.98it/s]\n",
      "Working for n conditional variables: 1:  20%|██        | 1/5 [00:00<00:00, 70.43it/s]\n",
      "  0%|          | 0/1000000 [00:00<?, ?it/s]"
     ]
    },
    {
     "name": "stdout",
     "output_type": "stream",
     "text": [
      "[('PKA', 'Erk')]\n",
      "[frozenset({'PKA', 'PIP3'}), frozenset({'Erk', 'PKA'}), frozenset({'Erk', 'PIP3'})]\n",
      "('Erk', 'PKA')\n",
      "[]\n",
      "[('PIP3', 'Erk'), ('Erk', 'PKA'), ('PIP3', 'PKA'), ('Erk', 'PIP3'), ('PKA', 'PIP3')]\n",
      "pyAgrum version 0.19.0\n",
      "(c) 2015-2020 Pierre-Henri Wuillemin, Christophe Gonzales, Lionel Torti\n",
      "\n",
      "    This is free software; see the source code for copying conditions.\n",
      "    There is ABSOLUTELY NO WARRANTY; not even for MERCHANTABILITY or\n",
      "    FITNESS FOR A PARTICULAR PURPOSE.  For details, see 'pyAgrum.warranty'.\n",
      "    \n"
     ]
    },
    {
     "name": "stderr",
     "output_type": "stream",
     "text": [
      "  0%|          | 16/1000000 [00:03<62:57:17,  4.41it/s]\n",
      "  0%|          | 16/1000000 [00:03<62:51:53,  4.42it/s]\n"
     ]
    },
    {
     "name": "stdout",
     "output_type": "stream",
     "text": [
      " /root/sachs.csv : [ ######################################################### ] 100%\n",
      "Log2-Likelihood : -8310.500731148502\n"
     ]
    },
    {
     "name": "stderr",
     "output_type": "stream",
     "text": [
      "Working for n conditional variables: 1:  20%|██        | 1/5 [00:00<00:00, 95.41it/s] \n",
      "Working for n conditional variables: 2:  40%|████      | 2/5 [00:00<00:00, 153.42it/s]\n",
      "Working for n conditional variables: 1:  20%|██        | 1/5 [00:00<00:00, 86.82it/s]\n",
      "  0%|          | 0/1000000 [00:00<?, ?it/s]"
     ]
    },
    {
     "name": "stdout",
     "output_type": "stream",
     "text": [
      "[('PKA', 'Erk')]\n",
      "[frozenset({'Erk', 'PIP3'}), frozenset({'Erk', 'PKA'}), frozenset({'PKA', 'PIP3'})]\n",
      "('Erk', 'PKA')\n",
      "[]\n",
      "[('PIP3', 'Erk'), ('Erk', 'PKA'), ('PIP3', 'PKA'), ('Erk', 'PIP3'), ('PKA', 'PIP3')]\n",
      "pyAgrum version 0.19.0\n",
      "(c) 2015-2020 Pierre-Henri Wuillemin, Christophe Gonzales, Lionel Torti\n",
      "\n",
      "    This is free software; see the source code for copying conditions.\n",
      "    There is ABSOLUTELY NO WARRANTY; not even for MERCHANTABILITY or\n",
      "    FITNESS FOR A PARTICULAR PURPOSE.  For details, see 'pyAgrum.warranty'.\n",
      "    \n"
     ]
    },
    {
     "name": "stderr",
     "output_type": "stream",
     "text": [
      "  0%|          | 18/1000000 [00:03<60:02:13,  4.63it/s]\n",
      "  0%|          | 18/1000000 [00:03<57:54:30,  4.80it/s]\n"
     ]
    },
    {
     "name": "stdout",
     "output_type": "stream",
     "text": [
      " /root/sachs.csv : [ ######################################################### ] 100%\n",
      "Log2-Likelihood : -8179.246058218664\n"
     ]
    },
    {
     "name": "stderr",
     "output_type": "stream",
     "text": [
      "Working for n conditional variables: 1:  20%|██        | 1/5 [00:00<00:00, 77.77it/s]\n",
      "Working for n conditional variables: 1:  20%|██        | 1/5 [00:00<00:00, 77.45it/s]\n",
      "Working for n conditional variables: 2:  40%|████      | 2/5 [00:00<00:00, 149.70it/s]\n",
      "  0%|          | 0/1000000 [00:00<?, ?it/s]"
     ]
    },
    {
     "name": "stdout",
     "output_type": "stream",
     "text": [
      "[('PKA', 'Erk')]\n",
      "[frozenset({'PKA', 'PIP3'}), frozenset({'Erk', 'PIP3'}), frozenset({'Erk', 'PKA'})]\n",
      "('Erk', 'PKA')\n",
      "[]\n",
      "[('PIP3', 'Erk'), ('Erk', 'PKA'), ('PIP3', 'PKA'), ('Erk', 'PIP3'), ('PKA', 'PIP3')]\n",
      "pyAgrum version 0.19.0\n",
      "(c) 2015-2020 Pierre-Henri Wuillemin, Christophe Gonzales, Lionel Torti\n",
      "\n",
      "    This is free software; see the source code for copying conditions.\n",
      "    There is ABSOLUTELY NO WARRANTY; not even for MERCHANTABILITY or\n",
      "    FITNESS FOR A PARTICULAR PURPOSE.  For details, see 'pyAgrum.warranty'.\n",
      "    \n"
     ]
    },
    {
     "name": "stderr",
     "output_type": "stream",
     "text": [
      "  0%|          | 17/1000000 [00:03<62:59:03,  4.41it/s]\n",
      "  0%|          | 17/1000000 [00:03<58:59:39,  4.71it/s]\n"
     ]
    },
    {
     "name": "stdout",
     "output_type": "stream",
     "text": [
      " /root/sachs.csv : [ ######################################################### ] 100%\n",
      "Log2-Likelihood : -8245.565511082288\n"
     ]
    },
    {
     "name": "stderr",
     "output_type": "stream",
     "text": [
      "Working for n conditional variables: 1:  20%|██        | 1/5 [00:00<00:00, 96.38it/s] \n",
      "Working for n conditional variables: 2:  40%|████      | 2/5 [00:00<00:00, 131.75it/s]\n",
      "Working for n conditional variables: 1:  20%|██        | 1/5 [00:00<00:00, 73.24it/s]\n",
      "  0%|          | 0/1000000 [00:00<?, ?it/s]"
     ]
    },
    {
     "name": "stdout",
     "output_type": "stream",
     "text": [
      "[('PKA', 'Erk')]\n",
      "[frozenset({'PKA', 'PIP3'}), frozenset({'Erk', 'PKA'}), frozenset({'Erk', 'PIP3'})]\n",
      "('Erk', 'PKA')\n",
      "[]\n",
      "[('PIP3', 'Erk'), ('Erk', 'PKA'), ('PIP3', 'PKA'), ('Erk', 'PIP3'), ('PKA', 'PIP3')]\n",
      "pyAgrum version 0.19.0\n",
      "(c) 2015-2020 Pierre-Henri Wuillemin, Christophe Gonzales, Lionel Torti\n",
      "\n",
      "    This is free software; see the source code for copying conditions.\n",
      "    There is ABSOLUTELY NO WARRANTY; not even for MERCHANTABILITY or\n",
      "    FITNESS FOR A PARTICULAR PURPOSE.  For details, see 'pyAgrum.warranty'.\n",
      "    \n"
     ]
    },
    {
     "name": "stderr",
     "output_type": "stream",
     "text": [
      "  0%|          | 18/1000000 [00:03<59:24:15,  4.68it/s]\n",
      "  0%|          | 18/1000000 [00:03<58:01:58,  4.79it/s]\n"
     ]
    },
    {
     "name": "stdout",
     "output_type": "stream",
     "text": [
      " /root/sachs.csv : [ ######################################################### ] 100%\n",
      "Log2-Likelihood : -8284.069544033577\n"
     ]
    },
    {
     "name": "stderr",
     "output_type": "stream",
     "text": [
      "Working for n conditional variables: 1:  20%|██        | 1/5 [00:00<00:00, 72.95it/s]\n",
      "Working for n conditional variables: 2:  40%|████      | 2/5 [00:00<00:00, 109.42it/s]\n",
      "Working for n conditional variables: 1:  20%|██        | 1/5 [00:00<00:00, 71.79it/s]\n",
      "  0%|          | 0/1000000 [00:00<?, ?it/s]"
     ]
    },
    {
     "name": "stdout",
     "output_type": "stream",
     "text": [
      "[('PKA', 'Erk')]\n",
      "[frozenset({'PKA', 'PIP3'}), frozenset({'Erk', 'PKA'}), frozenset({'Erk', 'PIP3'})]\n",
      "('Erk', 'PKA')\n",
      "[]\n",
      "[('PIP3', 'Erk'), ('Erk', 'PKA'), ('PIP3', 'PKA'), ('Erk', 'PIP3'), ('PKA', 'PIP3')]\n",
      "pyAgrum version 0.19.0\n",
      "(c) 2015-2020 Pierre-Henri Wuillemin, Christophe Gonzales, Lionel Torti\n",
      "\n",
      "    This is free software; see the source code for copying conditions.\n",
      "    There is ABSOLUTELY NO WARRANTY; not even for MERCHANTABILITY or\n",
      "    FITNESS FOR A PARTICULAR PURPOSE.  For details, see 'pyAgrum.warranty'.\n",
      "    \n"
     ]
    },
    {
     "name": "stderr",
     "output_type": "stream",
     "text": [
      "  0%|          | 18/1000000 [00:03<60:25:11,  4.60it/s]\n",
      "  0%|          | 18/1000000 [00:03<57:03:46,  4.87it/s]\n"
     ]
    },
    {
     "name": "stdout",
     "output_type": "stream",
     "text": [
      " /root/sachs.csv : [ ######################################################### ] 100%\n",
      "Log2-Likelihood : -8374.945789946509\n"
     ]
    },
    {
     "name": "stderr",
     "output_type": "stream",
     "text": [
      "Working for n conditional variables: 2:  40%|████      | 2/5 [00:00<00:00, 148.14it/s]\n",
      "Working for n conditional variables: 1:  20%|██        | 1/5 [00:00<00:00, 103.65it/s]\n",
      "Working for n conditional variables: 1:  20%|██        | 1/5 [00:00<00:00, 99.29it/s] \n",
      "  0%|          | 0/1000000 [00:00<?, ?it/s]"
     ]
    },
    {
     "name": "stdout",
     "output_type": "stream",
     "text": [
      "[('PKA', 'Erk')]\n",
      "[frozenset({'Erk', 'PKA'}), frozenset({'Erk', 'PIP3'}), frozenset({'PKA', 'PIP3'})]\n",
      "('Erk', 'PKA')\n",
      "[]\n",
      "[('PIP3', 'Erk'), ('Erk', 'PKA'), ('PIP3', 'PKA'), ('Erk', 'PIP3'), ('PKA', 'PIP3')]\n",
      "pyAgrum version 0.19.0\n",
      "(c) 2015-2020 Pierre-Henri Wuillemin, Christophe Gonzales, Lionel Torti\n",
      "\n",
      "    This is free software; see the source code for copying conditions.\n",
      "    There is ABSOLUTELY NO WARRANTY; not even for MERCHANTABILITY or\n",
      "    FITNESS FOR A PARTICULAR PURPOSE.  For details, see 'pyAgrum.warranty'.\n",
      "    \n"
     ]
    },
    {
     "name": "stderr",
     "output_type": "stream",
     "text": [
      "  0%|          | 17/1000000 [00:03<56:06:44,  4.95it/s]\n",
      "  0%|          | 17/1000000 [00:03<58:16:20,  4.77it/s]\n"
     ]
    },
    {
     "name": "stdout",
     "output_type": "stream",
     "text": [
      " /root/sachs.csv : [ ######################################################### ] 100%\n",
      "Log2-Likelihood : -8154.93234677731\n"
     ]
    },
    {
     "name": "stderr",
     "output_type": "stream",
     "text": [
      "Working for n conditional variables: 1:  20%|██        | 1/5 [00:00<00:00, 81.68it/s] \n",
      "Working for n conditional variables: 1:  20%|██        | 1/5 [00:00<00:00, 67.48it/s]\n",
      "Working for n conditional variables: 2:  40%|████      | 2/5 [00:00<00:00, 133.43it/s]\n",
      "  0%|          | 0/1000000 [00:00<?, ?it/s]"
     ]
    },
    {
     "name": "stdout",
     "output_type": "stream",
     "text": [
      "[('PKA', 'Erk')]\n",
      "[frozenset({'PKA', 'PIP3'}), frozenset({'Erk', 'PIP3'}), frozenset({'Erk', 'PKA'})]\n",
      "('Erk', 'PKA')\n",
      "[]\n",
      "[('PIP3', 'Erk'), ('Erk', 'PKA'), ('PIP3', 'PKA'), ('Erk', 'PIP3'), ('PKA', 'PIP3')]\n",
      "pyAgrum version 0.19.0\n",
      "(c) 2015-2020 Pierre-Henri Wuillemin, Christophe Gonzales, Lionel Torti\n",
      "\n",
      "    This is free software; see the source code for copying conditions.\n",
      "    There is ABSOLUTELY NO WARRANTY; not even for MERCHANTABILITY or\n",
      "    FITNESS FOR A PARTICULAR PURPOSE.  For details, see 'pyAgrum.warranty'.\n",
      "    \n"
     ]
    },
    {
     "name": "stderr",
     "output_type": "stream",
     "text": [
      "  0%|          | 17/1000000 [00:03<63:25:11,  4.38it/s]\n",
      "  0%|          | 17/1000000 [00:03<61:31:32,  4.51it/s]\n"
     ]
    },
    {
     "name": "stdout",
     "output_type": "stream",
     "text": [
      " /root/sachs.csv : [ ######################################################### ] 100%\n",
      "Log2-Likelihood : -8291.898491275655\n"
     ]
    },
    {
     "name": "stderr",
     "output_type": "stream",
     "text": [
      "Working for n conditional variables: 1:  20%|██        | 1/5 [00:00<00:00, 87.93it/s] \n",
      "Working for n conditional variables: 1:  20%|██        | 1/5 [00:00<00:00, 77.13it/s]\n",
      "Working for n conditional variables: 2:  40%|████      | 2/5 [00:00<00:00, 148.20it/s]\n",
      "  0%|          | 0/1000000 [00:00<?, ?it/s]"
     ]
    },
    {
     "name": "stdout",
     "output_type": "stream",
     "text": [
      "[('PKA', 'Erk')]\n",
      "[frozenset({'PKA', 'PIP3'}), frozenset({'Erk', 'PIP3'}), frozenset({'Erk', 'PKA'})]\n",
      "('Erk', 'PKA')\n",
      "[]\n",
      "[('PIP3', 'Erk'), ('Erk', 'PKA'), ('PIP3', 'PKA'), ('Erk', 'PIP3'), ('PKA', 'PIP3')]\n",
      "pyAgrum version 0.19.0\n",
      "(c) 2015-2020 Pierre-Henri Wuillemin, Christophe Gonzales, Lionel Torti\n",
      "\n",
      "    This is free software; see the source code for copying conditions.\n",
      "    There is ABSOLUTELY NO WARRANTY; not even for MERCHANTABILITY or\n",
      "    FITNESS FOR A PARTICULAR PURPOSE.  For details, see 'pyAgrum.warranty'.\n",
      "    \n"
     ]
    },
    {
     "name": "stderr",
     "output_type": "stream",
     "text": [
      "  0%|          | 18/1000000 [00:03<57:11:43,  4.86it/s]\n",
      "  0%|          | 18/1000000 [00:03<55:23:20,  5.01it/s]\n"
     ]
    },
    {
     "name": "stdout",
     "output_type": "stream",
     "text": [
      " /root/sachs.csv : [ ######################################################### ] 100%\n",
      "Log2-Likelihood : -8273.058600534556\n"
     ]
    },
    {
     "name": "stderr",
     "output_type": "stream",
     "text": [
      "Working for n conditional variables: 1:  20%|██        | 1/5 [00:00<00:00, 88.74it/s] \n",
      "Working for n conditional variables: 1:  20%|██        | 1/5 [00:00<00:00, 89.43it/s] \n",
      "Working for n conditional variables: 2:  40%|████      | 2/5 [00:00<00:00, 153.88it/s]\n",
      "  0%|          | 0/1000000 [00:00<?, ?it/s]"
     ]
    },
    {
     "name": "stdout",
     "output_type": "stream",
     "text": [
      "[('PKA', 'Erk')]\n",
      "[frozenset({'Erk', 'PIP3'}), frozenset({'PKA', 'PIP3'}), frozenset({'Erk', 'PKA'})]\n",
      "('Erk', 'PKA')\n",
      "[]\n",
      "[('PIP3', 'Erk'), ('Erk', 'PKA'), ('PIP3', 'PKA'), ('Erk', 'PIP3'), ('PKA', 'PIP3')]\n",
      "pyAgrum version 0.19.0\n",
      "(c) 2015-2020 Pierre-Henri Wuillemin, Christophe Gonzales, Lionel Torti\n",
      "\n",
      "    This is free software; see the source code for copying conditions.\n",
      "    There is ABSOLUTELY NO WARRANTY; not even for MERCHANTABILITY or\n",
      "    FITNESS FOR A PARTICULAR PURPOSE.  For details, see 'pyAgrum.warranty'.\n",
      "    \n"
     ]
    },
    {
     "name": "stderr",
     "output_type": "stream",
     "text": [
      "  0%|          | 18/1000000 [00:03<57:32:33,  4.83it/s]\n",
      "  0%|          | 18/1000000 [00:03<55:18:38,  5.02it/s]\n"
     ]
    },
    {
     "name": "stdout",
     "output_type": "stream",
     "text": [
      " /root/sachs.csv : [ ######################################################### ] 100%\n",
      "Log2-Likelihood : -8301.025541217627\n"
     ]
    },
    {
     "name": "stderr",
     "output_type": "stream",
     "text": [
      "Working for n conditional variables: 1:  20%|██        | 1/5 [00:00<00:00, 107.25it/s]\n",
      "Working for n conditional variables: 2:  40%|████      | 2/5 [00:00<00:00, 138.03it/s]\n",
      "Working for n conditional variables: 1:  20%|██        | 1/5 [00:00<00:00, 81.66it/s]\n",
      "  0%|          | 0/1000000 [00:00<?, ?it/s]"
     ]
    },
    {
     "name": "stdout",
     "output_type": "stream",
     "text": [
      "[]\n",
      "[frozenset({'PKA', 'PIP3'}), frozenset({'Erk', 'PKA'}), frozenset({'Erk', 'PIP3'})]\n",
      "('Erk', 'PKA')\n",
      "[]\n",
      "[('PIP3', 'Erk'), ('PKA', 'Erk'), ('Erk', 'PKA'), ('PIP3', 'PKA'), ('Erk', 'PIP3'), ('PKA', 'PIP3')]\n",
      "pyAgrum version 0.19.0\n",
      "(c) 2015-2020 Pierre-Henri Wuillemin, Christophe Gonzales, Lionel Torti\n",
      "\n",
      "    This is free software; see the source code for copying conditions.\n",
      "    There is ABSOLUTELY NO WARRANTY; not even for MERCHANTABILITY or\n",
      "    FITNESS FOR A PARTICULAR PURPOSE.  For details, see 'pyAgrum.warranty'.\n",
      "    \n"
     ]
    },
    {
     "name": "stderr",
     "output_type": "stream",
     "text": [
      "  0%|          | 19/1000000 [00:03<57:06:21,  4.86it/s]\n",
      "  0%|          | 18/1000000 [00:03<55:19:56,  5.02it/s]\n"
     ]
    },
    {
     "name": "stdout",
     "output_type": "stream",
     "text": [
      " /root/sachs.csv : [ ######################################################### ] 100%\n",
      "Log2-Likelihood : -8198.214633572228\n"
     ]
    },
    {
     "name": "stderr",
     "output_type": "stream",
     "text": [
      "Working for n conditional variables: 1:  20%|██        | 1/5 [00:00<00:00, 95.04it/s] \n",
      "Working for n conditional variables: 1:  20%|██        | 1/5 [00:00<00:00, 116.76it/s]\n",
      "Working for n conditional variables: 2:  40%|████      | 2/5 [00:00<00:00, 180.19it/s]\n",
      "  0%|          | 0/1000000 [00:00<?, ?it/s]"
     ]
    },
    {
     "name": "stdout",
     "output_type": "stream",
     "text": [
      "[('PKA', 'Erk')]\n",
      "[frozenset({'Erk', 'PIP3'}), frozenset({'PKA', 'PIP3'}), frozenset({'Erk', 'PKA'})]\n",
      "('Erk', 'PKA')\n",
      "[]\n",
      "[('PIP3', 'Erk'), ('Erk', 'PKA'), ('PIP3', 'PKA'), ('Erk', 'PIP3'), ('PKA', 'PIP3')]\n",
      "pyAgrum version 0.19.0\n",
      "(c) 2015-2020 Pierre-Henri Wuillemin, Christophe Gonzales, Lionel Torti\n",
      "\n",
      "    This is free software; see the source code for copying conditions.\n",
      "    There is ABSOLUTELY NO WARRANTY; not even for MERCHANTABILITY or\n",
      "    FITNESS FOR A PARTICULAR PURPOSE.  For details, see 'pyAgrum.warranty'.\n",
      "    \n"
     ]
    },
    {
     "name": "stderr",
     "output_type": "stream",
     "text": [
      "  0%|          | 18/1000000 [00:03<59:19:36,  4.68it/s]\n",
      "  0%|          | 18/1000000 [00:03<55:52:45,  4.97it/s]\n"
     ]
    },
    {
     "name": "stdout",
     "output_type": "stream",
     "text": [
      " /root/sachs.csv : [ ######################################################### ] 100%\n",
      "Log2-Likelihood : -8415.898326202174\n"
     ]
    },
    {
     "name": "stderr",
     "output_type": "stream",
     "text": [
      "Working for n conditional variables: 1:  20%|██        | 1/5 [00:00<00:00, 103.32it/s]\n",
      "Working for n conditional variables: 2:  40%|████      | 2/5 [00:00<00:00, 163.10it/s]\n",
      "Working for n conditional variables: 1:  20%|██        | 1/5 [00:00<00:00, 107.74it/s]\n",
      "  0%|          | 0/1000000 [00:00<?, ?it/s]"
     ]
    },
    {
     "name": "stdout",
     "output_type": "stream",
     "text": [
      "[('PKA', 'Erk')]\n",
      "[frozenset({'Erk', 'PIP3'}), frozenset({'Erk', 'PKA'}), frozenset({'PKA', 'PIP3'})]\n",
      "('Erk', 'PKA')\n",
      "[]\n",
      "[('PIP3', 'Erk'), ('Erk', 'PKA'), ('PIP3', 'PKA'), ('Erk', 'PIP3'), ('PKA', 'PIP3')]\n",
      "pyAgrum version 0.19.0\n",
      "(c) 2015-2020 Pierre-Henri Wuillemin, Christophe Gonzales, Lionel Torti\n",
      "\n",
      "    This is free software; see the source code for copying conditions.\n",
      "    There is ABSOLUTELY NO WARRANTY; not even for MERCHANTABILITY or\n",
      "    FITNESS FOR A PARTICULAR PURPOSE.  For details, see 'pyAgrum.warranty'.\n",
      "    \n"
     ]
    },
    {
     "name": "stderr",
     "output_type": "stream",
     "text": [
      "  0%|          | 17/1000000 [00:03<55:29:40,  5.01it/s]\n",
      "  0%|          | 17/1000000 [00:03<57:11:57,  4.86it/s]\n"
     ]
    },
    {
     "name": "stdout",
     "output_type": "stream",
     "text": [
      " /root/sachs.csv : [ ######################################################### ] 100%\n",
      "Log2-Likelihood : -8224.353047063089\n"
     ]
    },
    {
     "name": "stderr",
     "output_type": "stream",
     "text": [
      "Working for n conditional variables: 1:  20%|██        | 1/5 [00:00<00:00, 96.42it/s] \n",
      "Working for n conditional variables: 1:  20%|██        | 1/5 [00:00<00:00, 104.40it/s]\n",
      "Working for n conditional variables: 2:  40%|████      | 2/5 [00:00<00:00, 150.62it/s]\n",
      "  0%|          | 0/1000000 [00:00<?, ?it/s]"
     ]
    },
    {
     "name": "stdout",
     "output_type": "stream",
     "text": [
      "[('PKA', 'Erk')]\n",
      "[frozenset({'PKA', 'PIP3'}), frozenset({'Erk', 'PIP3'}), frozenset({'Erk', 'PKA'})]\n",
      "('Erk', 'PKA')\n",
      "[]\n",
      "[('PIP3', 'Erk'), ('Erk', 'PKA'), ('PIP3', 'PKA'), ('Erk', 'PIP3'), ('PKA', 'PIP3')]\n",
      "pyAgrum version 0.19.0\n",
      "(c) 2015-2020 Pierre-Henri Wuillemin, Christophe Gonzales, Lionel Torti\n",
      "\n",
      "    This is free software; see the source code for copying conditions.\n",
      "    There is ABSOLUTELY NO WARRANTY; not even for MERCHANTABILITY or\n",
      "    FITNESS FOR A PARTICULAR PURPOSE.  For details, see 'pyAgrum.warranty'.\n",
      "    \n"
     ]
    },
    {
     "name": "stderr",
     "output_type": "stream",
     "text": [
      "  0%|          | 17/1000000 [00:03<56:21:16,  4.93it/s]\n",
      "  0%|          | 17/1000000 [00:03<53:33:47,  5.19it/s]\n"
     ]
    },
    {
     "name": "stdout",
     "output_type": "stream",
     "text": [
      " /root/sachs.csv : [ ######################################################### ] 100%\n",
      "Log2-Likelihood : -8361.786790654325\n"
     ]
    },
    {
     "name": "stderr",
     "output_type": "stream",
     "text": [
      "Working for n conditional variables: 1:  20%|██        | 1/5 [00:00<00:00, 96.89it/s] \n",
      "Working for n conditional variables: 1:  20%|██        | 1/5 [00:00<00:00, 85.01it/s] \n",
      "Working for n conditional variables: 2:  40%|████      | 2/5 [00:00<00:00, 136.16it/s]\n",
      "  0%|          | 0/1000000 [00:00<?, ?it/s]"
     ]
    },
    {
     "name": "stdout",
     "output_type": "stream",
     "text": [
      "[('PKA', 'Erk')]\n",
      "[frozenset({'Erk', 'PIP3'}), frozenset({'PKA', 'PIP3'}), frozenset({'Erk', 'PKA'})]\n",
      "('Erk', 'PKA')\n",
      "[]\n",
      "[('PIP3', 'Erk'), ('Erk', 'PKA'), ('PIP3', 'PKA'), ('Erk', 'PIP3'), ('PKA', 'PIP3')]\n",
      "pyAgrum version 0.19.0\n",
      "(c) 2015-2020 Pierre-Henri Wuillemin, Christophe Gonzales, Lionel Torti\n",
      "\n",
      "    This is free software; see the source code for copying conditions.\n",
      "    There is ABSOLUTELY NO WARRANTY; not even for MERCHANTABILITY or\n",
      "    FITNESS FOR A PARTICULAR PURPOSE.  For details, see 'pyAgrum.warranty'.\n",
      "    \n"
     ]
    },
    {
     "name": "stderr",
     "output_type": "stream",
     "text": [
      "  0%|          | 16/1000000 [00:03<57:54:13,  4.80it/s]\n",
      "  0%|          | 16/1000000 [00:03<57:47:30,  4.81it/s]\n"
     ]
    },
    {
     "name": "stdout",
     "output_type": "stream",
     "text": [
      " /root/sachs.csv : [ ######################################################### ] 100%\n",
      "Log2-Likelihood : -8354.499385530671\n"
     ]
    },
    {
     "name": "stderr",
     "output_type": "stream",
     "text": [
      "Working for n conditional variables: 2:  40%|████      | 2/5 [00:00<00:00, 181.89it/s]\n",
      "Working for n conditional variables: 1:  20%|██        | 1/5 [00:00<00:00, 103.55it/s]\n",
      "  0%|          | 0/1000000 [00:00<?, ?it/s]"
     ]
    },
    {
     "name": "stdout",
     "output_type": "stream",
     "text": [
      "[('PKA', 'Erk')]\n",
      "[frozenset({'Erk', 'PKA'}), frozenset({'Erk', 'PIP3'})]\n",
      "('Erk', 'PKA')\n",
      "[]\n",
      "[('Erk', 'PIP3'), ('Erk', 'PKA'), ('PIP3', 'Erk')]\n",
      "pyAgrum version 0.19.0\n",
      "(c) 2015-2020 Pierre-Henri Wuillemin, Christophe Gonzales, Lionel Torti\n",
      "\n",
      "    This is free software; see the source code for copying conditions.\n",
      "    There is ABSOLUTELY NO WARRANTY; not even for MERCHANTABILITY or\n",
      "    FITNESS FOR A PARTICULAR PURPOSE.  For details, see 'pyAgrum.warranty'.\n",
      "    \n"
     ]
    },
    {
     "name": "stderr",
     "output_type": "stream",
     "text": [
      "  0%|          | 18/1000000 [00:03<54:51:38,  5.06it/s]\n",
      "  0%|          | 18/1000000 [00:03<55:19:39,  5.02it/s]\n"
     ]
    },
    {
     "name": "stdout",
     "output_type": "stream",
     "text": [
      " /root/sachs.csv : [ ######################################################### ] 100%\n",
      "Log2-Likelihood : -8308.943280435311\n"
     ]
    },
    {
     "name": "stderr",
     "output_type": "stream",
     "text": [
      "Working for n conditional variables: 2:  40%|████      | 2/5 [00:00<00:00, 166.50it/s]\n",
      "Working for n conditional variables: 1:  20%|██        | 1/5 [00:00<00:00, 88.31it/s] \n",
      "Working for n conditional variables: 1:  20%|██        | 1/5 [00:00<00:00, 82.02it/s]\n",
      "  0%|          | 0/1000000 [00:00<?, ?it/s]"
     ]
    },
    {
     "name": "stdout",
     "output_type": "stream",
     "text": [
      "[('PKA', 'Erk')]\n",
      "[frozenset({'Erk', 'PKA'}), frozenset({'PKA', 'PIP3'}), frozenset({'Erk', 'PIP3'})]\n",
      "('Erk', 'PKA')\n",
      "[]\n",
      "[('PIP3', 'Erk'), ('Erk', 'PKA'), ('PIP3', 'PKA'), ('Erk', 'PIP3'), ('PKA', 'PIP3')]\n",
      "pyAgrum version 0.19.0\n",
      "(c) 2015-2020 Pierre-Henri Wuillemin, Christophe Gonzales, Lionel Torti\n",
      "\n",
      "    This is free software; see the source code for copying conditions.\n",
      "    There is ABSOLUTELY NO WARRANTY; not even for MERCHANTABILITY or\n",
      "    FITNESS FOR A PARTICULAR PURPOSE.  For details, see 'pyAgrum.warranty'.\n",
      "    \n"
     ]
    },
    {
     "name": "stderr",
     "output_type": "stream",
     "text": [
      "  0%|          | 16/1000000 [00:03<61:09:12,  4.54it/s]\n",
      "  0%|          | 16/1000000 [00:03<61:39:57,  4.50it/s]\n"
     ]
    },
    {
     "name": "stdout",
     "output_type": "stream",
     "text": [
      " /root/sachs.csv : [ ######################################################### ] 100%\n",
      "Log2-Likelihood : -10413.71596246964\n"
     ]
    },
    {
     "name": "stderr",
     "output_type": "stream",
     "text": [
      "Working for n conditional variables: 2:  40%|████      | 2/5 [00:00<00:00, 157.03it/s]\n",
      "Working for n conditional variables: 1:  20%|██        | 1/5 [00:00<00:00, 71.50it/s]\n",
      "Working for n conditional variables: 1:  20%|██        | 1/5 [00:00<00:00, 71.12it/s]\n",
      "  0%|          | 0/1000000 [00:00<?, ?it/s]"
     ]
    },
    {
     "name": "stdout",
     "output_type": "stream",
     "text": [
      "[('PKA', 'Erk')]\n",
      "[frozenset({'Erk', 'PKA'}), frozenset({'PKA', 'PIP3'}), frozenset({'Erk', 'PIP3'})]\n",
      "('Erk', 'PKA')\n",
      "[]\n",
      "[('PIP3', 'Erk'), ('Erk', 'PKA'), ('PIP3', 'PKA'), ('Erk', 'PIP3'), ('PKA', 'PIP3')]\n",
      "pyAgrum version 0.19.0\n",
      "(c) 2015-2020 Pierre-Henri Wuillemin, Christophe Gonzales, Lionel Torti\n",
      "\n",
      "    This is free software; see the source code for copying conditions.\n",
      "    There is ABSOLUTELY NO WARRANTY; not even for MERCHANTABILITY or\n",
      "    FITNESS FOR A PARTICULAR PURPOSE.  For details, see 'pyAgrum.warranty'.\n",
      "    \n"
     ]
    },
    {
     "name": "stderr",
     "output_type": "stream",
     "text": [
      "  0%|          | 18/1000000 [00:03<61:06:32,  4.55it/s]\n",
      "  0%|          | 18/1000000 [00:04<73:30:22,  3.78it/s]\n"
     ]
    },
    {
     "name": "stdout",
     "output_type": "stream",
     "text": [
      " /root/sachs.csv : [ ######################################################### ] 100%\n",
      "Log2-Likelihood : -10434.820547247922\n"
     ]
    },
    {
     "name": "stderr",
     "output_type": "stream",
     "text": [
      "Working for n conditional variables: 2:  40%|████      | 2/5 [00:00<00:00, 176.53it/s]\n",
      "Working for n conditional variables: 1:  20%|██        | 1/5 [00:00<00:00, 76.28it/s]\n",
      "Working for n conditional variables: 1:  20%|██        | 1/5 [00:00<00:00, 92.26it/s] \n",
      "  0%|          | 0/1000000 [00:00<?, ?it/s]"
     ]
    },
    {
     "name": "stdout",
     "output_type": "stream",
     "text": [
      "[('PKA', 'Erk')]\n",
      "[frozenset({'Erk', 'PKA'}), frozenset({'Erk', 'PIP3'}), frozenset({'PKA', 'PIP3'})]\n",
      "('Erk', 'PKA')\n",
      "[]\n",
      "[('PIP3', 'Erk'), ('Erk', 'PKA'), ('PIP3', 'PKA'), ('Erk', 'PIP3'), ('PKA', 'PIP3')]\n",
      "pyAgrum version 0.19.0\n",
      "(c) 2015-2020 Pierre-Henri Wuillemin, Christophe Gonzales, Lionel Torti\n",
      "\n",
      "    This is free software; see the source code for copying conditions.\n",
      "    There is ABSOLUTELY NO WARRANTY; not even for MERCHANTABILITY or\n",
      "    FITNESS FOR A PARTICULAR PURPOSE.  For details, see 'pyAgrum.warranty'.\n",
      "    \n"
     ]
    },
    {
     "name": "stderr",
     "output_type": "stream",
     "text": [
      "  0%|          | 18/1000000 [00:03<58:58:33,  4.71it/s]\n",
      "  0%|          | 18/1000000 [00:03<58:01:27,  4.79it/s]\n"
     ]
    },
    {
     "name": "stdout",
     "output_type": "stream",
     "text": [
      " /root/sachs.csv : [ ######################################################### ] 100%\n",
      "Log2-Likelihood : -10448.862533294565\n"
     ]
    },
    {
     "name": "stderr",
     "output_type": "stream",
     "text": [
      "Working for n conditional variables: 1:  20%|██        | 1/5 [00:00<00:00, 97.51it/s] \n",
      "Working for n conditional variables: 2:  40%|████      | 2/5 [00:00<00:00, 215.80it/s]\n",
      "Working for n conditional variables: 1:  20%|██        | 1/5 [00:00<00:00, 99.45it/s] \n",
      "  0%|          | 0/1000000 [00:00<?, ?it/s]"
     ]
    },
    {
     "name": "stdout",
     "output_type": "stream",
     "text": [
      "[('PKA', 'Erk')]\n",
      "[frozenset({'PKA', 'PIP3'}), frozenset({'Erk', 'PKA'}), frozenset({'Erk', 'PIP3'})]\n",
      "('Erk', 'PKA')\n",
      "[]\n",
      "[('PIP3', 'Erk'), ('Erk', 'PKA'), ('PIP3', 'PKA'), ('Erk', 'PIP3'), ('PKA', 'PIP3')]\n",
      "pyAgrum version 0.19.0\n",
      "(c) 2015-2020 Pierre-Henri Wuillemin, Christophe Gonzales, Lionel Torti\n",
      "\n",
      "    This is free software; see the source code for copying conditions.\n",
      "    There is ABSOLUTELY NO WARRANTY; not even for MERCHANTABILITY or\n",
      "    FITNESS FOR A PARTICULAR PURPOSE.  For details, see 'pyAgrum.warranty'.\n",
      "    \n"
     ]
    },
    {
     "name": "stderr",
     "output_type": "stream",
     "text": [
      "  0%|          | 18/1000000 [00:03<52:56:54,  5.25it/s]\n",
      "  0%|          | 18/1000000 [00:03<52:44:30,  5.27it/s]\n"
     ]
    },
    {
     "name": "stdout",
     "output_type": "stream",
     "text": [
      " /root/sachs.csv : [ ######################################################### ] 100%\n",
      "Log2-Likelihood : -10371.203015372317\n"
     ]
    },
    {
     "name": "stderr",
     "output_type": "stream",
     "text": [
      "Working for n conditional variables: 2:  40%|████      | 2/5 [00:00<00:00, 141.34it/s]\n",
      "Working for n conditional variables: 1:  20%|██        | 1/5 [00:00<00:00, 103.87it/s]\n",
      "Working for n conditional variables: 1:  20%|██        | 1/5 [00:00<00:00, 63.75it/s]\n",
      "  0%|          | 0/1000000 [00:00<?, ?it/s]"
     ]
    },
    {
     "name": "stdout",
     "output_type": "stream",
     "text": [
      "[('PKA', 'Erk')]\n",
      "[frozenset({'Erk', 'PKA'}), frozenset({'PKA', 'PIP3'}), frozenset({'Erk', 'PIP3'})]\n",
      "('Erk', 'PKA')\n",
      "[]\n",
      "[('PIP3', 'Erk'), ('Erk', 'PKA'), ('PIP3', 'PKA'), ('Erk', 'PIP3'), ('PKA', 'PIP3')]\n",
      "pyAgrum version 0.19.0\n",
      "(c) 2015-2020 Pierre-Henri Wuillemin, Christophe Gonzales, Lionel Torti\n",
      "\n",
      "    This is free software; see the source code for copying conditions.\n",
      "    There is ABSOLUTELY NO WARRANTY; not even for MERCHANTABILITY or\n",
      "    FITNESS FOR A PARTICULAR PURPOSE.  For details, see 'pyAgrum.warranty'.\n",
      "    \n"
     ]
    },
    {
     "name": "stderr",
     "output_type": "stream",
     "text": [
      "  0%|          | 17/1000000 [00:03<56:17:42,  4.93it/s]\n",
      "  0%|          | 17/1000000 [00:03<52:58:08,  5.24it/s]\n"
     ]
    },
    {
     "name": "stdout",
     "output_type": "stream",
     "text": [
      " /root/sachs.csv : [ ######################################################### ] 100%\n",
      "Log2-Likelihood : -10330.715555487293\n"
     ]
    },
    {
     "name": "stderr",
     "output_type": "stream",
     "text": [
      "Working for n conditional variables: 1:  20%|██        | 1/5 [00:00<00:00, 88.61it/s] \n",
      "Working for n conditional variables: 2:  40%|████      | 2/5 [00:00<00:00, 152.69it/s]\n",
      "Working for n conditional variables: 1:  20%|██        | 1/5 [00:00<00:00, 85.82it/s] \n",
      "  0%|          | 0/1000000 [00:00<?, ?it/s]"
     ]
    },
    {
     "name": "stdout",
     "output_type": "stream",
     "text": [
      "[('PKA', 'Erk')]\n",
      "[frozenset({'Erk', 'PIP3'}), frozenset({'Erk', 'PKA'}), frozenset({'PKA', 'PIP3'})]\n",
      "('Erk', 'PKA')\n",
      "[]\n",
      "[('PIP3', 'Erk'), ('Erk', 'PKA'), ('PIP3', 'PKA'), ('Erk', 'PIP3'), ('PKA', 'PIP3')]\n",
      "pyAgrum version 0.19.0\n",
      "(c) 2015-2020 Pierre-Henri Wuillemin, Christophe Gonzales, Lionel Torti\n",
      "\n",
      "    This is free software; see the source code for copying conditions.\n",
      "    There is ABSOLUTELY NO WARRANTY; not even for MERCHANTABILITY or\n",
      "    FITNESS FOR A PARTICULAR PURPOSE.  For details, see 'pyAgrum.warranty'.\n",
      "    \n"
     ]
    },
    {
     "name": "stderr",
     "output_type": "stream",
     "text": [
      "  0%|          | 19/1000000 [00:03<54:50:12,  5.07it/s]\n",
      "  0%|          | 19/1000000 [00:03<54:31:38,  5.09it/s]\n"
     ]
    },
    {
     "name": "stdout",
     "output_type": "stream",
     "text": [
      " /root/sachs.csv : [ ######################################################### ] 100%\n",
      "Log2-Likelihood : -10274.695904170861\n"
     ]
    },
    {
     "name": "stderr",
     "output_type": "stream",
     "text": [
      "Working for n conditional variables: 1:  20%|██        | 1/5 [00:00<00:00, 78.26it/s]\n",
      "Working for n conditional variables: 1:  20%|██        | 1/5 [00:00<00:00, 50.72it/s]\n",
      "Working for n conditional variables: 2:  40%|████      | 2/5 [00:00<00:00, 76.08it/s]\n",
      "  0%|          | 0/1000000 [00:00<?, ?it/s]"
     ]
    },
    {
     "name": "stdout",
     "output_type": "stream",
     "text": [
      "[('PKA', 'Erk')]\n",
      "[frozenset({'PKA', 'PIP3'}), frozenset({'Erk', 'PIP3'}), frozenset({'Erk', 'PKA'})]\n",
      "('Erk', 'PKA')\n",
      "[]\n",
      "[('PIP3', 'Erk'), ('Erk', 'PKA'), ('PIP3', 'PKA'), ('Erk', 'PIP3'), ('PKA', 'PIP3')]\n",
      "pyAgrum version 0.19.0\n",
      "(c) 2015-2020 Pierre-Henri Wuillemin, Christophe Gonzales, Lionel Torti\n",
      "\n",
      "    This is free software; see the source code for copying conditions.\n",
      "    There is ABSOLUTELY NO WARRANTY; not even for MERCHANTABILITY or\n",
      "    FITNESS FOR A PARTICULAR PURPOSE.  For details, see 'pyAgrum.warranty'.\n",
      "    \n"
     ]
    },
    {
     "name": "stderr",
     "output_type": "stream",
     "text": [
      "  0%|          | 17/1000000 [00:04<78:16:07,  3.55it/s]\n",
      "  0%|          | 17/1000000 [00:03<62:47:32,  4.42it/s]\n"
     ]
    },
    {
     "name": "stdout",
     "output_type": "stream",
     "text": [
      " /root/sachs.csv : [ ######################################################### ] 100%\n",
      "Log2-Likelihood : -10314.928847907851\n"
     ]
    },
    {
     "name": "stderr",
     "output_type": "stream",
     "text": [
      "Working for n conditional variables: 2:  40%|████      | 2/5 [00:00<00:00, 187.02it/s]\n",
      "Working for n conditional variables: 1:  20%|██        | 1/5 [00:00<00:00, 94.07it/s] \n",
      "Working for n conditional variables: 1:  20%|██        | 1/5 [00:00<00:00, 120.84it/s]\n",
      "  0%|          | 0/1000000 [00:00<?, ?it/s]"
     ]
    },
    {
     "name": "stdout",
     "output_type": "stream",
     "text": [
      "[('PKA', 'Erk')]\n",
      "[frozenset({'Erk', 'PKA'}), frozenset({'PKA', 'PIP3'}), frozenset({'Erk', 'PIP3'})]\n",
      "('Erk', 'PKA')\n",
      "[]\n",
      "[('PIP3', 'Erk'), ('Erk', 'PKA'), ('PIP3', 'PKA'), ('Erk', 'PIP3'), ('PKA', 'PIP3')]\n",
      "pyAgrum version 0.19.0\n",
      "(c) 2015-2020 Pierre-Henri Wuillemin, Christophe Gonzales, Lionel Torti\n",
      "\n",
      "    This is free software; see the source code for copying conditions.\n",
      "    There is ABSOLUTELY NO WARRANTY; not even for MERCHANTABILITY or\n",
      "    FITNESS FOR A PARTICULAR PURPOSE.  For details, see 'pyAgrum.warranty'.\n",
      "    \n"
     ]
    },
    {
     "name": "stderr",
     "output_type": "stream",
     "text": [
      "  0%|          | 18/1000000 [00:03<53:16:26,  5.21it/s]\n",
      "  0%|          | 18/1000000 [00:03<53:14:59,  5.22it/s]\n"
     ]
    },
    {
     "name": "stdout",
     "output_type": "stream",
     "text": [
      " /root/sachs.csv : [ ######################################################### ] 100%\n",
      "Log2-Likelihood : -10362.629816537952\n"
     ]
    },
    {
     "name": "stderr",
     "output_type": "stream",
     "text": [
      "Working for n conditional variables: 1:  20%|██        | 1/5 [00:00<00:00, 80.91it/s]\n",
      "Working for n conditional variables: 2:  40%|████      | 2/5 [00:00<00:00, 100.49it/s]\n",
      "Working for n conditional variables: 1:  20%|██        | 1/5 [00:00<00:00, 52.54it/s]\n",
      "  0%|          | 0/1000000 [00:00<?, ?it/s]"
     ]
    },
    {
     "name": "stdout",
     "output_type": "stream",
     "text": [
      "[('PKA', 'Erk')]\n",
      "[frozenset({'Erk', 'PIP3'}), frozenset({'Erk', 'PKA'}), frozenset({'PKA', 'PIP3'})]\n",
      "('Erk', 'PKA')\n",
      "[]\n",
      "[('PIP3', 'Erk'), ('Erk', 'PKA'), ('PIP3', 'PKA'), ('Erk', 'PIP3'), ('PKA', 'PIP3')]\n",
      "pyAgrum version 0.19.0\n",
      "(c) 2015-2020 Pierre-Henri Wuillemin, Christophe Gonzales, Lionel Torti\n",
      "\n",
      "    This is free software; see the source code for copying conditions.\n",
      "    There is ABSOLUTELY NO WARRANTY; not even for MERCHANTABILITY or\n",
      "    FITNESS FOR A PARTICULAR PURPOSE.  For details, see 'pyAgrum.warranty'.\n",
      "    \n"
     ]
    },
    {
     "name": "stderr",
     "output_type": "stream",
     "text": [
      "  0%|          | 17/1000000 [00:03<58:48:23,  4.72it/s]\n",
      "  0%|          | 17/1000000 [00:03<60:59:41,  4.55it/s]\n"
     ]
    },
    {
     "name": "stdout",
     "output_type": "stream",
     "text": [
      " /root/sachs.csv : [ ######################################################### ] 100%\n",
      "Log2-Likelihood : -10379.973978233233\n"
     ]
    },
    {
     "name": "stderr",
     "output_type": "stream",
     "text": [
      "Working for n conditional variables: 1:  20%|██        | 1/5 [00:00<00:00, 99.75it/s] \n",
      "Working for n conditional variables: 2:  40%|████      | 2/5 [00:00<00:00, 156.69it/s]\n",
      "Working for n conditional variables: 1:  20%|██        | 1/5 [00:00<00:00, 101.62it/s]\n",
      "  0%|          | 0/1000000 [00:00<?, ?it/s]"
     ]
    },
    {
     "name": "stdout",
     "output_type": "stream",
     "text": [
      "[('PKA', 'Erk')]\n",
      "[frozenset({'PKA', 'PIP3'}), frozenset({'Erk', 'PKA'}), frozenset({'Erk', 'PIP3'})]\n",
      "('Erk', 'PKA')\n",
      "[]\n",
      "[('PIP3', 'Erk'), ('Erk', 'PKA'), ('PIP3', 'PKA'), ('Erk', 'PIP3'), ('PKA', 'PIP3')]\n",
      "pyAgrum version 0.19.0\n",
      "(c) 2015-2020 Pierre-Henri Wuillemin, Christophe Gonzales, Lionel Torti\n",
      "\n",
      "    This is free software; see the source code for copying conditions.\n",
      "    There is ABSOLUTELY NO WARRANTY; not even for MERCHANTABILITY or\n",
      "    FITNESS FOR A PARTICULAR PURPOSE.  For details, see 'pyAgrum.warranty'.\n",
      "    \n"
     ]
    },
    {
     "name": "stderr",
     "output_type": "stream",
     "text": [
      "  0%|          | 17/1000000 [00:03<55:01:33,  5.05it/s]\n",
      "  0%|          | 17/1000000 [00:03<55:20:06,  5.02it/s]\n"
     ]
    },
    {
     "name": "stdout",
     "output_type": "stream",
     "text": [
      " /root/sachs.csv : [ ######################################################### ] 100%\n",
      "Log2-Likelihood : -10398.996582485957\n"
     ]
    },
    {
     "name": "stderr",
     "output_type": "stream",
     "text": [
      "Working for n conditional variables: 1:  20%|██        | 1/5 [00:00<00:00, 89.71it/s] \n",
      "Working for n conditional variables: 2:  40%|████      | 2/5 [00:00<00:00, 171.93it/s]\n",
      "Working for n conditional variables: 1:  20%|██        | 1/5 [00:00<00:00, 84.50it/s]\n",
      "  0%|          | 0/1000000 [00:00<?, ?it/s]"
     ]
    },
    {
     "name": "stdout",
     "output_type": "stream",
     "text": [
      "[('PKA', 'Erk')]\n",
      "[frozenset({'PKA', 'PIP3'}), frozenset({'Erk', 'PKA'}), frozenset({'Erk', 'PIP3'})]\n",
      "('Erk', 'PKA')\n",
      "[]\n",
      "[('PIP3', 'Erk'), ('Erk', 'PKA'), ('PIP3', 'PKA'), ('Erk', 'PIP3'), ('PKA', 'PIP3')]\n",
      "pyAgrum version 0.19.0\n",
      "(c) 2015-2020 Pierre-Henri Wuillemin, Christophe Gonzales, Lionel Torti\n",
      "\n",
      "    This is free software; see the source code for copying conditions.\n",
      "    There is ABSOLUTELY NO WARRANTY; not even for MERCHANTABILITY or\n",
      "    FITNESS FOR A PARTICULAR PURPOSE.  For details, see 'pyAgrum.warranty'.\n",
      "    \n"
     ]
    },
    {
     "name": "stderr",
     "output_type": "stream",
     "text": [
      "  0%|          | 16/1000000 [00:03<58:50:33,  4.72it/s]\n",
      "  0%|          | 16/1000000 [00:03<56:15:08,  4.94it/s]\n"
     ]
    },
    {
     "name": "stdout",
     "output_type": "stream",
     "text": [
      " /root/sachs.csv : [ ######################################################### ] 100%\n",
      "Log2-Likelihood : -10325.210097394907\n"
     ]
    },
    {
     "name": "stderr",
     "output_type": "stream",
     "text": [
      "Working for n conditional variables: 2:  40%|████      | 2/5 [00:00<00:00, 171.80it/s]\n",
      "Working for n conditional variables: 1:  20%|██        | 1/5 [00:00<00:00, 80.64it/s]\n",
      "Working for n conditional variables: 1:  20%|██        | 1/5 [00:00<00:00, 99.79it/s] \n",
      "  0%|          | 0/1000000 [00:00<?, ?it/s]"
     ]
    },
    {
     "name": "stdout",
     "output_type": "stream",
     "text": [
      "[('PKA', 'Erk')]\n",
      "[frozenset({'Erk', 'PKA'}), frozenset({'Erk', 'PIP3'}), frozenset({'PKA', 'PIP3'})]\n",
      "('Erk', 'PKA')\n",
      "[]\n",
      "[('PIP3', 'Erk'), ('Erk', 'PKA'), ('PIP3', 'PKA'), ('Erk', 'PIP3'), ('PKA', 'PIP3')]\n",
      "pyAgrum version 0.19.0\n",
      "(c) 2015-2020 Pierre-Henri Wuillemin, Christophe Gonzales, Lionel Torti\n",
      "\n",
      "    This is free software; see the source code for copying conditions.\n",
      "    There is ABSOLUTELY NO WARRANTY; not even for MERCHANTABILITY or\n",
      "    FITNESS FOR A PARTICULAR PURPOSE.  For details, see 'pyAgrum.warranty'.\n",
      "    \n"
     ]
    },
    {
     "name": "stderr",
     "output_type": "stream",
     "text": [
      "  0%|          | 17/1000000 [00:03<55:32:18,  5.00it/s]\n",
      "  0%|          | 18/1000000 [00:03<53:17:07,  5.21it/s]\n"
     ]
    },
    {
     "name": "stdout",
     "output_type": "stream",
     "text": [
      " /root/sachs.csv : [ ######################################################### ] 100%\n",
      "Log2-Likelihood : -10477.08240739406\n"
     ]
    },
    {
     "name": "stderr",
     "output_type": "stream",
     "text": [
      "Working for n conditional variables: 2:  40%|████      | 2/5 [00:00<00:00, 198.68it/s]\n",
      "Working for n conditional variables: 1:  20%|██        | 1/5 [00:00<00:00, 74.89it/s] \n",
      "Working for n conditional variables: 1:  20%|██        | 1/5 [00:00<00:00, 68.00it/s]\n",
      "  0%|          | 0/1000000 [00:00<?, ?it/s]"
     ]
    },
    {
     "name": "stdout",
     "output_type": "stream",
     "text": [
      "[('PKA', 'Erk')]\n",
      "[frozenset({'Erk', 'PKA'}), frozenset({'Erk', 'PIP3'}), frozenset({'PKA', 'PIP3'})]\n",
      "('Erk', 'PKA')\n",
      "[]\n",
      "[('PIP3', 'Erk'), ('Erk', 'PKA'), ('PIP3', 'PKA'), ('Erk', 'PIP3'), ('PKA', 'PIP3')]\n",
      "pyAgrum version 0.19.0\n",
      "(c) 2015-2020 Pierre-Henri Wuillemin, Christophe Gonzales, Lionel Torti\n",
      "\n",
      "    This is free software; see the source code for copying conditions.\n",
      "    There is ABSOLUTELY NO WARRANTY; not even for MERCHANTABILITY or\n",
      "    FITNESS FOR A PARTICULAR PURPOSE.  For details, see 'pyAgrum.warranty'.\n",
      "    \n"
     ]
    },
    {
     "name": "stderr",
     "output_type": "stream",
     "text": [
      "  0%|          | 17/1000000 [00:03<55:39:59,  4.99it/s]\n",
      "  0%|          | 17/1000000 [00:03<57:41:13,  4.82it/s]\n"
     ]
    },
    {
     "name": "stdout",
     "output_type": "stream",
     "text": [
      " /root/sachs.csv : [ ######################################################### ] 100%root/sachs.csv : [ #######################################################   ] 96%\n",
      "Log2-Likelihood : -10512.237031774952\n"
     ]
    },
    {
     "name": "stderr",
     "output_type": "stream",
     "text": [
      "Working for n conditional variables: 1:  20%|██        | 1/5 [00:00<00:00, 99.64it/s] \n",
      "Working for n conditional variables: 2:  40%|████      | 2/5 [00:00<00:00, 148.64it/s]\n",
      "Working for n conditional variables: 1:  20%|██        | 1/5 [00:00<00:00, 59.34it/s]\n",
      "  0%|          | 0/1000000 [00:00<?, ?it/s]"
     ]
    },
    {
     "name": "stdout",
     "output_type": "stream",
     "text": [
      "[('PKA', 'Erk')]\n",
      "[frozenset({'Erk', 'PIP3'}), frozenset({'Erk', 'PKA'}), frozenset({'PKA', 'PIP3'})]\n",
      "('Erk', 'PKA')\n",
      "[]\n",
      "[('PIP3', 'Erk'), ('Erk', 'PKA'), ('PIP3', 'PKA'), ('Erk', 'PIP3'), ('PKA', 'PIP3')]\n",
      "pyAgrum version 0.19.0\n",
      "(c) 2015-2020 Pierre-Henri Wuillemin, Christophe Gonzales, Lionel Torti\n",
      "\n",
      "    This is free software; see the source code for copying conditions.\n",
      "    There is ABSOLUTELY NO WARRANTY; not even for MERCHANTABILITY or\n",
      "    FITNESS FOR A PARTICULAR PURPOSE.  For details, see 'pyAgrum.warranty'.\n",
      "    \n"
     ]
    },
    {
     "name": "stderr",
     "output_type": "stream",
     "text": [
      "  0%|          | 17/1000000 [00:03<57:29:27,  4.83it/s]\n",
      "  0%|          | 17/1000000 [00:03<56:20:05,  4.93it/s]\n"
     ]
    },
    {
     "name": "stdout",
     "output_type": "stream",
     "text": [
      " /root/sachs.csv : [ ######################################################### ] 100%\n",
      "Log2-Likelihood : -10291.351976692604\n"
     ]
    },
    {
     "name": "stderr",
     "output_type": "stream",
     "text": [
      "Working for n conditional variables: 2:  40%|████      | 2/5 [00:00<00:00, 200.94it/s]\n",
      "Working for n conditional variables: 1:  20%|██        | 1/5 [00:00<00:00, 118.81it/s]\n",
      "Working for n conditional variables: 1:  20%|██        | 1/5 [00:00<00:00, 87.50it/s]\n",
      "  0%|          | 0/1000000 [00:00<?, ?it/s]"
     ]
    },
    {
     "name": "stdout",
     "output_type": "stream",
     "text": [
      "[('PKA', 'Erk')]\n",
      "[frozenset({'Erk', 'PKA'}), frozenset({'Erk', 'PIP3'}), frozenset({'PKA', 'PIP3'})]\n",
      "('Erk', 'PKA')\n",
      "[]\n",
      "[('PIP3', 'Erk'), ('Erk', 'PKA'), ('PIP3', 'PKA'), ('Erk', 'PIP3'), ('PKA', 'PIP3')]\n",
      "pyAgrum version 0.19.0\n",
      "(c) 2015-2020 Pierre-Henri Wuillemin, Christophe Gonzales, Lionel Torti\n",
      "\n",
      "    This is free software; see the source code for copying conditions.\n",
      "    There is ABSOLUTELY NO WARRANTY; not even for MERCHANTABILITY or\n",
      "    FITNESS FOR A PARTICULAR PURPOSE.  For details, see 'pyAgrum.warranty'.\n",
      "    \n"
     ]
    },
    {
     "name": "stderr",
     "output_type": "stream",
     "text": [
      "  0%|          | 17/1000000 [00:03<54:10:57,  5.13it/s]\n",
      "  0%|          | 17/1000000 [00:03<55:58:56,  4.96it/s]\n"
     ]
    },
    {
     "name": "stdout",
     "output_type": "stream",
     "text": [
      " /root/sachs.csv : [ ######################################################### ] 100%\n",
      "Log2-Likelihood : -10247.611817087525\n"
     ]
    },
    {
     "name": "stderr",
     "output_type": "stream",
     "text": [
      "Working for n conditional variables: 2:  40%|████      | 2/5 [00:00<00:00, 160.23it/s]\n",
      "Working for n conditional variables: 1:  20%|██        | 1/5 [00:00<00:00, 77.01it/s]\n",
      "Working for n conditional variables: 1:  20%|██        | 1/5 [00:00<00:00, 95.00it/s] \n",
      "  0%|          | 0/1000000 [00:00<?, ?it/s]"
     ]
    },
    {
     "name": "stdout",
     "output_type": "stream",
     "text": [
      "[]\n",
      "[frozenset({'Erk', 'PKA'}), frozenset({'Erk', 'PIP3'}), frozenset({'PKA', 'PIP3'})]\n",
      "('Erk', 'PKA')\n",
      "[]\n",
      "[('PIP3', 'Erk'), ('PKA', 'Erk'), ('Erk', 'PKA'), ('PIP3', 'PKA'), ('Erk', 'PIP3'), ('PKA', 'PIP3')]\n",
      "pyAgrum version 0.19.0\n",
      "(c) 2015-2020 Pierre-Henri Wuillemin, Christophe Gonzales, Lionel Torti\n",
      "\n",
      "    This is free software; see the source code for copying conditions.\n",
      "    There is ABSOLUTELY NO WARRANTY; not even for MERCHANTABILITY or\n",
      "    FITNESS FOR A PARTICULAR PURPOSE.  For details, see 'pyAgrum.warranty'.\n",
      "    \n"
     ]
    },
    {
     "name": "stderr",
     "output_type": "stream",
     "text": [
      "  0%|          | 18/1000000 [00:03<56:30:43,  4.92it/s]\n",
      "  0%|          | 18/1000000 [00:03<54:54:39,  5.06it/s]\n"
     ]
    },
    {
     "name": "stdout",
     "output_type": "stream",
     "text": [
      " /root/sachs.csv : [ ######################################################### ] 100%\n",
      "Log2-Likelihood : -30898.214087241293\n"
     ]
    },
    {
     "name": "stderr",
     "output_type": "stream",
     "text": [
      "Working for n conditional variables: 1:  20%|██        | 1/5 [00:00<00:00, 112.67it/s]\n",
      "Working for n conditional variables: 1:  20%|██        | 1/5 [00:00<00:00, 92.21it/s] \n",
      "Working for n conditional variables: 2:  40%|████      | 2/5 [00:00<00:00, 141.87it/s]\n",
      "  0%|          | 0/1000000 [00:00<?, ?it/s]"
     ]
    },
    {
     "name": "stdout",
     "output_type": "stream",
     "text": [
      "[('PKA', 'Erk')]\n",
      "[frozenset({'Erk', 'PIP3'}), frozenset({'PKA', 'PIP3'}), frozenset({'Erk', 'PKA'})]\n",
      "('Erk', 'PKA')\n",
      "[]\n",
      "[('PIP3', 'Erk'), ('Erk', 'PKA'), ('PIP3', 'PKA'), ('Erk', 'PIP3'), ('PKA', 'PIP3')]\n",
      "pyAgrum version 0.19.0\n",
      "(c) 2015-2020 Pierre-Henri Wuillemin, Christophe Gonzales, Lionel Torti\n",
      "\n",
      "    This is free software; see the source code for copying conditions.\n",
      "    There is ABSOLUTELY NO WARRANTY; not even for MERCHANTABILITY or\n",
      "    FITNESS FOR A PARTICULAR PURPOSE.  For details, see 'pyAgrum.warranty'.\n",
      "    \n"
     ]
    },
    {
     "name": "stderr",
     "output_type": "stream",
     "text": [
      "  0%|          | 17/1000000 [00:03<56:20:40,  4.93it/s]\n",
      "  0%|          | 17/1000000 [00:03<58:23:28,  4.76it/s]\n"
     ]
    },
    {
     "name": "stdout",
     "output_type": "stream",
     "text": [
      " /root/sachs.csv : [ ######################################################### ] 100%\n",
      "Log2-Likelihood : -31178.137003615\n"
     ]
    },
    {
     "name": "stderr",
     "output_type": "stream",
     "text": [
      "Working for n conditional variables: 2:  40%|████      | 2/5 [00:00<00:00, 163.60it/s]\n",
      "Working for n conditional variables: 1:  20%|██        | 1/5 [00:00<00:00, 95.41it/s] \n",
      "Working for n conditional variables: 2:  40%|████      | 2/5 [00:00<00:00, 160.01it/s]\n",
      "  0%|          | 0/1000000 [00:00<?, ?it/s]"
     ]
    },
    {
     "name": "stdout",
     "output_type": "stream",
     "text": [
      "[('PKA', 'Erk')]\n",
      "[frozenset({'Erk', 'PKA'}), frozenset({'PKA', 'PIP3'}), frozenset({'Erk', 'PIP3'})]\n",
      "('Erk', 'PKA')\n",
      "('PIP3', 'Erk')\n",
      "[]\n",
      "[('PIP3', 'Erk'), ('Erk', 'PKA'), ('PIP3', 'PKA'), ('Erk', 'PIP3'), ('PKA', 'PIP3')]\n",
      "pyAgrum version 0.19.0\n",
      "(c) 2015-2020 Pierre-Henri Wuillemin, Christophe Gonzales, Lionel Torti\n",
      "\n",
      "    This is free software; see the source code for copying conditions.\n",
      "    There is ABSOLUTELY NO WARRANTY; not even for MERCHANTABILITY or\n",
      "    FITNESS FOR A PARTICULAR PURPOSE.  For details, see 'pyAgrum.warranty'.\n",
      "    \n"
     ]
    },
    {
     "name": "stderr",
     "output_type": "stream",
     "text": [
      "  0%|          | 18/1000000 [00:03<53:51:12,  5.16it/s]\n",
      "  0%|          | 18/1000000 [00:03<58:18:42,  4.76it/s]\n"
     ]
    },
    {
     "name": "stdout",
     "output_type": "stream",
     "text": [
      " /root/sachs.csv : [ ######################################################### ] 100%\n",
      "Log2-Likelihood : -30825.16529756718\n"
     ]
    },
    {
     "name": "stderr",
     "output_type": "stream",
     "text": [
      "Working for n conditional variables: 1:  20%|██        | 1/5 [00:00<00:00, 108.92it/s]\n",
      "Working for n conditional variables: 1:  20%|██        | 1/5 [00:00<00:00, 112.39it/s]\n",
      "Working for n conditional variables: 2:  40%|████      | 2/5 [00:00<00:00, 191.43it/s]\n",
      "  0%|          | 0/1000000 [00:00<?, ?it/s]"
     ]
    },
    {
     "name": "stdout",
     "output_type": "stream",
     "text": [
      "[('PKA', 'Erk')]\n",
      "[frozenset({'Erk', 'PIP3'}), frozenset({'PKA', 'PIP3'}), frozenset({'Erk', 'PKA'})]\n",
      "('Erk', 'PKA')\n",
      "[]\n",
      "[('PIP3', 'Erk'), ('Erk', 'PKA'), ('PIP3', 'PKA'), ('Erk', 'PIP3'), ('PKA', 'PIP3')]\n",
      "pyAgrum version 0.19.0\n",
      "(c) 2015-2020 Pierre-Henri Wuillemin, Christophe Gonzales, Lionel Torti\n",
      "\n",
      "    This is free software; see the source code for copying conditions.\n",
      "    There is ABSOLUTELY NO WARRANTY; not even for MERCHANTABILITY or\n",
      "    FITNESS FOR A PARTICULAR PURPOSE.  For details, see 'pyAgrum.warranty'.\n",
      "    \n"
     ]
    },
    {
     "name": "stderr",
     "output_type": "stream",
     "text": [
      "  0%|          | 22/1000000 [00:04<51:12:21,  5.42it/s]\n",
      "  0%|          | 19/1000000 [00:03<55:54:35,  4.97it/s]\n"
     ]
    },
    {
     "name": "stdout",
     "output_type": "stream",
     "text": [
      " /root/sachs.csv : [ ######################################################### ] 100%\n",
      "Log2-Likelihood : -31158.804008322964\n"
     ]
    },
    {
     "name": "stderr",
     "output_type": "stream",
     "text": [
      "Working for n conditional variables: 1:  20%|██        | 1/5 [00:00<00:00, 94.56it/s] \n",
      "Working for n conditional variables: 2:  40%|████      | 2/5 [00:00<00:00, 148.31it/s]\n",
      "Working for n conditional variables: 1:  20%|██        | 1/5 [00:00<00:00, 77.48it/s]\n",
      "  0%|          | 0/1000000 [00:00<?, ?it/s]"
     ]
    },
    {
     "name": "stdout",
     "output_type": "stream",
     "text": [
      "[('PKA', 'Erk')]\n",
      "[frozenset({'Erk', 'PIP3'}), frozenset({'Erk', 'PKA'}), frozenset({'PKA', 'PIP3'})]\n",
      "('Erk', 'PKA')\n",
      "[]\n",
      "[('PIP3', 'Erk'), ('Erk', 'PKA'), ('PIP3', 'PKA'), ('Erk', 'PIP3'), ('PKA', 'PIP3')]\n",
      "pyAgrum version 0.19.0\n",
      "(c) 2015-2020 Pierre-Henri Wuillemin, Christophe Gonzales, Lionel Torti\n",
      "\n",
      "    This is free software; see the source code for copying conditions.\n",
      "    There is ABSOLUTELY NO WARRANTY; not even for MERCHANTABILITY or\n",
      "    FITNESS FOR A PARTICULAR PURPOSE.  For details, see 'pyAgrum.warranty'.\n",
      "    \n"
     ]
    },
    {
     "name": "stderr",
     "output_type": "stream",
     "text": [
      "  0%|          | 18/1000000 [00:03<55:45:05,  4.98it/s]\n",
      "  0%|          | 18/1000000 [00:03<55:26:01,  5.01it/s]\n"
     ]
    },
    {
     "name": "stdout",
     "output_type": "stream",
     "text": [
      " /root/sachs.csv : [ ######################################################### ] 100%\n",
      "Log2-Likelihood : -31220.195898503018\n"
     ]
    },
    {
     "name": "stderr",
     "output_type": "stream",
     "text": [
      "Working for n conditional variables: 1:  20%|██        | 1/5 [00:00<00:00, 96.66it/s] \n",
      "Working for n conditional variables: 2:  40%|████      | 2/5 [00:00<00:00, 165.70it/s]\n",
      "Working for n conditional variables: 1:  20%|██        | 1/5 [00:00<00:00, 95.93it/s] \n",
      "  0%|          | 0/1000000 [00:00<?, ?it/s]"
     ]
    },
    {
     "name": "stdout",
     "output_type": "stream",
     "text": [
      "[('PKA', 'Erk')]\n",
      "[frozenset({'Erk', 'PIP3'}), frozenset({'Erk', 'PKA'}), frozenset({'PKA', 'PIP3'})]\n",
      "('Erk', 'PKA')\n",
      "[]\n",
      "[('PIP3', 'Erk'), ('Erk', 'PKA'), ('PIP3', 'PKA'), ('Erk', 'PIP3'), ('PKA', 'PIP3')]\n",
      "pyAgrum version 0.19.0\n",
      "(c) 2015-2020 Pierre-Henri Wuillemin, Christophe Gonzales, Lionel Torti\n",
      "\n",
      "    This is free software; see the source code for copying conditions.\n",
      "    There is ABSOLUTELY NO WARRANTY; not even for MERCHANTABILITY or\n",
      "    FITNESS FOR A PARTICULAR PURPOSE.  For details, see 'pyAgrum.warranty'.\n",
      "    \n"
     ]
    },
    {
     "name": "stderr",
     "output_type": "stream",
     "text": [
      "  0%|          | 18/1000000 [00:03<58:32:21,  4.75it/s]\n",
      "  0%|          | 18/1000000 [00:03<58:45:56,  4.73it/s]\n"
     ]
    },
    {
     "name": "stdout",
     "output_type": "stream",
     "text": [
      " /root/sachs.csv : [ ######################################################### ] 100%\n",
      "Log2-Likelihood : -31040.600365674105\n"
     ]
    },
    {
     "name": "stderr",
     "output_type": "stream",
     "text": [
      "Working for n conditional variables: 1:  20%|██        | 1/5 [00:00<00:00, 100.84it/s]\n",
      "Working for n conditional variables: 1:  20%|██        | 1/5 [00:00<00:00, 98.07it/s] \n",
      "Working for n conditional variables: 2:  40%|████      | 2/5 [00:00<00:00, 145.82it/s]\n",
      "  0%|          | 0/1000000 [00:00<?, ?it/s]"
     ]
    },
    {
     "name": "stdout",
     "output_type": "stream",
     "text": [
      "[('PKA', 'Erk')]\n",
      "[frozenset({'PKA', 'PIP3'}), frozenset({'Erk', 'PIP3'}), frozenset({'Erk', 'PKA'})]\n",
      "('Erk', 'PKA')\n",
      "[]\n",
      "[('PIP3', 'Erk'), ('Erk', 'PKA'), ('PIP3', 'PKA'), ('Erk', 'PIP3'), ('PKA', 'PIP3')]\n",
      "pyAgrum version 0.19.0\n",
      "(c) 2015-2020 Pierre-Henri Wuillemin, Christophe Gonzales, Lionel Torti\n",
      "\n",
      "    This is free software; see the source code for copying conditions.\n",
      "    There is ABSOLUTELY NO WARRANTY; not even for MERCHANTABILITY or\n",
      "    FITNESS FOR A PARTICULAR PURPOSE.  For details, see 'pyAgrum.warranty'.\n",
      "    \n"
     ]
    },
    {
     "name": "stderr",
     "output_type": "stream",
     "text": [
      "  0%|          | 19/1000000 [00:03<56:01:37,  4.96it/s]\n",
      "  0%|          | 19/1000000 [00:04<60:18:35,  4.61it/s]\n"
     ]
    },
    {
     "name": "stdout",
     "output_type": "stream",
     "text": [
      " /root/sachs.csv : [ ######################################################### ] 100%\n",
      "Log2-Likelihood : -31039.71992389108\n"
     ]
    },
    {
     "name": "stderr",
     "output_type": "stream",
     "text": [
      "Working for n conditional variables: 1:  20%|██        | 1/5 [00:00<00:00, 90.44it/s] \n",
      "Working for n conditional variables: 1:  20%|██        | 1/5 [00:00<00:00, 95.54it/s] \n",
      "Working for n conditional variables: 2:  40%|████      | 2/5 [00:00<00:00, 169.33it/s]\n",
      "  0%|          | 0/1000000 [00:00<?, ?it/s]"
     ]
    },
    {
     "name": "stdout",
     "output_type": "stream",
     "text": [
      "[('PKA', 'Erk')]\n",
      "[frozenset({'Erk', 'PIP3'}), frozenset({'PKA', 'PIP3'}), frozenset({'Erk', 'PKA'})]\n",
      "('Erk', 'PKA')\n",
      "[]\n",
      "[('PIP3', 'Erk'), ('Erk', 'PKA'), ('PIP3', 'PKA'), ('Erk', 'PIP3'), ('PKA', 'PIP3')]\n",
      "pyAgrum version 0.19.0\n",
      "(c) 2015-2020 Pierre-Henri Wuillemin, Christophe Gonzales, Lionel Torti\n",
      "\n",
      "    This is free software; see the source code for copying conditions.\n",
      "    There is ABSOLUTELY NO WARRANTY; not even for MERCHANTABILITY or\n",
      "    FITNESS FOR A PARTICULAR PURPOSE.  For details, see 'pyAgrum.warranty'.\n",
      "    \n"
     ]
    },
    {
     "name": "stderr",
     "output_type": "stream",
     "text": [
      "  0%|          | 18/1000000 [00:03<56:27:58,  4.92it/s]\n",
      "  0%|          | 18/1000000 [00:03<59:04:46,  4.70it/s]\n"
     ]
    },
    {
     "name": "stdout",
     "output_type": "stream",
     "text": [
      " /root/sachs.csv : [ ######################################################### ] 100%\n",
      "Log2-Likelihood : -31043.42770932558\n"
     ]
    },
    {
     "name": "stderr",
     "output_type": "stream",
     "text": [
      "Working for n conditional variables: 1:  20%|██        | 1/5 [00:00<00:00, 80.59it/s]\n",
      "Working for n conditional variables: 2:  40%|████      | 2/5 [00:00<00:00, 161.75it/s]\n",
      "Working for n conditional variables: 1:  20%|██        | 1/5 [00:00<00:00, 85.81it/s] \n",
      "  0%|          | 0/1000000 [00:00<?, ?it/s]"
     ]
    },
    {
     "name": "stdout",
     "output_type": "stream",
     "text": [
      "[('PKA', 'Erk')]\n",
      "[frozenset({'PKA', 'PIP3'}), frozenset({'Erk', 'PKA'}), frozenset({'Erk', 'PIP3'})]\n",
      "('Erk', 'PKA')\n",
      "[]\n",
      "[('PIP3', 'Erk'), ('Erk', 'PKA'), ('PIP3', 'PKA'), ('Erk', 'PIP3'), ('PKA', 'PIP3')]\n",
      "pyAgrum version 0.19.0\n",
      "(c) 2015-2020 Pierre-Henri Wuillemin, Christophe Gonzales, Lionel Torti\n",
      "\n",
      "    This is free software; see the source code for copying conditions.\n",
      "    There is ABSOLUTELY NO WARRANTY; not even for MERCHANTABILITY or\n",
      "    FITNESS FOR A PARTICULAR PURPOSE.  For details, see 'pyAgrum.warranty'.\n",
      "    \n"
     ]
    },
    {
     "name": "stderr",
     "output_type": "stream",
     "text": [
      "  0%|          | 19/1000000 [00:04<60:58:15,  4.56it/s]\n",
      "  0%|          | 19/1000000 [00:04<66:41:44,  4.16it/s]\n"
     ]
    },
    {
     "name": "stdout",
     "output_type": "stream",
     "text": [
      " /root/sachs.csv : [ ######################################################### ] 100%\n",
      "Log2-Likelihood : -31062.383859301615\n"
     ]
    },
    {
     "name": "stderr",
     "output_type": "stream",
     "text": [
      "Working for n conditional variables: 1:  20%|██        | 1/5 [00:00<00:00, 94.02it/s] \n",
      "Working for n conditional variables: 2:  40%|████      | 2/5 [00:00<00:00, 129.44it/s]\n",
      "Working for n conditional variables: 1:  20%|██        | 1/5 [00:00<00:00, 71.65it/s]\n",
      "  0%|          | 0/1000000 [00:00<?, ?it/s]"
     ]
    },
    {
     "name": "stdout",
     "output_type": "stream",
     "text": [
      "[('PKA', 'Erk')]\n",
      "[frozenset({'PKA', 'PIP3'}), frozenset({'Erk', 'PKA'}), frozenset({'Erk', 'PIP3'})]\n",
      "('Erk', 'PKA')\n",
      "[]\n",
      "[('PIP3', 'Erk'), ('Erk', 'PKA'), ('PIP3', 'PKA'), ('Erk', 'PIP3'), ('PKA', 'PIP3')]\n",
      "pyAgrum version 0.19.0\n",
      "(c) 2015-2020 Pierre-Henri Wuillemin, Christophe Gonzales, Lionel Torti\n",
      "\n",
      "    This is free software; see the source code for copying conditions.\n",
      "    There is ABSOLUTELY NO WARRANTY; not even for MERCHANTABILITY or\n",
      "    FITNESS FOR A PARTICULAR PURPOSE.  For details, see 'pyAgrum.warranty'.\n",
      "    \n"
     ]
    },
    {
     "name": "stderr",
     "output_type": "stream",
     "text": [
      "  0%|          | 19/1000000 [00:03<52:24:59,  5.30it/s]\n",
      "  0%|          | 19/1000000 [00:03<54:41:34,  5.08it/s]\n"
     ]
    },
    {
     "name": "stdout",
     "output_type": "stream",
     "text": [
      " /root/sachs.csv : [ ######################################################### ] 100%\n",
      "Log2-Likelihood : -30794.08810083436\n"
     ]
    },
    {
     "name": "stderr",
     "output_type": "stream",
     "text": [
      "Working for n conditional variables: 1:  20%|██        | 1/5 [00:00<00:00, 87.64it/s] \n",
      "Working for n conditional variables: 2:  40%|████      | 2/5 [00:00<00:00, 149.57it/s]\n",
      "Working for n conditional variables: 1:  20%|██        | 1/5 [00:00<00:00, 72.53it/s]\n",
      "  0%|          | 0/1000000 [00:00<?, ?it/s]"
     ]
    },
    {
     "name": "stdout",
     "output_type": "stream",
     "text": [
      "[('PKA', 'Erk')]\n",
      "[frozenset({'PKA', 'PIP3'}), frozenset({'Erk', 'PKA'}), frozenset({'Erk', 'PIP3'})]\n",
      "('Erk', 'PKA')\n",
      "[]\n",
      "[('PIP3', 'Erk'), ('Erk', 'PKA'), ('PIP3', 'PKA'), ('Erk', 'PIP3'), ('PKA', 'PIP3')]\n",
      "pyAgrum version 0.19.0\n",
      "(c) 2015-2020 Pierre-Henri Wuillemin, Christophe Gonzales, Lionel Torti\n",
      "\n",
      "    This is free software; see the source code for copying conditions.\n",
      "    There is ABSOLUTELY NO WARRANTY; not even for MERCHANTABILITY or\n",
      "    FITNESS FOR A PARTICULAR PURPOSE.  For details, see 'pyAgrum.warranty'.\n",
      "    \n"
     ]
    },
    {
     "name": "stderr",
     "output_type": "stream",
     "text": [
      "  0%|          | 19/1000000 [00:04<60:09:01,  4.62it/s]\n",
      "  0%|          | 19/1000000 [00:03<58:21:49,  4.76it/s]\n"
     ]
    },
    {
     "name": "stdout",
     "output_type": "stream",
     "text": [
      " /root/sachs.csv : [ ######################################################### ] 100%\n",
      "Log2-Likelihood : -31093.54551200036\n"
     ]
    },
    {
     "name": "stderr",
     "output_type": "stream",
     "text": [
      "Working for n conditional variables: 2:  40%|████      | 2/5 [00:00<00:00, 153.51it/s]\n",
      "Working for n conditional variables: 1:  20%|██        | 1/5 [00:00<00:00, 86.65it/s] \n",
      "Working for n conditional variables: 1:  20%|██        | 1/5 [00:00<00:00, 68.51it/s]\n",
      "  0%|          | 0/1000000 [00:00<?, ?it/s]"
     ]
    },
    {
     "name": "stdout",
     "output_type": "stream",
     "text": [
      "[('PKA', 'Erk')]\n",
      "[frozenset({'Erk', 'PKA'}), frozenset({'PKA', 'PIP3'}), frozenset({'Erk', 'PIP3'})]\n",
      "('Erk', 'PKA')\n",
      "[]\n",
      "[('PIP3', 'Erk'), ('Erk', 'PKA'), ('PIP3', 'PKA'), ('Erk', 'PIP3'), ('PKA', 'PIP3')]\n",
      "pyAgrum version 0.19.0\n",
      "(c) 2015-2020 Pierre-Henri Wuillemin, Christophe Gonzales, Lionel Torti\n",
      "\n",
      "    This is free software; see the source code for copying conditions.\n",
      "    There is ABSOLUTELY NO WARRANTY; not even for MERCHANTABILITY or\n",
      "    FITNESS FOR A PARTICULAR PURPOSE.  For details, see 'pyAgrum.warranty'.\n",
      "    \n"
     ]
    },
    {
     "name": "stderr",
     "output_type": "stream",
     "text": [
      "  0%|          | 20/1000000 [00:04<56:53:50,  4.88it/s]\n",
      "  0%|          | 19/1000000 [00:03<54:52:57,  5.06it/s]\n"
     ]
    },
    {
     "name": "stdout",
     "output_type": "stream",
     "text": [
      " /root/sachs.csv : [ ######################################################### ] 100%\n",
      "Log2-Likelihood : -31151.383832892916\n"
     ]
    },
    {
     "name": "stderr",
     "output_type": "stream",
     "text": [
      "Working for n conditional variables: 1:  20%|██        | 1/5 [00:00<00:00, 80.51it/s]\n",
      "Working for n conditional variables: 1:  20%|██        | 1/5 [00:00<00:00, 112.40it/s]\n",
      "Working for n conditional variables: 2:  40%|████      | 2/5 [00:00<00:00, 190.98it/s]\n",
      "  0%|          | 0/1000000 [00:00<?, ?it/s]"
     ]
    },
    {
     "name": "stdout",
     "output_type": "stream",
     "text": [
      "[('PKA', 'Erk')]\n",
      "[frozenset({'Erk', 'PIP3'}), frozenset({'PKA', 'PIP3'}), frozenset({'Erk', 'PKA'})]\n",
      "('Erk', 'PKA')\n",
      "[]\n",
      "[('PIP3', 'Erk'), ('Erk', 'PKA'), ('PIP3', 'PKA'), ('Erk', 'PIP3'), ('PKA', 'PIP3')]\n",
      "pyAgrum version 0.19.0\n",
      "(c) 2015-2020 Pierre-Henri Wuillemin, Christophe Gonzales, Lionel Torti\n",
      "\n",
      "    This is free software; see the source code for copying conditions.\n",
      "    There is ABSOLUTELY NO WARRANTY; not even for MERCHANTABILITY or\n",
      "    FITNESS FOR A PARTICULAR PURPOSE.  For details, see 'pyAgrum.warranty'.\n",
      "    \n"
     ]
    },
    {
     "name": "stderr",
     "output_type": "stream",
     "text": [
      "  0%|          | 18/1000000 [00:03<59:58:09,  4.63it/s]\n",
      "  0%|          | 19/1000000 [00:03<56:35:40,  4.91it/s]\n"
     ]
    },
    {
     "name": "stdout",
     "output_type": "stream",
     "text": [
      " /root/sachs.csv : [ ######################################################### ] 100%\n",
      "Log2-Likelihood : -31151.132679271643\n"
     ]
    },
    {
     "name": "stderr",
     "output_type": "stream",
     "text": [
      "Working for n conditional variables: 1:  20%|██        | 1/5 [00:00<00:00, 82.42it/s]\n",
      "Working for n conditional variables: 2:  40%|████      | 2/5 [00:00<00:00, 130.11it/s]\n",
      "Working for n conditional variables: 1:  20%|██        | 1/5 [00:00<00:00, 85.93it/s] \n",
      "  0%|          | 0/1000000 [00:00<?, ?it/s]"
     ]
    },
    {
     "name": "stdout",
     "output_type": "stream",
     "text": [
      "[('PKA', 'Erk')]\n",
      "[frozenset({'PKA', 'PIP3'}), frozenset({'Erk', 'PKA'}), frozenset({'Erk', 'PIP3'})]\n",
      "('Erk', 'PKA')\n",
      "[]\n",
      "[('PIP3', 'Erk'), ('Erk', 'PKA'), ('PIP3', 'PKA'), ('Erk', 'PIP3'), ('PKA', 'PIP3')]\n",
      "pyAgrum version 0.19.0\n",
      "(c) 2015-2020 Pierre-Henri Wuillemin, Christophe Gonzales, Lionel Torti\n",
      "\n",
      "    This is free software; see the source code for copying conditions.\n",
      "    There is ABSOLUTELY NO WARRANTY; not even for MERCHANTABILITY or\n",
      "    FITNESS FOR A PARTICULAR PURPOSE.  For details, see 'pyAgrum.warranty'.\n",
      "    \n"
     ]
    },
    {
     "name": "stderr",
     "output_type": "stream",
     "text": [
      "  0%|          | 20/1000000 [00:04<57:27:30,  4.83it/s]\n",
      "  0%|          | 19/1000000 [00:04<58:35:17,  4.74it/s]\n"
     ]
    },
    {
     "name": "stdout",
     "output_type": "stream",
     "text": [
      " /root/sachs.csv : [ ######################################################### ] 100%\n",
      "Log2-Likelihood : -30944.581844171676\n"
     ]
    },
    {
     "name": "stderr",
     "output_type": "stream",
     "text": [
      "Working for n conditional variables: 1:  20%|██        | 1/5 [00:00<00:00, 103.81it/s]\n",
      "Working for n conditional variables: 2:  40%|████      | 2/5 [00:00<00:00, 180.71it/s]\n",
      "Working for n conditional variables: 1:  20%|██        | 1/5 [00:00<00:00, 95.76it/s] \n",
      "  0%|          | 0/1000000 [00:00<?, ?it/s]"
     ]
    },
    {
     "name": "stdout",
     "output_type": "stream",
     "text": [
      "[('PKA', 'Erk')]\n",
      "[frozenset({'Erk', 'PIP3'}), frozenset({'Erk', 'PKA'}), frozenset({'PKA', 'PIP3'})]\n",
      "('Erk', 'PKA')\n",
      "[]\n",
      "[('PIP3', 'Erk'), ('Erk', 'PKA'), ('PIP3', 'PKA'), ('Erk', 'PIP3'), ('PKA', 'PIP3')]\n",
      "pyAgrum version 0.19.0\n",
      "(c) 2015-2020 Pierre-Henri Wuillemin, Christophe Gonzales, Lionel Torti\n",
      "\n",
      "    This is free software; see the source code for copying conditions.\n",
      "    There is ABSOLUTELY NO WARRANTY; not even for MERCHANTABILITY or\n",
      "    FITNESS FOR A PARTICULAR PURPOSE.  For details, see 'pyAgrum.warranty'.\n",
      "    \n"
     ]
    },
    {
     "name": "stderr",
     "output_type": "stream",
     "text": [
      "  0%|          | 20/1000000 [00:04<55:41:23,  4.99it/s]\n",
      "  0%|          | 20/1000000 [00:03<55:23:38,  5.01it/s]\n"
     ]
    },
    {
     "name": "stdout",
     "output_type": "stream",
     "text": [
      " /root/sachs.csv : [ ######################################################### ] 100%\n",
      "Log2-Likelihood : -31025.346704542502\n"
     ]
    },
    {
     "name": "stderr",
     "output_type": "stream",
     "text": [
      "Working for n conditional variables: 2:  40%|████      | 2/5 [00:00<00:00, 152.41it/s]\n",
      "Working for n conditional variables: 1:  20%|██        | 1/5 [00:00<00:00, 96.68it/s] \n",
      "Working for n conditional variables: 1:  20%|██        | 1/5 [00:00<00:00, 87.39it/s] \n",
      "  0%|          | 0/1000000 [00:00<?, ?it/s]"
     ]
    },
    {
     "name": "stdout",
     "output_type": "stream",
     "text": [
      "[('PKA', 'Erk')]\n",
      "[frozenset({'Erk', 'PKA'}), frozenset({'PKA', 'PIP3'}), frozenset({'Erk', 'PIP3'})]\n",
      "('Erk', 'PKA')\n",
      "[]\n",
      "[('PIP3', 'Erk'), ('Erk', 'PKA'), ('PIP3', 'PKA'), ('Erk', 'PIP3'), ('PKA', 'PIP3')]\n",
      "pyAgrum version 0.19.0\n",
      "(c) 2015-2020 Pierre-Henri Wuillemin, Christophe Gonzales, Lionel Torti\n",
      "\n",
      "    This is free software; see the source code for copying conditions.\n",
      "    There is ABSOLUTELY NO WARRANTY; not even for MERCHANTABILITY or\n",
      "    FITNESS FOR A PARTICULAR PURPOSE.  For details, see 'pyAgrum.warranty'.\n",
      "    \n"
     ]
    },
    {
     "name": "stderr",
     "output_type": "stream",
     "text": [
      "  0%|          | 17/1000000 [00:03<58:35:53,  4.74it/s]\n",
      "  0%|          | 17/1000000 [00:03<54:41:59,  5.08it/s]\n"
     ]
    },
    {
     "name": "stdout",
     "output_type": "stream",
     "text": [
      " /root/sachs.csv : [ ######################################################### ] 100%root/sachs.csv : [ #####################################################     ] 93%\n",
      "Log2-Likelihood : -51973.330517457245\n"
     ]
    },
    {
     "name": "stderr",
     "output_type": "stream",
     "text": [
      "Working for n conditional variables: 1:  20%|██        | 1/5 [00:00<00:00, 70.61it/s]\n",
      "Working for n conditional variables: 2:  40%|████      | 2/5 [00:00<00:00, 172.72it/s]\n",
      "Working for n conditional variables: 1:  20%|██        | 1/5 [00:00<00:00, 81.67it/s]\n",
      "  0%|          | 0/1000000 [00:00<?, ?it/s]"
     ]
    },
    {
     "name": "stdout",
     "output_type": "stream",
     "text": [
      "[('PKA', 'Erk')]\n",
      "[frozenset({'PKA', 'PIP3'}), frozenset({'Erk', 'PKA'}), frozenset({'Erk', 'PIP3'})]\n",
      "('Erk', 'PKA')\n",
      "[]\n",
      "[('PIP3', 'Erk'), ('Erk', 'PKA'), ('PIP3', 'PKA'), ('Erk', 'PIP3'), ('PKA', 'PIP3')]\n",
      "pyAgrum version 0.19.0\n",
      "(c) 2015-2020 Pierre-Henri Wuillemin, Christophe Gonzales, Lionel Torti\n",
      "\n",
      "    This is free software; see the source code for copying conditions.\n",
      "    There is ABSOLUTELY NO WARRANTY; not even for MERCHANTABILITY or\n",
      "    FITNESS FOR A PARTICULAR PURPOSE.  For details, see 'pyAgrum.warranty'.\n",
      "    \n"
     ]
    },
    {
     "name": "stderr",
     "output_type": "stream",
     "text": [
      "  0%|          | 19/1000000 [00:03<58:07:32,  4.78it/s]\n",
      "  0%|          | 19/1000000 [00:04<59:00:25,  4.71it/s]\n"
     ]
    },
    {
     "name": "stdout",
     "output_type": "stream",
     "text": [
      " /root/sachs.csv : [ ######################################################### ] 100%\n",
      "Log2-Likelihood : -51858.477380246\n"
     ]
    },
    {
     "name": "stderr",
     "output_type": "stream",
     "text": [
      "Working for n conditional variables: 2:  40%|████      | 2/5 [00:00<00:00, 164.85it/s]\n",
      "Working for n conditional variables: 1:  20%|██        | 1/5 [00:00<00:00, 103.92it/s]\n",
      "Working for n conditional variables: 1:  20%|██        | 1/5 [00:00<00:00, 83.41it/s]\n",
      "  0%|          | 0/1000000 [00:00<?, ?it/s]"
     ]
    },
    {
     "name": "stdout",
     "output_type": "stream",
     "text": [
      "[('PKA', 'Erk')]\n",
      "[frozenset({'Erk', 'PKA'}), frozenset({'PKA', 'PIP3'}), frozenset({'Erk', 'PIP3'})]\n",
      "('Erk', 'PKA')\n",
      "[]\n",
      "[('PIP3', 'Erk'), ('Erk', 'PKA'), ('PIP3', 'PKA'), ('Erk', 'PIP3'), ('PKA', 'PIP3')]\n",
      "pyAgrum version 0.19.0\n",
      "(c) 2015-2020 Pierre-Henri Wuillemin, Christophe Gonzales, Lionel Torti\n",
      "\n",
      "    This is free software; see the source code for copying conditions.\n",
      "    There is ABSOLUTELY NO WARRANTY; not even for MERCHANTABILITY or\n",
      "    FITNESS FOR A PARTICULAR PURPOSE.  For details, see 'pyAgrum.warranty'.\n",
      "    \n"
     ]
    },
    {
     "name": "stderr",
     "output_type": "stream",
     "text": [
      "  0%|          | 19/1000000 [00:04<58:49:59,  4.72it/s]\n",
      "  0%|          | 19/1000000 [00:03<58:05:16,  4.78it/s]\n"
     ]
    },
    {
     "name": "stdout",
     "output_type": "stream",
     "text": [
      " /root/sachs.csv : [ ######################################################### ] 100%\n",
      "Log2-Likelihood : -51288.338337145695\n"
     ]
    },
    {
     "name": "stderr",
     "output_type": "stream",
     "text": [
      "Working for n conditional variables: 1:  20%|██        | 1/5 [00:00<00:00, 121.39it/s]\n",
      "Working for n conditional variables: 1:  20%|██        | 1/5 [00:00<00:00, 109.16it/s]\n",
      "Working for n conditional variables: 2:  40%|████      | 2/5 [00:00<00:00, 210.56it/s]\n",
      "  0%|          | 0/1000000 [00:00<?, ?it/s]"
     ]
    },
    {
     "name": "stdout",
     "output_type": "stream",
     "text": [
      "[('PKA', 'Erk')]\n",
      "[frozenset({'PKA', 'PIP3'}), frozenset({'Erk', 'PIP3'}), frozenset({'Erk', 'PKA'})]\n",
      "('Erk', 'PKA')\n",
      "[]\n",
      "[('PIP3', 'Erk'), ('Erk', 'PKA'), ('PIP3', 'PKA'), ('Erk', 'PIP3'), ('PKA', 'PIP3')]\n",
      "pyAgrum version 0.19.0\n",
      "(c) 2015-2020 Pierre-Henri Wuillemin, Christophe Gonzales, Lionel Torti\n",
      "\n",
      "    This is free software; see the source code for copying conditions.\n",
      "    There is ABSOLUTELY NO WARRANTY; not even for MERCHANTABILITY or\n",
      "    FITNESS FOR A PARTICULAR PURPOSE.  For details, see 'pyAgrum.warranty'.\n",
      "    \n"
     ]
    },
    {
     "name": "stderr",
     "output_type": "stream",
     "text": [
      "  0%|          | 18/1000000 [00:03<57:35:52,  4.82it/s]\n",
      "  0%|          | 18/1000000 [00:03<57:00:06,  4.87it/s]\n"
     ]
    },
    {
     "name": "stdout",
     "output_type": "stream",
     "text": [
      " /root/sachs.csv : [ ######################################################### ] 100%\n",
      "Log2-Likelihood : -51974.12214692218\n"
     ]
    },
    {
     "name": "stderr",
     "output_type": "stream",
     "text": [
      "Working for n conditional variables: 1:  20%|██        | 1/5 [00:00<00:00, 108.79it/s]\n",
      "Working for n conditional variables: 2:  40%|████      | 2/5 [00:00<00:00, 147.45it/s]\n",
      "Working for n conditional variables: 1:  20%|██        | 1/5 [00:00<00:00, 90.46it/s] \n",
      "  0%|          | 0/1000000 [00:00<?, ?it/s]"
     ]
    },
    {
     "name": "stdout",
     "output_type": "stream",
     "text": [
      "[('PKA', 'Erk')]\n",
      "[frozenset({'Erk', 'PIP3'}), frozenset({'Erk', 'PKA'}), frozenset({'PKA', 'PIP3'})]\n",
      "('Erk', 'PKA')\n",
      "[]\n",
      "[('PIP3', 'Erk'), ('Erk', 'PKA'), ('PIP3', 'PKA'), ('Erk', 'PIP3'), ('PKA', 'PIP3')]\n",
      "pyAgrum version 0.19.0\n",
      "(c) 2015-2020 Pierre-Henri Wuillemin, Christophe Gonzales, Lionel Torti\n",
      "\n",
      "    This is free software; see the source code for copying conditions.\n",
      "    There is ABSOLUTELY NO WARRANTY; not even for MERCHANTABILITY or\n",
      "    FITNESS FOR A PARTICULAR PURPOSE.  For details, see 'pyAgrum.warranty'.\n",
      "    \n"
     ]
    },
    {
     "name": "stderr",
     "output_type": "stream",
     "text": [
      "  0%|          | 18/1000000 [00:03<56:44:05,  4.90it/s]\n",
      "  0%|          | 18/1000000 [00:03<58:46:37,  4.73it/s]\n"
     ]
    },
    {
     "name": "stdout",
     "output_type": "stream",
     "text": [
      " /root/sachs.csv : [ ######################################################### ] 100%\n",
      "Log2-Likelihood : -51687.05561713307\n"
     ]
    },
    {
     "name": "stderr",
     "output_type": "stream",
     "text": [
      "Working for n conditional variables: 1:  20%|██        | 1/5 [00:00<00:00, 87.34it/s] \n",
      "Working for n conditional variables: 2:  40%|████      | 2/5 [00:00<00:00, 171.16it/s]\n",
      "Working for n conditional variables: 1:  20%|██        | 1/5 [00:00<00:00, 77.18it/s]\n",
      "  0%|          | 0/1000000 [00:00<?, ?it/s]"
     ]
    },
    {
     "name": "stdout",
     "output_type": "stream",
     "text": [
      "[('PKA', 'Erk')]\n",
      "[frozenset({'PKA', 'PIP3'}), frozenset({'Erk', 'PKA'}), frozenset({'Erk', 'PIP3'})]\n",
      "('Erk', 'PKA')\n",
      "[]\n",
      "[('PIP3', 'Erk'), ('Erk', 'PKA'), ('PIP3', 'PKA'), ('Erk', 'PIP3'), ('PKA', 'PIP3')]\n",
      "pyAgrum version 0.19.0\n",
      "(c) 2015-2020 Pierre-Henri Wuillemin, Christophe Gonzales, Lionel Torti\n",
      "\n",
      "    This is free software; see the source code for copying conditions.\n",
      "    There is ABSOLUTELY NO WARRANTY; not even for MERCHANTABILITY or\n",
      "    FITNESS FOR A PARTICULAR PURPOSE.  For details, see 'pyAgrum.warranty'.\n",
      "    \n"
     ]
    },
    {
     "name": "stderr",
     "output_type": "stream",
     "text": [
      "  0%|          | 18/1000000 [00:03<60:53:10,  4.56it/s]\n",
      "  0%|          | 18/1000000 [00:03<56:43:01,  4.90it/s]\n"
     ]
    },
    {
     "name": "stdout",
     "output_type": "stream",
     "text": [
      " /root/sachs.csv : [ ######################################################### ] 100%\n",
      "Log2-Likelihood : -51492.325756723\n"
     ]
    },
    {
     "name": "stderr",
     "output_type": "stream",
     "text": [
      "Working for n conditional variables: 1:  20%|██        | 1/5 [00:00<00:00, 87.55it/s] \n",
      "Working for n conditional variables: 2:  40%|████      | 2/5 [00:00<00:00, 172.95it/s]\n",
      "Working for n conditional variables: 1:  20%|██        | 1/5 [00:00<00:00, 83.23it/s] \n",
      "  0%|          | 0/1000000 [00:00<?, ?it/s]"
     ]
    },
    {
     "name": "stdout",
     "output_type": "stream",
     "text": [
      "[('PKA', 'Erk')]\n",
      "[frozenset({'Erk', 'PIP3'}), frozenset({'Erk', 'PKA'}), frozenset({'PKA', 'PIP3'})]\n",
      "('Erk', 'PKA')\n",
      "[]\n",
      "[('PIP3', 'Erk'), ('Erk', 'PKA'), ('PIP3', 'PKA'), ('Erk', 'PIP3'), ('PKA', 'PIP3')]\n",
      "pyAgrum version 0.19.0\n",
      "(c) 2015-2020 Pierre-Henri Wuillemin, Christophe Gonzales, Lionel Torti\n",
      "\n",
      "    This is free software; see the source code for copying conditions.\n",
      "    There is ABSOLUTELY NO WARRANTY; not even for MERCHANTABILITY or\n",
      "    FITNESS FOR A PARTICULAR PURPOSE.  For details, see 'pyAgrum.warranty'.\n",
      "    \n"
     ]
    },
    {
     "name": "stderr",
     "output_type": "stream",
     "text": [
      "  0%|          | 17/1000000 [00:03<56:58:10,  4.88it/s]\n",
      "  0%|          | 17/1000000 [00:03<58:03:00,  4.79it/s]\n"
     ]
    },
    {
     "name": "stdout",
     "output_type": "stream",
     "text": [
      " /root/sachs.csv : [ ######################################################### ] 100%\n",
      "Log2-Likelihood : -51531.32259769379\n"
     ]
    },
    {
     "name": "stderr",
     "output_type": "stream",
     "text": [
      "Working for n conditional variables: 1:  20%|██        | 1/5 [00:00<00:00, 80.17it/s]\n",
      "Working for n conditional variables: 2:  40%|████      | 2/5 [00:00<00:00, 162.88it/s]\n",
      "Working for n conditional variables: 1:  20%|██        | 1/5 [00:00<00:00, 66.21it/s]\n",
      "  0%|          | 0/1000000 [00:00<?, ?it/s]"
     ]
    },
    {
     "name": "stdout",
     "output_type": "stream",
     "text": [
      "[('PKA', 'Erk')]\n",
      "[frozenset({'PKA', 'PIP3'}), frozenset({'Erk', 'PKA'}), frozenset({'Erk', 'PIP3'})]\n",
      "('Erk', 'PKA')\n",
      "[]\n",
      "[('PIP3', 'Erk'), ('Erk', 'PKA'), ('PIP3', 'PKA'), ('Erk', 'PIP3'), ('PKA', 'PIP3')]\n",
      "pyAgrum version 0.19.0\n",
      "(c) 2015-2020 Pierre-Henri Wuillemin, Christophe Gonzales, Lionel Torti\n",
      "\n",
      "    This is free software; see the source code for copying conditions.\n",
      "    There is ABSOLUTELY NO WARRANTY; not even for MERCHANTABILITY or\n",
      "    FITNESS FOR A PARTICULAR PURPOSE.  For details, see 'pyAgrum.warranty'.\n",
      "    \n"
     ]
    },
    {
     "name": "stderr",
     "output_type": "stream",
     "text": [
      "  0%|          | 20/1000000 [00:04<56:41:32,  4.90it/s]\n",
      "  0%|          | 20/1000000 [00:04<60:09:40,  4.62it/s]\n"
     ]
    },
    {
     "name": "stdout",
     "output_type": "stream",
     "text": [
      " /root/sachs.csv : [ ######################################################### ] 100%\n",
      "Log2-Likelihood : -52259.62107064626\n",
      "[('PKA', 'Erk')]\n",
      "[frozenset({'PKA', 'PIP3'}), frozenset({'Erk', 'PKA'}), frozenset({'Erk', 'PIP3'})]\n"
     ]
    },
    {
     "name": "stderr",
     "output_type": "stream",
     "text": [
      "Working for n conditional variables: 1:  20%|██        | 1/5 [00:00<00:00,  4.46it/s]\n",
      "Working for n conditional variables: 2:  40%|████      | 2/5 [00:00<00:00, 81.48it/s]\n",
      "Working for n conditional variables: 1:  20%|██        | 1/5 [00:00<00:00, 45.76it/s]\n"
     ]
    },
    {
     "name": "stdout",
     "output_type": "stream",
     "text": [
      "('Erk', 'PKA')\n",
      "[]\n",
      "[('PIP3', 'Erk'), ('Erk', 'PKA'), ('PIP3', 'PKA'), ('Erk', 'PIP3'), ('PKA', 'PIP3')]\n",
      "pyAgrum version 0.19.0\n",
      "(c) 2015-2020 Pierre-Henri Wuillemin, Christophe Gonzales, Lionel Torti\n",
      "\n",
      "    This is free software; see the source code for copying conditions.\n",
      "    There is ABSOLUTELY NO WARRANTY; not even for MERCHANTABILITY or\n",
      "    FITNESS FOR A PARTICULAR PURPOSE.  For details, see 'pyAgrum.warranty'.\n",
      "    \n"
     ]
    },
    {
     "name": "stderr",
     "output_type": "stream",
     "text": [
      "  0%|          | 17/1000000 [00:05<89:02:47,  3.12it/s]\n",
      "  0%|          | 17/1000000 [00:04<67:43:23,  4.10it/s]\n"
     ]
    },
    {
     "name": "stdout",
     "output_type": "stream",
     "text": [
      " /root/sachs.csv : [ ######################################################### ] 100%root/sachs.csv : [ ########################################################  ] 99%\n",
      "Log2-Likelihood : -51950.9692088327\n"
     ]
    },
    {
     "name": "stderr",
     "output_type": "stream",
     "text": [
      "Working for n conditional variables: 2:  40%|████      | 2/5 [00:00<00:00, 78.72it/s]\n",
      "Working for n conditional variables: 1:  20%|██        | 1/5 [00:00<00:00, 75.83it/s]\n",
      "Working for n conditional variables: 1:  20%|██        | 1/5 [00:00<00:00, 73.33it/s]"
     ]
    },
    {
     "name": "stdout",
     "output_type": "stream",
     "text": [
      "[('PKA', 'Erk')]\n",
      "[frozenset({'Erk', 'PKA'}), frozenset({'PKA', 'PIP3'}), frozenset({'Erk', 'PIP3'})]\n",
      "('Erk', 'PKA')\n",
      "[]\n",
      "[('PIP3', 'Erk'), ('Erk', 'PKA'), ('PIP3', 'PKA'), ('Erk', 'PIP3'), ('PKA', 'PIP3')]\n",
      "pyAgrum version 0.19.0\n",
      "(c) 2015-2020 Pierre-Henri Wuillemin, Christophe Gonzales, Lionel Torti\n",
      "\n",
      "    This is free software; see the source code for copying conditions.\n",
      "    There is ABSOLUTELY NO WARRANTY; not even for MERCHANTABILITY or\n",
      "    FITNESS FOR A PARTICULAR PURPOSE.  For details, see 'pyAgrum.warranty'.\n",
      "    \n"
     ]
    },
    {
     "name": "stderr",
     "output_type": "stream",
     "text": [
      "\n",
      "  0%|          | 19/1000000 [00:04<70:18:19,  3.95it/s]\n",
      "  0%|          | 19/1000000 [00:04<63:34:28,  4.37it/s]\n"
     ]
    },
    {
     "name": "stdout",
     "output_type": "stream",
     "text": [
      " /root/sachs.csv : [ ######################################################### ] 100%\n",
      "Log2-Likelihood : -52205.065533900255\n"
     ]
    },
    {
     "name": "stderr",
     "output_type": "stream",
     "text": [
      "Working for n conditional variables: 1:  20%|██        | 1/5 [00:00<00:00, 24.05it/s]\n",
      "Working for n conditional variables: 2:  40%|████      | 2/5 [00:00<00:00, 161.41it/s]\n",
      "Working for n conditional variables: 1:  20%|██        | 1/5 [00:00<00:00, 125.46it/s]"
     ]
    },
    {
     "name": "stdout",
     "output_type": "stream",
     "text": [
      "[('PKA', 'Erk')]\n",
      "[frozenset({'PKA', 'PIP3'}), frozenset({'Erk', 'PKA'}), frozenset({'Erk', 'PIP3'})]\n",
      "('Erk', 'PKA')\n",
      "[]\n",
      "[('PIP3', 'Erk'), ('Erk', 'PKA'), ('PIP3', 'PKA'), ('Erk', 'PIP3'), ('PKA', 'PIP3')]\n",
      "pyAgrum version 0.19.0\n",
      "(c) 2015-2020 Pierre-Henri Wuillemin, Christophe Gonzales, Lionel Torti\n",
      "\n",
      "    This is free software; see the source code for copying conditions.\n",
      "    There is ABSOLUTELY NO WARRANTY; not even for MERCHANTABILITY or\n",
      "    FITNESS FOR A PARTICULAR PURPOSE.  For details, see 'pyAgrum.warranty'.\n",
      "    \n"
     ]
    },
    {
     "name": "stderr",
     "output_type": "stream",
     "text": [
      "\n",
      "  0%|          | 19/1000000 [00:03<49:43:49,  5.59it/s]\n",
      "  0%|          | 18/1000000 [00:07<111:49:07,  2.48it/s]\n"
     ]
    },
    {
     "name": "stdout",
     "output_type": "stream",
     "text": [
      " /root/sachs.csv : [ ######################################################### ] 100%\n",
      "Log2-Likelihood : -52029.85951912509\n"
     ]
    },
    {
     "name": "stderr",
     "output_type": "stream",
     "text": [
      "Working for n conditional variables: 2:  40%|████      | 2/5 [00:00<00:00, 213.70it/s]\n",
      "Working for n conditional variables: 1:  20%|██        | 1/5 [00:00<00:00, 102.32it/s]\n",
      "Working for n conditional variables: 1:  20%|██        | 1/5 [00:00<00:00, 130.04it/s]\n",
      "  0%|          | 0/1000000 [00:00<?, ?it/s]"
     ]
    },
    {
     "name": "stdout",
     "output_type": "stream",
     "text": [
      "[('PKA', 'Erk')]\n",
      "[frozenset({'Erk', 'PKA'}), frozenset({'Erk', 'PIP3'}), frozenset({'PKA', 'PIP3'})]\n",
      "('Erk', 'PKA')\n",
      "[]\n",
      "[('PIP3', 'Erk'), ('Erk', 'PKA'), ('PIP3', 'PKA'), ('Erk', 'PIP3'), ('PKA', 'PIP3')]\n",
      "pyAgrum version 0.19.0\n",
      "(c) 2015-2020 Pierre-Henri Wuillemin, Christophe Gonzales, Lionel Torti\n",
      "\n",
      "    This is free software; see the source code for copying conditions.\n",
      "    There is ABSOLUTELY NO WARRANTY; not even for MERCHANTABILITY or\n",
      "    FITNESS FOR A PARTICULAR PURPOSE.  For details, see 'pyAgrum.warranty'.\n",
      "    \n"
     ]
    },
    {
     "name": "stderr",
     "output_type": "stream",
     "text": [
      "  0%|          | 19/1000000 [00:03<47:36:37,  5.83it/s]\n",
      "  0%|          | 19/1000000 [00:03<46:20:52,  5.99it/s]\n"
     ]
    },
    {
     "name": "stdout",
     "output_type": "stream",
     "text": [
      " /root/sachs.csv : [ ######################################################### ] 100%\n",
      "Log2-Likelihood : -52233.3383288644\n"
     ]
    },
    {
     "name": "stderr",
     "output_type": "stream",
     "text": [
      "Working for n conditional variables: 1:  20%|██        | 1/5 [00:00<00:00, 64.76it/s]\n",
      "Working for n conditional variables: 1:  20%|██        | 1/5 [00:00<00:00, 76.18it/s]\n",
      "Working for n conditional variables: 2:  40%|████      | 2/5 [00:00<00:00, 110.67it/s]\n",
      "  0%|          | 0/1000000 [00:00<?, ?it/s]"
     ]
    },
    {
     "name": "stdout",
     "output_type": "stream",
     "text": [
      "[('PKA', 'Erk')]\n",
      "[frozenset({'Erk', 'PIP3'}), frozenset({'PKA', 'PIP3'}), frozenset({'Erk', 'PKA'})]\n",
      "('Erk', 'PKA')\n",
      "[]\n",
      "[('PIP3', 'Erk'), ('Erk', 'PKA'), ('PIP3', 'PKA'), ('Erk', 'PIP3'), ('PKA', 'PIP3')]\n",
      "pyAgrum version 0.19.0\n",
      "(c) 2015-2020 Pierre-Henri Wuillemin, Christophe Gonzales, Lionel Torti\n",
      "\n",
      "    This is free software; see the source code for copying conditions.\n",
      "    There is ABSOLUTELY NO WARRANTY; not even for MERCHANTABILITY or\n",
      "    FITNESS FOR A PARTICULAR PURPOSE.  For details, see 'pyAgrum.warranty'.\n",
      "    \n"
     ]
    },
    {
     "name": "stderr",
     "output_type": "stream",
     "text": [
      "  0%|          | 20/1000000 [00:04<59:07:39,  4.70it/s]\n",
      "  0%|          | 20/1000000 [00:03<47:30:20,  5.85it/s]\n"
     ]
    },
    {
     "name": "stdout",
     "output_type": "stream",
     "text": [
      " /root/sachs.csv : [ ######################################################### ] 100%\n",
      "Log2-Likelihood : -51572.33776149343\n"
     ]
    },
    {
     "name": "stderr",
     "output_type": "stream",
     "text": [
      "Working for n conditional variables: 1:  20%|██        | 1/5 [00:00<00:00, 112.45it/s]\n",
      "Working for n conditional variables: 2:  40%|████      | 2/5 [00:00<00:00, 188.88it/s]\n",
      "Working for n conditional variables: 1:  20%|██        | 1/5 [00:00<00:00, 128.29it/s]\n",
      "  0%|          | 0/1000000 [00:00<?, ?it/s]"
     ]
    },
    {
     "name": "stdout",
     "output_type": "stream",
     "text": [
      "[('PKA', 'Erk')]\n",
      "[frozenset({'PKA', 'PIP3'}), frozenset({'Erk', 'PKA'}), frozenset({'Erk', 'PIP3'})]\n",
      "('Erk', 'PKA')\n",
      "[]\n",
      "[('PIP3', 'Erk'), ('Erk', 'PKA'), ('PIP3', 'PKA'), ('Erk', 'PIP3'), ('PKA', 'PIP3')]\n",
      "pyAgrum version 0.19.0\n",
      "(c) 2015-2020 Pierre-Henri Wuillemin, Christophe Gonzales, Lionel Torti\n",
      "\n",
      "    This is free software; see the source code for copying conditions.\n",
      "    There is ABSOLUTELY NO WARRANTY; not even for MERCHANTABILITY or\n",
      "    FITNESS FOR A PARTICULAR PURPOSE.  For details, see 'pyAgrum.warranty'.\n",
      "    \n"
     ]
    },
    {
     "name": "stderr",
     "output_type": "stream",
     "text": [
      "  0%|          | 17/1000000 [00:02<47:38:16,  5.83it/s]\n",
      "  0%|          | 18/1000000 [00:03<47:20:16,  5.87it/s]\n"
     ]
    },
    {
     "name": "stdout",
     "output_type": "stream",
     "text": [
      " /root/sachs.csv : [ ######################################################### ] 100%\n",
      "Log2-Likelihood : -51562.476576133886\n"
     ]
    },
    {
     "name": "stderr",
     "output_type": "stream",
     "text": [
      "Working for n conditional variables: 1:  20%|██        | 1/5 [00:00<00:00, 114.16it/s]\n",
      "Working for n conditional variables: 1:  20%|██        | 1/5 [00:00<00:00, 113.69it/s]\n",
      "Working for n conditional variables: 2:  40%|████      | 2/5 [00:00<00:00, 207.77it/s]\n",
      "  0%|          | 0/1000000 [00:00<?, ?it/s]"
     ]
    },
    {
     "name": "stdout",
     "output_type": "stream",
     "text": [
      "[('PKA', 'Erk')]\n",
      "[frozenset({'Erk', 'PIP3'}), frozenset({'PKA', 'PIP3'}), frozenset({'Erk', 'PKA'})]\n",
      "('Erk', 'PKA')\n",
      "[]\n",
      "[('PIP3', 'Erk'), ('Erk', 'PKA'), ('PIP3', 'PKA'), ('Erk', 'PIP3'), ('PKA', 'PIP3')]\n",
      "pyAgrum version 0.19.0\n",
      "(c) 2015-2020 Pierre-Henri Wuillemin, Christophe Gonzales, Lionel Torti\n",
      "\n",
      "    This is free software; see the source code for copying conditions.\n",
      "    There is ABSOLUTELY NO WARRANTY; not even for MERCHANTABILITY or\n",
      "    FITNESS FOR A PARTICULAR PURPOSE.  For details, see 'pyAgrum.warranty'.\n",
      "    \n"
     ]
    },
    {
     "name": "stderr",
     "output_type": "stream",
     "text": [
      "  0%|          | 19/1000000 [00:03<50:40:14,  5.48it/s]\n",
      "  0%|          | 18/1000000 [00:03<49:06:26,  5.66it/s]\n"
     ]
    },
    {
     "name": "stdout",
     "output_type": "stream",
     "text": [
      " /root/sachs.csv : [ ######################################################### ] 100%\n",
      "Log2-Likelihood : -51763.470527963924\n"
     ]
    },
    {
     "name": "stderr",
     "output_type": "stream",
     "text": [
      "Working for n conditional variables: 1:  20%|██        | 1/5 [00:00<00:00, 110.91it/s]\n",
      "Working for n conditional variables: 1:  20%|██        | 1/5 [00:00<00:00, 123.27it/s]\n",
      "Working for n conditional variables: 2:  40%|████      | 2/5 [00:00<00:00, 221.52it/s]\n",
      "  0%|          | 0/1000000 [00:00<?, ?it/s]"
     ]
    },
    {
     "name": "stdout",
     "output_type": "stream",
     "text": [
      "[('PKA', 'Erk')]\n",
      "[frozenset({'Erk', 'PIP3'}), frozenset({'PKA', 'PIP3'}), frozenset({'Erk', 'PKA'})]\n",
      "('Erk', 'PKA')\n",
      "[]\n",
      "[('PIP3', 'Erk'), ('Erk', 'PKA'), ('PIP3', 'PKA'), ('Erk', 'PIP3'), ('PKA', 'PIP3')]\n",
      "pyAgrum version 0.19.0\n",
      "(c) 2015-2020 Pierre-Henri Wuillemin, Christophe Gonzales, Lionel Torti\n",
      "\n",
      "    This is free software; see the source code for copying conditions.\n",
      "    There is ABSOLUTELY NO WARRANTY; not even for MERCHANTABILITY or\n",
      "    FITNESS FOR A PARTICULAR PURPOSE.  For details, see 'pyAgrum.warranty'.\n",
      "    \n"
     ]
    },
    {
     "name": "stderr",
     "output_type": "stream",
     "text": [
      "  0%|          | 19/1000000 [00:03<46:29:14,  5.98it/s]\n",
      "  0%|          | 19/1000000 [00:03<50:03:15,  5.55it/s]\n"
     ]
    }
   ],
   "source": [
    "import matplotlib.pyplot as plt\n",
    "import os\n",
    "import pyAgrum as gum\n",
    "import pandas as pd\n",
    "import numpy as np\n",
    "from pgmpy.estimators import BDeuScore as bds\n",
    "from pgmpy.models import BayesianModel\n",
    "from pgmpy.estimators import HillClimbSearch\n",
    "from pgmpy.estimators import PC\n",
    "\n",
    "gum.about()\n",
    "bn_o=gum.loadBN(os.path.join(\"/root/beyes\",bif_data))\n",
    "final_data=pd.DataFrame(columns=(\"sample_size\",\"weight\",\"best_priori_score\",\"best_origin_score\",\"origin_score\",\"priori_dis\",\"origin_dis\"))\n",
    "for sample_size in sample_sizes:\n",
    "    i=0\n",
    "    for i in range(0,15):\n",
    "        final_data=final_test_optimize(sample_size,final_data)\n",
    "        i=i+1\n",
    "    final_data.to_csv(final_csv_data)\n",
    "#final_data"
   ]
  }
 ],
 "metadata": {
  "kernelspec": {
   "display_name": "Python 3",
   "language": "python",
   "name": "python3"
  },
  "language_info": {
   "codemirror_mode": {
    "name": "ipython",
    "version": 3
   },
   "file_extension": ".py",
   "mimetype": "text/x-python",
   "name": "python",
   "nbconvert_exporter": "python",
   "pygments_lexer": "ipython3",
   "version": "3.7.9"
  }
 },
 "nbformat": 4,
 "nbformat_minor": 5
}
